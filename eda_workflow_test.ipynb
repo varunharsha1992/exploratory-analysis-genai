{
 "cells": [
  {
   "cell_type": "markdown",
   "id": "3d5284b1",
   "metadata": {},
   "source": [
    "# Interactive EDA Workflow\n",
    "\n",
    "This notebook provides a visual interface for running the EDA workflow and displaying results in a focused, organized manner.\n"
   ]
  },
  {
   "cell_type": "code",
   "execution_count": 1,
   "id": "eebd5750-a158-4e82-99f3-db7a31f9c285",
   "metadata": {},
   "outputs": [],
   "source": [
    "%load_ext autoreload\n",
    "%autoreload 2"
   ]
  },
  {
   "cell_type": "code",
   "execution_count": 2,
   "id": "9da9f004",
   "metadata": {},
   "outputs": [
    {
     "name": "stdout",
     "output_type": "stream",
     "text": [
      "✅ Libraries imported successfully\n"
     ]
    }
   ],
   "source": [
    "# Import required libraries\n",
    "import asyncio\n",
    "import sys\n",
    "import os\n",
    "import pandas as pd\n",
    "import matplotlib.pyplot as plt\n",
    "import seaborn as sns\n",
    "import json\n",
    "from IPython.display import display, HTML, Markdown\n",
    "import warnings\n",
    "warnings.filterwarnings('ignore')\n",
    "\n",
    "# Add project root to path\n",
    "sys.path.append(os.path.dirname(os.path.abspath('.')))\n",
    "\n",
    "from EDA.workflow.workflow_execution import execute_eda_workflow\n",
    "from EDA.tools import intugle_agent_tools\n",
    "\n",
    "# Set up plotting style\n",
    "plt.style.use('default')\n",
    "sns.set_palette(\"husl\")\n",
    "\n",
    "print(\"✅ Libraries imported successfully\")\n"
   ]
  },
  {
   "cell_type": "markdown",
   "id": "ac797b2d",
   "metadata": {},
   "source": [
    "## Configuration\n",
    "\n",
    "Configure your EDA workflow parameters here:\n"
   ]
  },
  {
   "cell_type": "code",
   "execution_count": 22,
   "id": "3aee9c2d",
   "metadata": {},
   "outputs": [
    {
     "name": "stdout",
     "output_type": "stream",
     "text": [
      "📋 Configuration loaded:\n",
      "Target Variable: sales.vol\n",
      "EDA Request: What are the factors influencing sales?\n",
      "Hypothesis Limit: 5\n",
      "Files to Process: 11 files\n"
     ]
    }
   ],
   "source": [
    "# Configuration parameters\n",
    "config = {\n",
    "    \"target_variable\": \"sales.vol\",\n",
    "    \"eda_request\": \"What are the factors influencing sales?\",\n",
    "    \"domain_context\": \"This FMCG sales dataset captures the key drivers of product performance in fast-moving consumer goods markets, combining marketing inputs (ad_spends, social), trade and distribution factors (disti, mkt_coverage, retail_audit), pricing dynamics (price_sense, pric_strat), and contextual information (prd_mstr, rnd, cons_fb) to explain variations in sales. It reflects how consumer demand in FMCG is shaped not only by product attributes and pricing but also by visibility, availability, promotions, and brand perception, making it well-suited for analyses such as market mix modeling, demand forecasting, and pricing elasticity studies.\",\n",
    "    \"hypothesis_limit\": 5,\n",
    "    \"simplified\": False,\n",
    "    \"full_data_path\": \"C:/Dev/Data Querying AI/data-tools/sample_data/fmcg\",\n",
    "    \"target_file_name\": \"sales.csv\",\n",
    "    \"files_to_process\": [\n",
    "        \"ad_spends\", \"cons_fb\", \"disti\", \"mkt_coverage\",\n",
    "        \"prd_mstr\", \"price_sense\", \"pric_strat\", \"retail_audit\",\n",
    "        \"rnd\", \"sales\", \"social\"\n",
    "    ]\n",
    "}\n",
    "\n",
    "print(\"📋 Configuration loaded:\")\n",
    "print(f\"Target Variable: {config['target_variable']}\")\n",
    "print(f\"EDA Request: {config['eda_request']}\")\n",
    "print(f\"Hypothesis Limit: {config['hypothesis_limit']}\")\n",
    "print(f\"Files to Process: {len(config['files_to_process'])} files\")\n"
   ]
  },
  {
   "cell_type": "code",
   "execution_count": 4,
   "id": "aff327e4-0228-4949-af7a-e7f0ab886c9a",
   "metadata": {},
   "outputs": [
    {
     "name": "stdout",
     "output_type": "stream",
     "text": [
      "Loading data from: C:/Dev/Data Querying AI/data-tools/sample_data/fmcg\n",
      "✓ Loaded ad_spends\n",
      "✓ Loaded cons_fb\n",
      "✓ Loaded disti\n",
      "✓ Loaded mkt_coverage\n",
      "✓ Loaded prd_mstr\n",
      "✓ Loaded price_sense\n",
      "✓ Loaded pric_strat\n",
      "✓ Loaded retail_audit\n",
      "✓ Loaded rnd\n",
      "✓ Loaded sales\n",
      "✓ Loaded social\n",
      "✅ Loaded 11 datasets for fresh setup\n",
      "Found existing YAML for 'ad_spends'. Checking for staleness.\n",
      "ad_spends loaded\n",
      "Found existing YAML for 'cons_fb'. Checking for staleness.\n",
      "cons_fb loaded\n",
      "Found existing YAML for 'disti'. Checking for staleness.\n",
      "disti loaded\n",
      "Found existing YAML for 'mkt_coverage'. Checking for staleness.\n",
      "mkt_coverage loaded\n",
      "Found existing YAML for 'prd_mstr'. Checking for staleness.\n",
      "prd_mstr loaded\n",
      "Found existing YAML for 'price_sense'. Checking for staleness.\n",
      "price_sense loaded\n",
      "Found existing YAML for 'pric_strat'. Checking for staleness.\n",
      "pric_strat loaded\n",
      "Found existing YAML for 'retail_audit'. Checking for staleness.\n",
      "retail_audit loaded\n",
      "Found existing YAML for 'rnd'. Checking for staleness.\n",
      "rnd loaded\n",
      "Found existing YAML for 'sales'. Checking for staleness.\n",
      "sales loaded\n",
      "Found existing YAML for 'social'. Checking for staleness.\n",
      "social loaded\n"
     ]
    },
    {
     "data": {
      "text/html": [
       "<pre style=\"white-space:pre;overflow-x:auto;line-height:normal;font-family:Menlo,'DejaVu Sans Mono',consolas,'Courier New',monospace\"><span style=\"color: #808000; text-decoration-color: #808000\">Starting profiling and key identification stage...</span>\n",
       "</pre>\n"
      ],
      "text/plain": [
       "\u001b[33mStarting profiling and key identification stage\u001b[0m\u001b[33m...\u001b[0m\n"
      ]
     },
     "metadata": {},
     "output_type": "display_data"
    },
    {
     "name": "stdout",
     "output_type": "stream",
     "text": [
      "Dataset 'ad_spends' already profiled. Skipping.\n",
      "Dataset 'cons_fb' already profiled. Skipping.\n",
      "Dataset 'disti' already profiled. Skipping.\n",
      "Dataset 'mkt_coverage' already profiled. Skipping.\n",
      "Dataset 'prd_mstr' already profiled. Skipping.\n",
      "Dataset 'price_sense' already profiled. Skipping.\n",
      "Dataset 'pric_strat' already profiled. Skipping.\n",
      "Dataset 'retail_audit' already profiled. Skipping.\n",
      "Dataset 'rnd' already profiled. Skipping.\n",
      "Dataset 'sales' already profiled. Skipping.\n",
      "Dataset 'social' already profiled. Skipping.\n"
     ]
    },
    {
     "data": {
      "text/html": [
       "<pre style=\"white-space:pre;overflow-x:auto;line-height:normal;font-family:Menlo,'DejaVu Sans Mono',consolas,'Courier New',monospace\"><span style=\"color: #008000; text-decoration-color: #008000; font-weight: bold\">Profiling and key identification complete.</span>\n",
       "</pre>\n"
      ],
      "text/plain": [
       "\u001b[1;32mProfiling and key identification complete.\u001b[0m\n"
      ]
     },
     "metadata": {},
     "output_type": "display_data"
    },
    {
     "data": {
      "text/html": [
       "<pre style=\"white-space:pre;overflow-x:auto;line-height:normal;font-family:Menlo,'DejaVu Sans Mono',consolas,'Courier New',monospace\"><span style=\"color: #808000; text-decoration-color: #808000\">Starting link prediction stage...</span>\n",
       "</pre>\n"
      ],
      "text/plain": [
       "\u001b[33mStarting link prediction stage\u001b[0m\u001b[33m...\u001b[0m\n"
      ]
     },
     "metadata": {},
     "output_type": "display_data"
    },
    {
     "name": "stdout",
     "output_type": "stream",
     "text": [
      "Dataset 'ad_spends' already processed. Skipping analysis.\n",
      "Dataset 'cons_fb' already processed. Skipping analysis.\n",
      "Dataset 'disti' already processed. Skipping analysis.\n",
      "Dataset 'mkt_coverage' already processed. Skipping analysis.\n",
      "Dataset 'prd_mstr' already processed. Skipping analysis.\n",
      "Dataset 'price_sense' already processed. Skipping analysis.\n",
      "Dataset 'pric_strat' already processed. Skipping analysis.\n",
      "Dataset 'retail_audit' already processed. Skipping analysis.\n",
      "Dataset 'rnd' already processed. Skipping analysis.\n",
      "Dataset 'sales' already processed. Skipping analysis.\n",
      "Dataset 'social' already processed. Skipping analysis.\n",
      "LinkPredictor initialized with datasets: ['ad_spends', 'cons_fb', 'disti', 'mkt_coverage', 'prd_mstr', 'price_sense', 'pric_strat', 'retail_audit', 'rnd', 'sales', 'social']\n"
     ]
    },
    {
     "data": {
      "text/html": [
       "<pre style=\"white-space:pre;overflow-x:auto;line-height:normal;font-family:Menlo,'DejaVu Sans Mono',consolas,'Courier New',monospace\"><span style=\"color: #008000; text-decoration-color: #008000\">Link predictions are up-to-date. Loading from cache.</span>\n",
       "</pre>\n"
      ],
      "text/plain": [
       "\u001b[32mLink predictions are up-to-date. Loading from cache.\u001b[0m\n"
      ]
     },
     "metadata": {},
     "output_type": "display_data"
    },
    {
     "data": {
      "text/html": [
       "<pre style=\"white-space:pre;overflow-x:auto;line-height:normal;font-family:Menlo,'DejaVu Sans Mono',consolas,'Courier New',monospace\"><span style=\"color: #008000; text-decoration-color: #008000; font-weight: bold\">Link prediction complete.</span>\n",
       "</pre>\n"
      ],
      "text/plain": [
       "\u001b[1;32mLink prediction complete.\u001b[0m\n"
      ]
     },
     "metadata": {},
     "output_type": "display_data"
    },
    {
     "data": {
      "text/html": [
       "<pre style=\"white-space:pre;overflow-x:auto;line-height:normal;font-family:Menlo,'DejaVu Sans Mono',consolas,'Courier New',monospace\"><span style=\"color: #808000; text-decoration-color: #808000\">Starting business glossary generation stage...</span>\n",
       "</pre>\n"
      ],
      "text/plain": [
       "\u001b[33mStarting business glossary generation stage\u001b[0m\u001b[33m...\u001b[0m\n"
      ]
     },
     "metadata": {},
     "output_type": "display_data"
    },
    {
     "data": {
      "text/html": [
       "<pre style=\"white-space:pre;overflow-x:auto;line-height:normal;font-family:Menlo,'DejaVu Sans Mono',consolas,'Courier New',monospace\">Glossary for <span style=\"color: #008000; text-decoration-color: #008000\">'ad_spends'</span> already exists. Skipping.\n",
       "</pre>\n"
      ],
      "text/plain": [
       "Glossary for \u001b[32m'ad_spends'\u001b[0m already exists. Skipping.\n"
      ]
     },
     "metadata": {},
     "output_type": "display_data"
    },
    {
     "data": {
      "text/html": [
       "<pre style=\"white-space:pre;overflow-x:auto;line-height:normal;font-family:Menlo,'DejaVu Sans Mono',consolas,'Courier New',monospace\">Glossary for <span style=\"color: #008000; text-decoration-color: #008000\">'cons_fb'</span> already exists. Skipping.\n",
       "</pre>\n"
      ],
      "text/plain": [
       "Glossary for \u001b[32m'cons_fb'\u001b[0m already exists. Skipping.\n"
      ]
     },
     "metadata": {},
     "output_type": "display_data"
    },
    {
     "data": {
      "text/html": [
       "<pre style=\"white-space:pre;overflow-x:auto;line-height:normal;font-family:Menlo,'DejaVu Sans Mono',consolas,'Courier New',monospace\">Glossary for <span style=\"color: #008000; text-decoration-color: #008000\">'disti'</span> already exists. Skipping.\n",
       "</pre>\n"
      ],
      "text/plain": [
       "Glossary for \u001b[32m'disti'\u001b[0m already exists. Skipping.\n"
      ]
     },
     "metadata": {},
     "output_type": "display_data"
    },
    {
     "data": {
      "text/html": [
       "<pre style=\"white-space:pre;overflow-x:auto;line-height:normal;font-family:Menlo,'DejaVu Sans Mono',consolas,'Courier New',monospace\">Glossary for <span style=\"color: #008000; text-decoration-color: #008000\">'mkt_coverage'</span> already exists. Skipping.\n",
       "</pre>\n"
      ],
      "text/plain": [
       "Glossary for \u001b[32m'mkt_coverage'\u001b[0m already exists. Skipping.\n"
      ]
     },
     "metadata": {},
     "output_type": "display_data"
    },
    {
     "data": {
      "text/html": [
       "<pre style=\"white-space:pre;overflow-x:auto;line-height:normal;font-family:Menlo,'DejaVu Sans Mono',consolas,'Courier New',monospace\">Glossary for <span style=\"color: #008000; text-decoration-color: #008000\">'prd_mstr'</span> already exists. Skipping.\n",
       "</pre>\n"
      ],
      "text/plain": [
       "Glossary for \u001b[32m'prd_mstr'\u001b[0m already exists. Skipping.\n"
      ]
     },
     "metadata": {},
     "output_type": "display_data"
    },
    {
     "data": {
      "text/html": [
       "<pre style=\"white-space:pre;overflow-x:auto;line-height:normal;font-family:Menlo,'DejaVu Sans Mono',consolas,'Courier New',monospace\">Glossary for <span style=\"color: #008000; text-decoration-color: #008000\">'price_sense'</span> already exists. Skipping.\n",
       "</pre>\n"
      ],
      "text/plain": [
       "Glossary for \u001b[32m'price_sense'\u001b[0m already exists. Skipping.\n"
      ]
     },
     "metadata": {},
     "output_type": "display_data"
    },
    {
     "data": {
      "text/html": [
       "<pre style=\"white-space:pre;overflow-x:auto;line-height:normal;font-family:Menlo,'DejaVu Sans Mono',consolas,'Courier New',monospace\">Glossary for <span style=\"color: #008000; text-decoration-color: #008000\">'pric_strat'</span> already exists. Skipping.\n",
       "</pre>\n"
      ],
      "text/plain": [
       "Glossary for \u001b[32m'pric_strat'\u001b[0m already exists. Skipping.\n"
      ]
     },
     "metadata": {},
     "output_type": "display_data"
    },
    {
     "data": {
      "text/html": [
       "<pre style=\"white-space:pre;overflow-x:auto;line-height:normal;font-family:Menlo,'DejaVu Sans Mono',consolas,'Courier New',monospace\">Glossary for <span style=\"color: #008000; text-decoration-color: #008000\">'retail_audit'</span> already exists. Skipping.\n",
       "</pre>\n"
      ],
      "text/plain": [
       "Glossary for \u001b[32m'retail_audit'\u001b[0m already exists. Skipping.\n"
      ]
     },
     "metadata": {},
     "output_type": "display_data"
    },
    {
     "data": {
      "text/html": [
       "<pre style=\"white-space:pre;overflow-x:auto;line-height:normal;font-family:Menlo,'DejaVu Sans Mono',consolas,'Courier New',monospace\">Glossary for <span style=\"color: #008000; text-decoration-color: #008000\">'rnd'</span> already exists. Skipping.\n",
       "</pre>\n"
      ],
      "text/plain": [
       "Glossary for \u001b[32m'rnd'\u001b[0m already exists. Skipping.\n"
      ]
     },
     "metadata": {},
     "output_type": "display_data"
    },
    {
     "data": {
      "text/html": [
       "<pre style=\"white-space:pre;overflow-x:auto;line-height:normal;font-family:Menlo,'DejaVu Sans Mono',consolas,'Courier New',monospace\">Glossary for <span style=\"color: #008000; text-decoration-color: #008000\">'sales'</span> already exists. Skipping.\n",
       "</pre>\n"
      ],
      "text/plain": [
       "Glossary for \u001b[32m'sales'\u001b[0m already exists. Skipping.\n"
      ]
     },
     "metadata": {},
     "output_type": "display_data"
    },
    {
     "data": {
      "text/html": [
       "<pre style=\"white-space:pre;overflow-x:auto;line-height:normal;font-family:Menlo,'DejaVu Sans Mono',consolas,'Courier New',monospace\">Glossary for <span style=\"color: #008000; text-decoration-color: #008000\">'social'</span> already exists. Skipping.\n",
       "</pre>\n"
      ],
      "text/plain": [
       "Glossary for \u001b[32m'social'\u001b[0m already exists. Skipping.\n"
      ]
     },
     "metadata": {},
     "output_type": "display_data"
    },
    {
     "data": {
      "text/html": [
       "<pre style=\"white-space:pre;overflow-x:auto;line-height:normal;font-family:Menlo,'DejaVu Sans Mono',consolas,'Courier New',monospace\"><span style=\"color: #008000; text-decoration-color: #008000; font-weight: bold\">Business glossary generation complete.</span>\n",
       "</pre>\n"
      ],
      "text/plain": [
       "\u001b[1;32mBusiness glossary generation complete.\u001b[0m\n"
      ]
     },
     "metadata": {},
     "output_type": "display_data"
    },
    {
     "name": "stdout",
     "output_type": "stream",
     "text": [
      "Initializing semantic search...\n",
      "Semantic search initialized.\n",
      "Found existing YAML for 'ad_spends'. Checking for staleness.\n",
      "ad_spends loaded\n",
      "Found existing YAML for 'cons_fb'. Checking for staleness.\n",
      "cons_fb loaded\n",
      "Found existing YAML for 'disti'. Checking for staleness.\n",
      "disti loaded\n",
      "Found existing YAML for 'mkt_coverage'. Checking for staleness.\n",
      "mkt_coverage loaded\n",
      "Found existing YAML for 'prd_mstr'. Checking for staleness.\n",
      "prd_mstr loaded\n",
      "Found existing YAML for 'price_sense'. Checking for staleness.\n",
      "price_sense loaded\n",
      "Found existing YAML for 'pric_strat'. Checking for staleness.\n",
      "pric_strat loaded\n",
      "Found existing YAML for 'retail_audit'. Checking for staleness.\n",
      "retail_audit loaded\n",
      "Found existing YAML for 'rnd'. Checking for staleness.\n",
      "rnd loaded\n",
      "Found existing YAML for 'sales'. Checking for staleness.\n",
      "sales loaded\n",
      "Found existing YAML for 'social'. Checking for staleness.\n",
      "social loaded\n",
      "✅ Fresh Intugle setup completed with real data\n",
      "✅ Intugle tools initialized with fresh data\n"
     ]
    }
   ],
   "source": [
    "intugle_tools = intugle_agent_tools.IntugleAgentTools(full_data_path=config['full_data_path'], files_to_process=config['files_to_process'])"
   ]
  },
  {
   "cell_type": "code",
   "execution_count": 5,
   "id": "f23a3534-6158-451c-a4dc-9e91c544f307",
   "metadata": {},
   "outputs": [],
   "source": [
    "from EDA.agents.eda_analysis.eda_analysis import EDAAnalysisAgent\n",
    "\n",
    "def debug_etl_schema_creation(hypothesis):\n",
    "    \"\"\"Debug ETL schema creation process\"\"\"\n",
    "    print(f\"\\n=== DEBUGGING ETL SCHEMA CREATION ===\")\n",
    "    print(f\"Hypothesis: {hypothesis.get('hypothesis', 'N/A')}\")\n",
    "    \n",
    "    # Extract hypothesis components\n",
    "    target_var = hypothesis.get(\"target_variable\", {})\n",
    "    predictor_var = hypothesis.get(\"predictor_variable\", {})\n",
    "    data_req = hypothesis.get(\"data_requirements\", {})\n",
    "    \n",
    "    print(f\"Target Variable: {target_var.get('name', 'N/A')}\")\n",
    "    print(f\"Predictor Variable: {predictor_var.get('name', 'N/A')}\")\n",
    "    print(f\"Required Tables: {data_req.get('required_tables', [])}\")\n",
    "    print(f\"Required Columns: {data_req.get('required_columns', [])}\")\n",
    "    \n",
    "    # Create EDA Analysis Agent to test ETL schema creation\n",
    "    try:\n",
    "        eda_agent = EDAAnalysisAgent(\n",
    "            kb=None,\n",
    "            target_variable=target_var.get('name', ''),\n",
    "            timeout=60,\n",
    "            intugle_tools=intugle_tools\n",
    "        )\n",
    "        \n",
    "\n",
    "        print(f\"Running Analysis\")\n",
    "        result = eda_agent.analyze_hypothesis(hypothesis=hypothesis)\n",
    "        print(f\"Analysis result: {result}\")\n",
    "            \n",
    "    except Exception as e:\n",
    "        print(f\"❌ ETL Schema creation error: {str(e)}\")\n",
    "        return False\n",
    "    \n",
    "    return True\n",
    "def create_dummy_hypotheses():\n",
    "    \"\"\"Create dummy hypotheses for testing\"\"\"\n",
    "    return [\n",
    "        {\n",
    "      \"hypothesis_id\": \"hyp_1\",\n",
    "      \"hypothesis\": \"Price sensitivity (price_sense.price_dec) has a log-log relationship with sales volume (sales.vol), indicating that price changes significantly impact sales performance in fast-moving consumer goods.\",\n",
    "      \"target_variable\": {\n",
    "        \"name\": \"sales.vol\",\n",
    "        \"alias\": \"sales_vol\",\n",
    "        \"transformation\": \"none\",\n",
    "        \"measure_func\": \"sum\"\n",
    "      },\n",
    "      \"predictor_variable\": {\n",
    "        \"name\": \"price_sense.price_dec\",\n",
    "        \"alias\": \"price_dec\",\n",
    "        \"transformation\": \"log_log\",\n",
    "        \"measure_func\": \"average\"\n",
    "      },\n",
    "      \"relationship_type\": \"log_log_relationship\",\n",
    "      \"expected_impact\": \"negative\",\n",
    "      \"confidence\": 0.81,\n",
    "      \"research_support\": [\n",
    "        \"Numerous studies in FMCG indicate a significant impact of pricing on sales volume.\",\n",
    "        \"Price elasticity theories support this hypothesis, particularly in competitive markets.\"\n",
    "      ],\n",
    "      \"interaction_features\": [\n",
    "        \"price_sense.price_dec * mkt_coverage.st_cnt\"\n",
    "      ],\n",
    "      \"test_priority\": 0.9,\n",
    "      \"aggregate_by\": {\n",
    "        \"date_sale\": \"sales.date\",\n",
    "        \"product\": \"sales.prod_id\"\n",
    "      },\n",
    "      \"data_requirements\": {\n",
    "        \"required_tables\": [\n",
    "          \"sales\",\n",
    "          \"price_sense\"\n",
    "        ],\n",
    "        \"required_columns\": [\n",
    "          \"sales.vol\",\n",
    "          \"price_sense.price_dec\"\n",
    "        ],\n",
    "        \"join_requirements\": \"sales.prod_id = price_sense.pid\"\n",
    "      }\n",
    "        }\n",
    "            ]\n",
    "\n",
    "def test_eda_worker_loop_agent():\n",
    "    \"\"\"Test the EDA Worker Loop Agent with comprehensive debugging\"\"\"\n",
    "    print(\"=== COMPREHENSIVE EDA WORKER LOOP DEBUGGING ===\")\n",
    "    \n",
    "    # Step 1: Debug KB availability\n",
    "    print(\"\\n\" + \"=\"*60)\n",
    "    \n",
    "    # Step 2: Create dummy hypotheses\n",
    "    print(\"\\n\" + \"=\"*60)\n",
    "    dummy_hypotheses = create_dummy_hypotheses()\n",
    "    print(f\"Created {len(dummy_hypotheses)} dummy hypotheses\")\n",
    "    \n",
    "    # Step 3: Debug ETL schema creation for each hypothesis\n",
    "    print(\"\\n\" + \"=\"*60)\n",
    "    for i, hypothesis in enumerate(dummy_hypotheses):\n",
    "        print(f\"\\n--- DEBUGGING HYPOTHESIS {i+1} ---\")\n",
    "        etl_success = debug_etl_schema_creation(hypothesis)\n",
    "        if not etl_success:\n",
    "            print(f\"❌ ETL schema creation failed for hypothesis {i+1}\")\n",
    "    \n",
    "    # # Step 4: Test EDA Worker Loop Agent with proper EDAWorkflowState\n",
    "    # print(\"\\n\" + \"=\"*60)\n",
    "    # print(\"=== Testing EDA Worker Loop Agent with EDAWorkflowState ===\")\n",
    "    \n",
    "    # # Create proper EDAWorkflowState\n",
    "    # state: EDAWorkflowState = {\n",
    "    #     # Input parameters\n",
    "    #     \"target_variable\": \"sales.vol\",\n",
    "    #     \"eda_request\": \"Analyze the relationship between competitive pricing and sales volume\",\n",
    "    #     \"domain_context\": \"FMCG retail analytics\",\n",
    "    #     \"hypothesis_limit\": 5,\n",
    "    #     \"data\": None,  # No data provided, will use KB\n",
    "        \n",
    "    #     # Agent outputs (initially None)\n",
    "    #     \"univariate_results\": None,\n",
    "    #     \"generated_hypotheses\": dummy_hypotheses,\n",
    "    #     \"hypothesis_testing_results\": None,\n",
    "    #     \"final_summary\": None,\n",
    "        \n",
    "    #     # Workflow metadata\n",
    "    #     \"execution_status\": \"in_progress\",\n",
    "    #     \"error_messages\": [],\n",
    "    #     \"performance_metrics\": {},\n",
    "    #     \"current_agent\": \"eda_worker_loop\",\n",
    "        \n",
    "    #     # Additional workflow state\n",
    "    #     \"start_time\": datetime.now(),\n",
    "    #     \"end_time\": None,\n",
    "    #     \"config\": {\n",
    "    #         \"eda_worker_config\": {\n",
    "    #             \"max_workers\": 3,\n",
    "    #             \"timeout_per_hypothesis\": 60\n",
    "    #         }\n",
    "    #     },\n",
    "    #     \"kb\": None  # Will use fresh data loading\n",
    "    # }\n",
    "    \n",
    "    # print(\"✅ EDAWorkflowState created with proper structure\")\n",
    "    # print(f\"State keys: {list(state.keys())}\")\n",
    "    # print(f\"Target variable: {state['target_variable']}\")\n",
    "    # print(f\"Hypotheses count: {len(state['generated_hypotheses'])}\")\n",
    "    \n",
    "    # # Test the LangGraph node function with proper state\n",
    "    # print(\"\\n--- Testing LangGraph integration with EDAWorkflowState ---\")\n",
    "    # try:\n",
    "    #     # Test the LangGraph node function\n",
    "    #     updated_state = eda_worker_loop_agent(state)\n",
    "    #     print(\"✅ LangGraph integration completed successfully\")\n",
    "    #     print(f\"Updated state keys: {list(updated_state.keys())}\")\n",
    "    #     print(f\"Execution status: {updated_state.get('execution_status')}\")\n",
    "    #     print(f\"Current agent: {updated_state.get('current_agent')}\")\n",
    "        \n",
    "    #     # Check if hypothesis testing results were added\n",
    "    #     if updated_state.get('hypothesis_testing_results'):\n",
    "    #         print(\"✅ Hypothesis testing results found in state\")\n",
    "    #         results = updated_state['hypothesis_testing_results']\n",
    "    #         print(f\"  - Total hypotheses: {results.get('total_hypotheses', 0)}\")\n",
    "    #         print(f\"  - Successful: {results.get('successful_analyses', 0)}\")\n",
    "    #         print(f\"  - Failed: {results.get('failed_analyses', 0)}\")\n",
    "    #     else:\n",
    "    #         print(\"⚠️ No hypothesis testing results in state\")\n",
    "        \n",
    "    # except Exception as e:\n",
    "    #     print(f\"❌ LangGraph integration failed: {str(e)}\")\n",
    "    #     import traceback\n",
    "    #     traceback.print_exc()\n",
    "    #     return False\n",
    "    \n",
    "    # print(\"\\n=== Test completed successfully! ===\")\n",
    "    return True"
   ]
  },
  {
   "cell_type": "code",
   "execution_count": 8,
   "id": "a3136865-7a1b-4abf-a9da-072942640268",
   "metadata": {},
   "outputs": [
    {
     "name": "stdout",
     "output_type": "stream",
     "text": [
      "=== COMPREHENSIVE EDA WORKER LOOP DEBUGGING ===\n",
      "\n",
      "============================================================\n",
      "\n",
      "============================================================\n",
      "Created 1 dummy hypotheses\n",
      "\n",
      "============================================================\n",
      "\n",
      "--- DEBUGGING HYPOTHESIS 1 ---\n",
      "\n",
      "=== DEBUGGING ETL SCHEMA CREATION ===\n",
      "Hypothesis: Price sensitivity (price_sense.price_dec) has a log-log relationship with sales volume (sales.vol), indicating that price changes significantly impact sales performance in fast-moving consumer goods.\n",
      "Target Variable: sales.vol\n",
      "Predictor Variable: price_sense.price_dec\n",
      "Required Tables: ['sales', 'price_sense']\n",
      "Required Columns: ['sales.vol', 'price_sense.price_dec']\n",
      "Running Analysis\n",
      "ETL schema: {'name': 'price_sensitivity_sales_analysis', 'fields': [{'id': 'sales.vol', 'name': 'sales_vol', 'category': 'measure', 'measure_func': 'sum'}, {'id': 'price_sense.price_dec', 'name': 'price_dec', 'category': 'measure', 'measure_func': 'average'}, {'id': 'sales.date', 'name': 'date_sale', 'category': 'dimension'}, {'id': 'sales.prod_id', 'name': 'product', 'category': 'dimension'}], 'filter': {'selections': [], 'limit': 1000}}\n",
      "price_sensitivity_sales_analysis\n",
      "price_sensitivity_sales_analysis loaded\n",
      "Query Generated: SELECT sum(\"sales\".\"vol\") as sales_vol, avg(\"price_sense\".\"price_dec\") as price_dec, \"sales\".\"date\" as date_sale, \"sales\".\"prod_id\" as product FROM price_sense LEFT JOIN sales ON \"price_sense\".\"pid\" = \"sales\".\"prod_id\" GROUP BY \"sales\".\"date\" , \"sales\".\"prod_id\" LIMIT 1000\n",
      "Build result: {'data_product_config': {'name': 'price_sensitivity_sales_analysis', 'fields': [{'id': 'sales.vol', 'name': 'sales_vol', 'category': 'measure', 'measure_func': 'sum'}, {'id': 'price_sense.price_dec', 'name': 'price_dec', 'category': 'measure', 'measure_func': 'average'}, {'id': 'sales.date', 'name': 'date_sale', 'category': 'dimension'}, {'id': 'sales.prod_id', 'name': 'product', 'category': 'dimension'}], 'filter': {'selections': [], 'limit': 1000}}, 'build_result': <intugle.analysis.models.DataSet object at 0x000002ADCC14FAA0>, 'status': 'success'}\n",
      "   sales_vol  price_dec  date_sale product\n",
      "0      389.0      15.24 2021-04-06    P124\n",
      "1      113.0      15.36 2021-09-11    P157\n",
      "2      979.0       8.34 2022-01-23    P183\n",
      "3      217.0      15.68 2022-02-17    P190\n",
      "4      507.0      11.67 2022-10-29    P198\n",
      "Transformed data:    sales_vol  price_dec  date_sale product\n",
      "0      269.0   1.900614 2021-02-17    P108\n",
      "1      217.0   2.923699 2021-02-17    P109\n",
      "2      212.0   2.963209 2021-03-15    P120\n",
      "3      286.0   2.945491 2021-03-26    P122\n",
      "4      121.0   2.887590 2021-04-17    P111\n",
      "Aggregate by fields: ['product']\n",
      "Applying minmax scaling to sales_vol and price_dec by ['product']\n",
      "Visualizations completed\n",
      "Analysis result: {'hypothesis': {'hypothesis_id': 'hyp_1', 'hypothesis': 'Price sensitivity (price_sense.price_dec) has a log-log relationship with sales volume (sales.vol), indicating that price changes significantly impact sales performance in fast-moving consumer goods.', 'target_variable': {'name': 'sales.vol', 'alias': 'sales_vol', 'transformation': 'none', 'measure_func': 'sum'}, 'predictor_variable': {'name': 'price_sense.price_dec', 'alias': 'price_dec', 'transformation': 'log_log', 'measure_func': 'average'}, 'relationship_type': 'log_log_relationship', 'expected_impact': 'negative', 'confidence': 0.81, 'research_support': ['Numerous studies in FMCG indicate a significant impact of pricing on sales volume.', 'Price elasticity theories support this hypothesis, particularly in competitive markets.'], 'interaction_features': ['price_sense.price_dec * mkt_coverage.st_cnt'], 'test_priority': 0.9, 'aggregate_by': {'date_sale': 'sales.date', 'product': 'sales.prod_id'}, 'data_requirements': {'required_tables': ['sales', 'price_sense'], 'required_columns': ['sales.vol', 'price_sense.price_dec'], 'join_requirements': 'sales.prod_id = price_sense.pid'}}, 'etl_schema': {}, 'correlation_analysis': {'correlations': {'pearson': {'correlation': nan, 'p_value': nan, 'significant': False}, 'spearman': {'correlation': nan, 'p_value': nan, 'significant': False}}, 'variables': {'target': 'sales_vol', 'predictor': 'price_dec'}, 'statistics': {'sample_size': 200, 'target_mean': 0.453961981761035, 'predictor_mean': 0.0, 'target_std': 0.4841070891593129, 'predictor_std': 0.0}, 'hypothesis_support': {'direction_match': False, 'significant': False, 'correlation_strength': nan, 'support_score': 0.0, 'expected_impact': 'negative', 'actual_correlation': nan}}, 'visualizations': {'scatter_plot': 'visualizations/scatter_price_dec_sales_vol.png', 'correlation_heatmap': 'visualizations/heatmap_price_dec_sales_vol.png'}, 'feature_engineering_insights': {}, 'statistical_summary': {}, 'status': 'completed'}\n"
     ]
    },
    {
     "data": {
      "text/plain": [
       "True"
      ]
     },
     "execution_count": 8,
     "metadata": {},
     "output_type": "execute_result"
    }
   ],
   "source": [
    "test_eda_worker_loop_agent()"
   ]
  },
  {
   "cell_type": "markdown",
   "id": "6440b255",
   "metadata": {},
   "source": [
    "## Execute EDA Workflow\n",
    "\n",
    "Run the complete EDA workflow:\n"
   ]
  },
  {
   "cell_type": "code",
   "execution_count": 23,
   "id": "fdcc8d74",
   "metadata": {},
   "outputs": [
    {
     "name": "stdout",
     "output_type": "stream",
     "text": [
      "🚀 Starting EDA Workflow...\n",
      "==================================================\n",
      "Loading data from: C:/Dev/Data Querying AI/data-tools/sample_data/fmcg\n",
      "✓ Loaded ad_spends\n",
      "✓ Loaded cons_fb\n",
      "✓ Loaded disti\n",
      "✓ Loaded mkt_coverage\n",
      "✓ Loaded prd_mstr\n",
      "✓ Loaded price_sense\n",
      "✓ Loaded pric_strat\n",
      "✓ Loaded retail_audit\n",
      "✓ Loaded rnd\n",
      "✓ Loaded sales\n",
      "✓ Loaded social\n",
      "✅ Loaded 11 datasets for fresh setup\n",
      "Found existing YAML for 'ad_spends'. Checking for staleness.\n",
      "ad_spends loaded\n",
      "Found existing YAML for 'cons_fb'. Checking for staleness.\n",
      "cons_fb loaded\n",
      "Found existing YAML for 'disti'. Checking for staleness.\n",
      "disti loaded\n",
      "Found existing YAML for 'mkt_coverage'. Checking for staleness.\n",
      "mkt_coverage loaded\n",
      "Found existing YAML for 'prd_mstr'. Checking for staleness.\n",
      "prd_mstr loaded\n",
      "Found existing YAML for 'price_sense'. Checking for staleness.\n",
      "price_sense loaded\n",
      "Found existing YAML for 'pric_strat'. Checking for staleness.\n",
      "pric_strat loaded\n",
      "Found existing YAML for 'retail_audit'. Checking for staleness.\n",
      "retail_audit loaded\n",
      "Found existing YAML for 'rnd'. Checking for staleness.\n",
      "rnd loaded\n",
      "Found existing YAML for 'sales'. Checking for staleness.\n",
      "sales loaded\n",
      "Found existing YAML for 'social'. Checking for staleness.\n",
      "social loaded\n"
     ]
    },
    {
     "data": {
      "text/html": [
       "<pre style=\"white-space:pre;overflow-x:auto;line-height:normal;font-family:Menlo,'DejaVu Sans Mono',consolas,'Courier New',monospace\"><span style=\"color: #808000; text-decoration-color: #808000\">Starting profiling and key identification stage...</span>\n",
       "</pre>\n"
      ],
      "text/plain": [
       "\u001b[33mStarting profiling and key identification stage\u001b[0m\u001b[33m...\u001b[0m\n"
      ]
     },
     "metadata": {},
     "output_type": "display_data"
    },
    {
     "name": "stdout",
     "output_type": "stream",
     "text": [
      "Dataset 'ad_spends' already profiled. Skipping.\n",
      "Dataset 'cons_fb' already profiled. Skipping.\n",
      "Dataset 'disti' already profiled. Skipping.\n",
      "Dataset 'mkt_coverage' already profiled. Skipping.\n",
      "Dataset 'prd_mstr' already profiled. Skipping.\n",
      "Dataset 'price_sense' already profiled. Skipping.\n",
      "Dataset 'pric_strat' already profiled. Skipping.\n",
      "Dataset 'retail_audit' already profiled. Skipping.\n",
      "Dataset 'rnd' already profiled. Skipping.\n",
      "Dataset 'sales' already profiled. Skipping.\n",
      "Dataset 'social' already profiled. Skipping.\n"
     ]
    },
    {
     "data": {
      "text/html": [
       "<pre style=\"white-space:pre;overflow-x:auto;line-height:normal;font-family:Menlo,'DejaVu Sans Mono',consolas,'Courier New',monospace\"><span style=\"color: #008000; text-decoration-color: #008000; font-weight: bold\">Profiling and key identification complete.</span>\n",
       "</pre>\n"
      ],
      "text/plain": [
       "\u001b[1;32mProfiling and key identification complete.\u001b[0m\n"
      ]
     },
     "metadata": {},
     "output_type": "display_data"
    },
    {
     "data": {
      "text/html": [
       "<pre style=\"white-space:pre;overflow-x:auto;line-height:normal;font-family:Menlo,'DejaVu Sans Mono',consolas,'Courier New',monospace\"><span style=\"color: #808000; text-decoration-color: #808000\">Starting link prediction stage...</span>\n",
       "</pre>\n"
      ],
      "text/plain": [
       "\u001b[33mStarting link prediction stage\u001b[0m\u001b[33m...\u001b[0m\n"
      ]
     },
     "metadata": {},
     "output_type": "display_data"
    },
    {
     "name": "stdout",
     "output_type": "stream",
     "text": [
      "Dataset 'ad_spends' already processed. Skipping analysis.\n",
      "Dataset 'cons_fb' already processed. Skipping analysis.\n",
      "Dataset 'disti' already processed. Skipping analysis.\n",
      "Dataset 'mkt_coverage' already processed. Skipping analysis.\n",
      "Dataset 'prd_mstr' already processed. Skipping analysis.\n",
      "Dataset 'price_sense' already processed. Skipping analysis.\n",
      "Dataset 'pric_strat' already processed. Skipping analysis.\n",
      "Dataset 'retail_audit' already processed. Skipping analysis.\n",
      "Dataset 'rnd' already processed. Skipping analysis.\n",
      "Dataset 'sales' already processed. Skipping analysis.\n",
      "Dataset 'social' already processed. Skipping analysis.\n",
      "LinkPredictor initialized with datasets: ['ad_spends', 'cons_fb', 'disti', 'mkt_coverage', 'prd_mstr', 'price_sense', 'pric_strat', 'retail_audit', 'rnd', 'sales', 'social']\n"
     ]
    },
    {
     "data": {
      "text/html": [
       "<pre style=\"white-space:pre;overflow-x:auto;line-height:normal;font-family:Menlo,'DejaVu Sans Mono',consolas,'Courier New',monospace\"><span style=\"color: #008000; text-decoration-color: #008000\">Link predictions are up-to-date. Loading from cache.</span>\n",
       "</pre>\n"
      ],
      "text/plain": [
       "\u001b[32mLink predictions are up-to-date. Loading from cache.\u001b[0m\n"
      ]
     },
     "metadata": {},
     "output_type": "display_data"
    },
    {
     "data": {
      "text/html": [
       "<pre style=\"white-space:pre;overflow-x:auto;line-height:normal;font-family:Menlo,'DejaVu Sans Mono',consolas,'Courier New',monospace\"><span style=\"color: #008000; text-decoration-color: #008000; font-weight: bold\">Link prediction complete.</span>\n",
       "</pre>\n"
      ],
      "text/plain": [
       "\u001b[1;32mLink prediction complete.\u001b[0m\n"
      ]
     },
     "metadata": {},
     "output_type": "display_data"
    },
    {
     "data": {
      "text/html": [
       "<pre style=\"white-space:pre;overflow-x:auto;line-height:normal;font-family:Menlo,'DejaVu Sans Mono',consolas,'Courier New',monospace\"><span style=\"color: #808000; text-decoration-color: #808000\">Starting business glossary generation stage...</span>\n",
       "</pre>\n"
      ],
      "text/plain": [
       "\u001b[33mStarting business glossary generation stage\u001b[0m\u001b[33m...\u001b[0m\n"
      ]
     },
     "metadata": {},
     "output_type": "display_data"
    },
    {
     "data": {
      "text/html": [
       "<pre style=\"white-space:pre;overflow-x:auto;line-height:normal;font-family:Menlo,'DejaVu Sans Mono',consolas,'Courier New',monospace\">Glossary for <span style=\"color: #008000; text-decoration-color: #008000\">'ad_spends'</span> already exists. Skipping.\n",
       "</pre>\n"
      ],
      "text/plain": [
       "Glossary for \u001b[32m'ad_spends'\u001b[0m already exists. Skipping.\n"
      ]
     },
     "metadata": {},
     "output_type": "display_data"
    },
    {
     "data": {
      "text/html": [
       "<pre style=\"white-space:pre;overflow-x:auto;line-height:normal;font-family:Menlo,'DejaVu Sans Mono',consolas,'Courier New',monospace\">Glossary for <span style=\"color: #008000; text-decoration-color: #008000\">'cons_fb'</span> already exists. Skipping.\n",
       "</pre>\n"
      ],
      "text/plain": [
       "Glossary for \u001b[32m'cons_fb'\u001b[0m already exists. Skipping.\n"
      ]
     },
     "metadata": {},
     "output_type": "display_data"
    },
    {
     "data": {
      "text/html": [
       "<pre style=\"white-space:pre;overflow-x:auto;line-height:normal;font-family:Menlo,'DejaVu Sans Mono',consolas,'Courier New',monospace\">Glossary for <span style=\"color: #008000; text-decoration-color: #008000\">'disti'</span> already exists. Skipping.\n",
       "</pre>\n"
      ],
      "text/plain": [
       "Glossary for \u001b[32m'disti'\u001b[0m already exists. Skipping.\n"
      ]
     },
     "metadata": {},
     "output_type": "display_data"
    },
    {
     "data": {
      "text/html": [
       "<pre style=\"white-space:pre;overflow-x:auto;line-height:normal;font-family:Menlo,'DejaVu Sans Mono',consolas,'Courier New',monospace\">Glossary for <span style=\"color: #008000; text-decoration-color: #008000\">'mkt_coverage'</span> already exists. Skipping.\n",
       "</pre>\n"
      ],
      "text/plain": [
       "Glossary for \u001b[32m'mkt_coverage'\u001b[0m already exists. Skipping.\n"
      ]
     },
     "metadata": {},
     "output_type": "display_data"
    },
    {
     "data": {
      "text/html": [
       "<pre style=\"white-space:pre;overflow-x:auto;line-height:normal;font-family:Menlo,'DejaVu Sans Mono',consolas,'Courier New',monospace\">Glossary for <span style=\"color: #008000; text-decoration-color: #008000\">'prd_mstr'</span> already exists. Skipping.\n",
       "</pre>\n"
      ],
      "text/plain": [
       "Glossary for \u001b[32m'prd_mstr'\u001b[0m already exists. Skipping.\n"
      ]
     },
     "metadata": {},
     "output_type": "display_data"
    },
    {
     "data": {
      "text/html": [
       "<pre style=\"white-space:pre;overflow-x:auto;line-height:normal;font-family:Menlo,'DejaVu Sans Mono',consolas,'Courier New',monospace\">Glossary for <span style=\"color: #008000; text-decoration-color: #008000\">'price_sense'</span> already exists. Skipping.\n",
       "</pre>\n"
      ],
      "text/plain": [
       "Glossary for \u001b[32m'price_sense'\u001b[0m already exists. Skipping.\n"
      ]
     },
     "metadata": {},
     "output_type": "display_data"
    },
    {
     "data": {
      "text/html": [
       "<pre style=\"white-space:pre;overflow-x:auto;line-height:normal;font-family:Menlo,'DejaVu Sans Mono',consolas,'Courier New',monospace\">Glossary for <span style=\"color: #008000; text-decoration-color: #008000\">'pric_strat'</span> already exists. Skipping.\n",
       "</pre>\n"
      ],
      "text/plain": [
       "Glossary for \u001b[32m'pric_strat'\u001b[0m already exists. Skipping.\n"
      ]
     },
     "metadata": {},
     "output_type": "display_data"
    },
    {
     "data": {
      "text/html": [
       "<pre style=\"white-space:pre;overflow-x:auto;line-height:normal;font-family:Menlo,'DejaVu Sans Mono',consolas,'Courier New',monospace\">Glossary for <span style=\"color: #008000; text-decoration-color: #008000\">'retail_audit'</span> already exists. Skipping.\n",
       "</pre>\n"
      ],
      "text/plain": [
       "Glossary for \u001b[32m'retail_audit'\u001b[0m already exists. Skipping.\n"
      ]
     },
     "metadata": {},
     "output_type": "display_data"
    },
    {
     "data": {
      "text/html": [
       "<pre style=\"white-space:pre;overflow-x:auto;line-height:normal;font-family:Menlo,'DejaVu Sans Mono',consolas,'Courier New',monospace\">Glossary for <span style=\"color: #008000; text-decoration-color: #008000\">'rnd'</span> already exists. Skipping.\n",
       "</pre>\n"
      ],
      "text/plain": [
       "Glossary for \u001b[32m'rnd'\u001b[0m already exists. Skipping.\n"
      ]
     },
     "metadata": {},
     "output_type": "display_data"
    },
    {
     "data": {
      "text/html": [
       "<pre style=\"white-space:pre;overflow-x:auto;line-height:normal;font-family:Menlo,'DejaVu Sans Mono',consolas,'Courier New',monospace\">Glossary for <span style=\"color: #008000; text-decoration-color: #008000\">'sales'</span> already exists. Skipping.\n",
       "</pre>\n"
      ],
      "text/plain": [
       "Glossary for \u001b[32m'sales'\u001b[0m already exists. Skipping.\n"
      ]
     },
     "metadata": {},
     "output_type": "display_data"
    },
    {
     "data": {
      "text/html": [
       "<pre style=\"white-space:pre;overflow-x:auto;line-height:normal;font-family:Menlo,'DejaVu Sans Mono',consolas,'Courier New',monospace\">Glossary for <span style=\"color: #008000; text-decoration-color: #008000\">'social'</span> already exists. Skipping.\n",
       "</pre>\n"
      ],
      "text/plain": [
       "Glossary for \u001b[32m'social'\u001b[0m already exists. Skipping.\n"
      ]
     },
     "metadata": {},
     "output_type": "display_data"
    },
    {
     "data": {
      "text/html": [
       "<pre style=\"white-space:pre;overflow-x:auto;line-height:normal;font-family:Menlo,'DejaVu Sans Mono',consolas,'Courier New',monospace\"><span style=\"color: #008000; text-decoration-color: #008000; font-weight: bold\">Business glossary generation complete.</span>\n",
       "</pre>\n"
      ],
      "text/plain": [
       "\u001b[1;32mBusiness glossary generation complete.\u001b[0m\n"
      ]
     },
     "metadata": {},
     "output_type": "display_data"
    },
    {
     "name": "stdout",
     "output_type": "stream",
     "text": [
      "Initializing semantic search...\n",
      "Semantic search initialized.\n",
      "Found existing YAML for 'ad_spends'. Checking for staleness.\n",
      "ad_spends loaded\n",
      "Found existing YAML for 'cons_fb'. Checking for staleness.\n",
      "cons_fb loaded\n",
      "Found existing YAML for 'disti'. Checking for staleness.\n",
      "disti loaded\n",
      "Found existing YAML for 'mkt_coverage'. Checking for staleness.\n",
      "mkt_coverage loaded\n",
      "Found existing YAML for 'prd_mstr'. Checking for staleness.\n",
      "prd_mstr loaded\n",
      "Found existing YAML for 'price_sense'. Checking for staleness.\n",
      "price_sense loaded\n",
      "Found existing YAML for 'pric_strat'. Checking for staleness.\n",
      "pric_strat loaded\n",
      "Found existing YAML for 'retail_audit'. Checking for staleness.\n",
      "retail_audit loaded\n",
      "Found existing YAML for 'rnd'. Checking for staleness.\n",
      "rnd loaded\n",
      "Found existing YAML for 'sales'. Checking for staleness.\n",
      "sales loaded\n",
      "Found existing YAML for 'social'. Checking for staleness.\n",
      "social loaded\n",
      "✅ Fresh Intugle setup completed with real data\n",
      "✅ Intugle tools initialized with fresh data\n",
      "Intugle tools: <EDA.tools.intugle_agent_tools.IntugleAgentTools object at 0x000002ADD1F4CD40>\n",
      "Number of hypotheses to generate: 5\n",
      "ETL schema: {'name': 'ad_spend_sales_analysis', 'fields': [{'id': 'sales.vol', 'name': 'sales_vol', 'category': 'measure', 'measure_func': 'sum'}, {'id': 'ad_spends.amt', 'name': 'ad_spends_amt', 'category': 'measure', 'measure_func': 'sum'}, {'id': 'sales.date', 'name': 'date_sale', 'category': 'dimension'}, {'id': 'ad_spends.camp_id', 'name': 'campaign', 'category': 'dimension'}], 'filter': {'selections': [], 'limit': 1000}}\n",
      "ad_spend_sales_analysis\n",
      "ad_spend_sales_analysis loaded\n",
      "Query Generated: SELECT sum(\"sales\".\"vol\") as sales_vol, sum(\"ad_spends\".\"amt\") as ad_spends_amt, \"sales\".\"date\" as date_sale, \"ad_spends\".\"camp_id\" as campaign FROM ad_spends LEFT JOIN sales ON \"ad_spends\".\"camp_id\" = \"sales\".\"prod_id\" GROUP BY \"sales\".\"date\" , \"ad_spends\".\"camp_id\" LIMIT 1000\n",
      "Build result: {'data_product_config': {'name': 'ad_spend_sales_analysis', 'fields': [{'id': 'sales.vol', 'name': 'sales_vol', 'category': 'measure', 'measure_func': 'sum'}, {'id': 'ad_spends.amt', 'name': 'ad_spends_amt', 'category': 'measure', 'measure_func': 'sum'}, {'id': 'sales.date', 'name': 'date_sale', 'category': 'dimension'}, {'id': 'ad_spends.camp_id', 'name': 'campaign', 'category': 'dimension'}], 'filter': {'selections': [], 'limit': 1000}}, 'build_result': <intugle.analysis.models.DataSet object at 0x000002ADD21B2480>, 'status': 'success'}\n",
      "   sales_vol  ad_spends_amt date_sale campaign\n",
      "0        NaN       29481.22       NaT     C151\n",
      "1        NaN       13875.40       NaT     C157\n",
      "2        NaN       44055.58       NaT     C165\n",
      "3        NaN       39205.78       NaT     C107\n",
      "4        NaN       33638.05       NaT     C113\n",
      "Transformed data:    sales_vol  ad_spends_amt date_sale campaign\n",
      "0        NaN      10.678913       NaT     C123\n",
      "1        NaN      10.656652       NaT     C129\n",
      "2        NaN      10.530755       NaT     C146\n",
      "3        NaN      10.232399       NaT     C162\n",
      "4        NaN       9.233714       NaT     C183\n",
      "Aggregate by fields: ['campaign']\n",
      "Applying minmax scaling to sales_vol and ad_spends_amt by ['campaign']\n",
      "Visualizations completed\n",
      "ETL schema: {'name': 'sales_volume_pricing_strategy_analysis', 'fields': [{'id': 'sales.vol', 'name': 'sales_vol', 'category': 'measure', 'measure_func': 'sum'}, {'id': 'pric_strat.sales_chg', 'name': 'pric_strat_sales_chg', 'category': 'measure', 'measure_func': 'average'}, {'id': 'sales.date', 'name': 'date_sale', 'category': 'dimension'}, {'id': 'sales.prod_id', 'name': 'product', 'category': 'dimension'}], 'filter': {'selections': [], 'limit': 1000}}\n",
      "sales_volume_pricing_strategy_analysis\n",
      "sales_volume_pricing_strategy_analysis loaded\n",
      "Query Generated: SELECT sum(\"sales\".\"vol\") as sales_vol, avg(\"pric_strat\".\"sales_chg\") as pric_strat_sales_chg, \"sales\".\"date\" as date_sale, \"sales\".\"prod_id\" as product FROM pric_strat LEFT JOIN sales ON \"pric_strat\".\"prdid\" = \"sales\".\"prod_id\" GROUP BY \"sales\".\"date\" , \"sales\".\"prod_id\" LIMIT 1000\n",
      "Build result: {'data_product_config': {'name': 'sales_volume_pricing_strategy_analysis', 'fields': [{'id': 'sales.vol', 'name': 'sales_vol', 'category': 'measure', 'measure_func': 'sum'}, {'id': 'pric_strat.sales_chg', 'name': 'pric_strat_sales_chg', 'category': 'measure', 'measure_func': 'average'}, {'id': 'sales.date', 'name': 'date_sale', 'category': 'dimension'}, {'id': 'sales.prod_id', 'name': 'product', 'category': 'dimension'}], 'filter': {'selections': [], 'limit': 1000}}, 'build_result': <intugle.analysis.models.DataSet object at 0x000002ADDBF16BA0>, 'status': 'success'}\n",
      "   sales_vol  pric_strat_sales_chg  date_sale product\n",
      "0      979.0                  4.02 2021-01-23    P102\n",
      "1      351.0                  5.44 2021-01-26    P103\n",
      "2      730.0                  1.64 2021-05-09    P115\n",
      "3      751.0                  9.08 2021-06-15    P122\n",
      "4      766.0                 -4.40 2021-06-19    P123\n",
      "Transformed data:    sales_vol  pric_strat_sales_chg  date_sale product\n",
      "0      151.0              1.211941 2021-02-17    P110\n",
      "1      993.0              2.383243 2021-02-21    P112\n",
      "2      188.0              1.211941 2021-04-13    P110\n",
      "3      405.0              2.357073 2021-05-02    P113\n",
      "4      343.0              2.142416 2021-05-06    P114\n",
      "Aggregate by fields: ['product']\n",
      "Applying minmax scaling to sales_vol and pric_strat_sales_chg by ['product']\n",
      "Visualizations completed\n",
      "ETL schema: {'name': 'fmcg_sales_market_coverage_analysis', 'fields': [{'id': 'sales.vol', 'name': 'sales_vol', 'category': 'measure', 'measure_func': 'sum'}, {'id': 'mkt_coverage.st_cnt', 'name': 'mkt_coverage_st_cnt', 'category': 'measure', 'measure_func': 'sum'}], 'filter': {'selections': [], 'limit': 1000}, 'aggregate_by': {'date_sale': 'sales.date'}}\n",
      "fmcg_sales_market_coverage_analysis\n",
      "fmcg_sales_market_coverage_analysis loaded\n",
      "Query Generated: SELECT sum(\"sales\".\"vol\") as sales_vol, sum(\"mkt_coverage\".\"st_cnt\") as mkt_coverage_st_cnt FROM mkt_coverage LEFT JOIN ad_spends ON \"ad_spends\".\"camp_id\" = \"mkt_coverage\".\"p_id\" LEFT JOIN sales ON \"ad_spends\".\"camp_id\" = \"sales\".\"prod_id\" LIMIT 1000\n",
      "Build result: {'data_product_config': {'name': 'fmcg_sales_market_coverage_analysis', 'fields': [{'id': 'sales.vol', 'name': 'sales_vol', 'category': 'measure', 'measure_func': 'sum'}, {'id': 'mkt_coverage.st_cnt', 'name': 'mkt_coverage_st_cnt', 'category': 'measure', 'measure_func': 'sum'}], 'filter': {'selections': [], 'limit': 1000}, 'aggregate_by': {'date_sale': 'sales.date'}}, 'build_result': <intugle.analysis.models.DataSet object at 0x000002ADDBFA1160>, 'status': 'success'}\n",
      "   sales_vol  mkt_coverage_st_cnt\n",
      "0        NaN              25915.0\n",
      "Transformed data:    sales_vol  mkt_coverage_st_cnt\n",
      "0        NaN              25915.0\n",
      "Aggregate by fields: []\n",
      "Visualizations completed\n",
      "ETL schema: {'name': 'social_media_engagement_analysis', 'fields': [{'id': 'sales.vol', 'name': 'sales_vol', 'category': 'measure', 'measure_func': 'sum'}, {'id': 'social.eng_rate', 'name': 'social_eng_rate', 'category': 'measure', 'measure_func': 'average'}, {'id': 'sales.date', 'name': 'date_sale', 'category': 'dimension'}], 'filter': {'selections': [], 'limit': 1000}}\n",
      "social_media_engagement_analysis\n",
      "social_media_engagement_analysis loaded\n",
      "Query Generated: SELECT sum(\"sales\".\"vol\") as sales_vol, avg(\"social\".\"eng_rate\") as social_eng_rate, \"sales\".\"date\" as date_sale FROM social LEFT JOIN ad_spends ON \"ad_spends\".\"camp_id\" = \"social\".\"camp_id\" LEFT JOIN sales ON \"ad_spends\".\"camp_id\" = \"sales\".\"prod_id\" GROUP BY \"sales\".\"date\" LIMIT 1000\n",
      "Build result: {'data_product_config': {'name': 'social_media_engagement_analysis', 'fields': [{'id': 'sales.vol', 'name': 'sales_vol', 'category': 'measure', 'measure_func': 'sum'}, {'id': 'social.eng_rate', 'name': 'social_eng_rate', 'category': 'measure', 'measure_func': 'average'}, {'id': 'sales.date', 'name': 'date_sale', 'category': 'dimension'}], 'filter': {'selections': [], 'limit': 1000}}, 'build_result': <intugle.analysis.models.DataSet object at 0x000002ADDBFA1160>, 'status': 'success'}\n",
      "   sales_vol  social_eng_rate date_sale\n",
      "0        NaN            7.606       NaT\n",
      "Transformed data:    sales_vol  social_eng_rate date_sale\n",
      "0        NaN          2.15246       NaT\n",
      "Aggregate by fields: []\n",
      "Visualizations completed\n"
     ]
    },
    {
     "name": "stderr",
     "output_type": "stream",
     "text": [
      "ERROR:root:Visualization generation failed: ufunc 'multiply' did not contain a loop with signature matching types (dtype('<U1'), dtype('float64')) -> None\n"
     ]
    },
    {
     "name": "stdout",
     "output_type": "stream",
     "text": [
      "ETL schema: {'name': 'brand_recognition_sales_analysis', 'fields': [{'id': 'sales.vol', 'name': 'sales_vol', 'category': 'measure', 'measure_func': 'sum'}, {'id': 'prd_mstr.brand', 'name': 'brand', 'category': 'dimension', 'measure_func': 'count'}, {'id': 'sales.date', 'name': 'date_sale', 'category': 'dimension'}, {'id': 'sales.prod_id', 'name': 'product', 'category': 'dimension'}], 'filter': {'selections': [], 'limit': 1000}}\n",
      "brand_recognition_sales_analysis\n",
      "brand_recognition_sales_analysis loaded\n",
      "Query Generated: SELECT sum(\"sales\".\"vol\") as sales_vol, \"prd_mstr\".\"brand\" as brand, \"sales\".\"date\" as date_sale, \"sales\".\"prod_id\" as product FROM prd_mstr LEFT JOIN sales ON \"prd_mstr\".\"prd_id\" = \"sales\".\"prod_id\" GROUP BY \"prd_mstr\".\"brand\" , \"sales\".\"date\" , \"sales\".\"prod_id\" LIMIT 1000\n",
      "Build result: {'data_product_config': {'name': 'brand_recognition_sales_analysis', 'fields': [{'id': 'sales.vol', 'name': 'sales_vol', 'category': 'measure', 'measure_func': 'sum'}, {'id': 'prd_mstr.brand', 'name': 'brand', 'category': 'dimension', 'measure_func': 'count'}, {'id': 'sales.date', 'name': 'date_sale', 'category': 'dimension'}, {'id': 'sales.prod_id', 'name': 'product', 'category': 'dimension'}], 'filter': {'selections': [], 'limit': 1000}}, 'build_result': <intugle.analysis.models.DataSet object at 0x000002ADDFA8C200>, 'status': 'success'}\n",
      "   sales_vol    brand  date_sale product\n",
      "0      147.0  Brand 8 2021-02-03    P106\n",
      "1      866.0  Brand 2 2021-08-27    P151\n",
      "2      613.0  Brand 4 2022-01-30    P186\n",
      "3      286.0  Brand 1 2022-03-26    P142\n",
      "4      389.0  Brand 9 2022-04-06    P144\n",
      "Transformed data:    sales_vol     brand  date_sale product\n",
      "0      993.0   Brand 5 2021-02-21    P112\n",
      "1      374.0   Brand 4 2021-02-25    P114\n",
      "2      316.0   Brand 9 2021-03-08    P117\n",
      "3      671.0   Brand 6 2021-07-22    P131\n",
      "4      129.0  Brand 10 2022-03-11    P138\n",
      "Aggregate by fields: ['product']\n",
      "Applying minmax scaling to sales_vol and brand by ['product']\n",
      "Visualizations completed\n",
      "Successfully completed EDA worker loop\n",
      "Input to summarizer: {'target_variable': 'sales.vol', 'eda_request': 'What are the factors influencing sales?', 'domain_context': 'This FMCG sales dataset captures the key drivers of product performance in fast-moving consumer goods markets, combining marketing inputs (ad_spends, social), trade and distribution factors (disti, mkt_coverage, retail_audit), pricing dynamics (price_sense, pric_strat), and contextual information (prd_mstr, rnd, cons_fb) to explain variations in sales. It reflects how consumer demand in FMCG is shaped not only by product attributes and pricing but also by visibility, availability, promotions, and brand perception, making it well-suited for analyses such as market mix modeling, demand forecasting, and pricing elasticity studies.', 'hypothesis_limit': 5, 'data':          date prod_id  vol       amt  return_per\n",
      "0     1/15/21    P100  446  22224.10        3.01\n",
      "1     1/19/21    P101  346  87698.70        1.86\n",
      "2     1/23/21    P102  979  92380.74        3.10\n",
      "3     1/26/21    P103  351  51785.91        3.57\n",
      "4     1/30/21    P104  655  84124.89        2.03\n",
      "..        ...     ...  ...       ...         ...\n",
      "195   12/8/22    P162  579  25785.28        3.01\n",
      "196  12/12/22    P163  610  28583.98        4.24\n",
      "197  12/12/22    P164  249  36287.10        2.73\n",
      "198  12/23/22    P165  597  78258.25        1.17\n",
      "199  12/23/22    P166  697  17489.61        3.63\n",
      "\n",
      "[200 rows x 5 columns], 'univariate_results': {'target_variable': {'name': 'sales.vol', 'data_type': 'continuous', 'profile': {'count': 200, 'missing': 0, 'missing_percentage': 0.0, 'unique_values': 93, 'statistical_summary': {'mean': 493.27, 'median': 446.5, 'std': 263.14, 'min': 112, 'max': 993, 'q25': 264.0, 'q75': 709.75}}, 'anomalies': {'outliers_count': 20, 'extreme_values': [979, 993, 987, 895, 954], 'missing_patterns': 'no_missing', 'data_quality_issues': [{'type': 'duplicates', 'severity': 'low', 'description': '107 duplicate values found'}]}, 'trends': {'temporal_trend': 'increasing', 'seasonality': 'none', 'volatility': 'very_high', 'growth_rate': 56.28}}, 'related_variables': [{'name': 'sales.vol', 'relationship': 'self', 'similarity_score': 0.8749, 'description': 'Indicates the quantity of products sold during a specific period.'}, {'name': 'retail_audit.st_name', 'relationship': 'dimension', 'similarity_score': 0.7414, 'description': 'Identifies the names of retail outlets involved in the audit process.'}, {'name': 'rnd.amt_spent', 'relationship': 'measure', 'similarity_score': 0.6963, 'description': 'The total amount of money spent in a specific transaction or series of transactions.'}, {'name': 'sales.amt', 'relationship': 'measure', 'similarity_score': 0.6963, 'description': 'Monetary value associated with sales transactions.'}, {'name': 'mkt_coverage.geo_cov_per', 'relationship': 'measure', 'similarity_score': 0.6786, 'description': 'Indicates the percentage of geographical market coverage achieved by a business.'}], 'data_quality_summary': {'overall_quality': 'good', 'issues_found': 2, 'recommendations': ['Handle 20 outliers detected in sales volume using robust methods.', 'Resolve 107 duplicate values in the dataset for better unique representation.', 'Monitor for variations in sales patterns to improve forecasting accuracy.']}, 'analysis_insights': {'key_findings': ['The target variable shows a stable increasing trend over the observed period.', 'High volatility indicates fluctuations in sales volume that may need smoothing techniques.', 'No seasonal patterns detected, suggesting a focus on communication and campaign-based factors for sales changes.'], 'feature_engineering_opportunities': ['Create a feature to categorize sales volume into high, medium, and low based on the percentiles.', 'Consider adding time-related features that capture trends more effectively.', 'Investigate relationships with marketing efforts/details to influence modeling.'], 'modeling_recommendations': ['Use time series methods for better analysis of temporal trends.', 'Incorporate external factors like marketing strategies to adequately model sales volume.', 'Implement data cleaning and verify data quality prior to model training.']}}, 'generated_hypotheses': [{'hypothesis_id': 'hyp_1', 'hypothesis': 'Higher advertising spend leads to increased sales volume in the FMCG sector.', 'target_variable': {'name': 'sales.vol', 'alias': 'sales_vol', 'transformation': 'none', 'measure_func': 'sum'}, 'predictor_variable': {'name': 'ad_spends.amt', 'alias': 'ad_spends_amt', 'transformation': 'log_linear', 'measure_func': 'sum'}, 'relationship_type': 'log_linear_relationship', 'expected_impact': 'positive', 'confidence': 0.88, 'research_support': ['FMCG studies show a direct correlation between marketing spend and sales volume.', 'Industry insights indicate that increases in ad spend drive customer awareness and sales.'], 'interaction_features': ['ad_spends.amt * social.eng_rate'], 'test_priority': 0.9, 'aggregate_by': {'date_sale': 'sales.date', 'campaign': 'ad_spends.camp_id'}, 'data_requirements': {'required_tables': ['sales', 'ad_spends'], 'required_columns': ['sales.vol', 'ad_spends.amt'], 'join_requirements': 'sales.date = ad_spends.date'}}, {'hypothesis_id': 'hyp_2', 'hypothesis': 'The percentage change in sales due to pricing strategies positively impacts the overall sales volume.', 'target_variable': {'name': 'sales.vol', 'alias': 'sales_vol', 'transformation': 'none', 'measure_func': 'sum'}, 'predictor_variable': {'name': 'pric_strat.sales_chg', 'alias': 'pric_strat_sales_chg', 'transformation': 'log_linear', 'measure_func': 'average'}, 'relationship_type': 'log_linear_relationship', 'expected_impact': 'positive', 'confidence': 0.85, 'research_support': ['Research indicates effective pricing strategies significantly influence sales volume.', 'Economic literature suggests a positive relationship between sales change metrics and sales volume.'], 'interaction_features': ['pric_strat.sales_chg * price_sense.price_dec'], 'test_priority': 0.85, 'aggregate_by': {'date_sale': 'sales.date', 'product': 'sales.prod_id'}, 'data_requirements': {'required_tables': ['sales', 'pric_strat'], 'required_columns': ['sales.vol', 'pric_strat.sales_chg'], 'join_requirements': 'sales.prod_id = pric_strat.prid'}}, {'hypothesis_id': 'hyp_3', 'hypothesis': 'Increased market coverage positively affects sales volume in FMCG.', 'target_variable': {'name': 'sales.vol', 'alias': 'sales_vol', 'transformation': 'none', 'measure_func': 'sum'}, 'predictor_variable': {'name': 'mkt_coverage.st_cnt', 'alias': 'mkt_coverage_st_cnt', 'transformation': 'none', 'measure_func': 'sum'}, 'relationship_type': 'linear_relationship', 'expected_impact': 'positive', 'confidence': 0.8, 'research_support': ['Previous studies show positive correlations between market coverage and sales volume.', 'Industry data supports the argument that wider market coverage increases product visibility.'], 'interaction_features': [], 'test_priority': 0.8, 'aggregate_by': {'date_sale': 'sales.date'}, 'data_requirements': {'required_tables': ['sales', 'mkt_coverage'], 'required_columns': ['sales.vol', 'mkt_coverage.st_cnt'], 'join_requirements': 'sales.date = mkt_coverage.date'}}, {'hypothesis_id': 'hyp_4', 'hypothesis': 'Social media engagement rate positively influences sales volume.', 'target_variable': {'name': 'sales.vol', 'alias': 'sales_vol', 'transformation': 'none', 'measure_func': 'sum'}, 'predictor_variable': {'name': 'social.eng_rate', 'alias': 'social_eng_rate', 'transformation': 'log_linear', 'measure_func': 'average'}, 'relationship_type': 'log_linear_relationship', 'expected_impact': 'positive', 'confidence': 0.83, 'research_support': ['Studies indicate a strong correlation between social engagement and purchasing behavior.', 'Increased social media activity is shown to drive consumer interest and consequently sales.'], 'interaction_features': [], 'test_priority': 0.7, 'aggregate_by': {'date_sale': 'sales.date'}, 'data_requirements': {'required_tables': ['sales', 'social'], 'required_columns': ['sales.vol', 'social.eng_rate'], 'join_requirements': 'sales.date = social.date'}}, {'hypothesis_id': 'hyp_5', 'hypothesis': \"The brand's recognition level positively affects sales volume.\", 'target_variable': {'name': 'sales.vol', 'alias': 'sales_vol', 'transformation': 'none', 'measure_func': 'sum'}, 'predictor_variable': {'name': 'prd_mstr.brand', 'alias': 'brand', 'transformation': 'none', 'measure_func': 'count'}, 'relationship_type': 'linear_relationship', 'expected_impact': 'positive', 'confidence': 0.75, 'research_support': ['Brand recognition studies reveal that familiar brands enjoy increased sales.', 'Marketing literature emphasizes the role of brand perception in consumer choices.'], 'interaction_features': [], 'test_priority': 0.6, 'aggregate_by': {'date_sale': 'sales.date', 'product': 'sales.prod_id'}, 'data_requirements': {'required_tables': ['sales', 'prd_mstr'], 'required_columns': ['sales.vol', 'prd_mstr.brand'], 'join_requirements': 'sales.prod_id = prd_mstr.prd_id'}}], 'final_summary': None, 'eda_worker_results': {'execution_summary': {'total_hypotheses': 5, 'successful_analyses': 5, 'failed_analyses': 0, 'success_rate': 1.0, 'total_execution_time': 55.108028173446655, 'average_execution_time': 11.021605634689331}, 'results': [{'hypothesis_id': 'hyp_1', 'status': 'success', 'result': {'hypothesis': {'hypothesis_id': 'hyp_1', 'hypothesis': 'Higher advertising spend leads to increased sales volume in the FMCG sector.', 'target_variable': {'name': 'sales.vol', 'alias': 'sales_vol', 'transformation': 'none', 'measure_func': 'sum'}, 'predictor_variable': {'name': 'ad_spends.amt', 'alias': 'ad_spends_amt', 'transformation': 'log_linear', 'measure_func': 'sum'}, 'relationship_type': 'log_linear_relationship', 'expected_impact': 'positive', 'confidence': 0.88, 'research_support': ['FMCG studies show a direct correlation between marketing spend and sales volume.', 'Industry insights indicate that increases in ad spend drive customer awareness and sales.'], 'interaction_features': ['ad_spends.amt * social.eng_rate'], 'test_priority': 0.9, 'aggregate_by': {'date_sale': 'sales.date', 'campaign': 'ad_spends.camp_id'}, 'data_requirements': {'required_tables': ['sales', 'ad_spends'], 'required_columns': ['sales.vol', 'ad_spends.amt'], 'join_requirements': 'sales.date = ad_spends.date'}}, 'etl_schema': {}, 'correlation_analysis': {'error': 'Insufficient data after cleaning: 0 rows remaining'}, 'visualizations': {'scatter_plot': 'visualizations/scatter_ad_spends_amt_sales_vol.png', 'correlation_heatmap': 'visualizations/heatmap_ad_spends_amt_sales_vol.png'}, 'feature_engineering_insights': {}, 'statistical_summary': {}, 'status': 'completed'}}, {'hypothesis_id': 'hyp_2', 'status': 'success', 'result': {'hypothesis': {'hypothesis_id': 'hyp_2', 'hypothesis': 'The percentage change in sales due to pricing strategies positively impacts the overall sales volume.', 'target_variable': {'name': 'sales.vol', 'alias': 'sales_vol', 'transformation': 'none', 'measure_func': 'sum'}, 'predictor_variable': {'name': 'pric_strat.sales_chg', 'alias': 'pric_strat_sales_chg', 'transformation': 'log_linear', 'measure_func': 'average'}, 'relationship_type': 'log_linear_relationship', 'expected_impact': 'positive', 'confidence': 0.85, 'research_support': ['Research indicates effective pricing strategies significantly influence sales volume.', 'Economic literature suggests a positive relationship between sales change metrics and sales volume.'], 'interaction_features': ['pric_strat.sales_chg * price_sense.price_dec'], 'test_priority': 0.85, 'aggregate_by': {'date_sale': 'sales.date', 'product': 'sales.prod_id'}, 'data_requirements': {'required_tables': ['sales', 'pric_strat'], 'required_columns': ['sales.vol', 'pric_strat.sales_chg'], 'join_requirements': 'sales.prod_id = pric_strat.prid'}}, 'etl_schema': {}, 'correlation_analysis': {'correlations': {'pearson': {'correlation': nan, 'p_value': nan, 'significant': False}, 'spearman': {'correlation': nan, 'p_value': nan, 'significant': False}}, 'variables': {'target': 'sales_vol', 'predictor': 'pric_strat_sales_chg'}, 'statistics': {'sample_size': 200, 'target_mean': 0.4539619817610351, 'predictor_mean': 0.0, 'target_std': 0.484107089159313, 'predictor_std': 0.0}, 'hypothesis_support': {'direction_match': False, 'significant': False, 'correlation_strength': nan, 'support_score': 0.0, 'expected_impact': 'positive', 'actual_correlation': nan}}, 'visualizations': {'scatter_plot': 'visualizations/scatter_pric_strat_sales_chg_sales_vol.png', 'correlation_heatmap': 'visualizations/heatmap_pric_strat_sales_chg_sales_vol.png'}, 'feature_engineering_insights': {}, 'statistical_summary': {}, 'status': 'completed'}}, {'hypothesis_id': 'hyp_3', 'status': 'success', 'result': {'hypothesis': {'hypothesis_id': 'hyp_3', 'hypothesis': 'Increased market coverage positively affects sales volume in FMCG.', 'target_variable': {'name': 'sales.vol', 'alias': 'sales_vol', 'transformation': 'none', 'measure_func': 'sum'}, 'predictor_variable': {'name': 'mkt_coverage.st_cnt', 'alias': 'mkt_coverage_st_cnt', 'transformation': 'none', 'measure_func': 'sum'}, 'relationship_type': 'linear_relationship', 'expected_impact': 'positive', 'confidence': 0.8, 'research_support': ['Previous studies show positive correlations between market coverage and sales volume.', 'Industry data supports the argument that wider market coverage increases product visibility.'], 'interaction_features': [], 'test_priority': 0.8, 'aggregate_by': {'date_sale': 'sales.date'}, 'data_requirements': {'required_tables': ['sales', 'mkt_coverage'], 'required_columns': ['sales.vol', 'mkt_coverage.st_cnt'], 'join_requirements': 'sales.date = mkt_coverage.date'}}, 'etl_schema': {}, 'correlation_analysis': {'error': 'Insufficient data after cleaning: 0 rows remaining'}, 'visualizations': {'scatter_plot': 'visualizations/scatter_mkt_coverage_st_cnt_sales_vol.png', 'correlation_heatmap': 'visualizations/heatmap_mkt_coverage_st_cnt_sales_vol.png'}, 'feature_engineering_insights': {}, 'statistical_summary': {}, 'status': 'completed'}}, {'hypothesis_id': 'hyp_4', 'status': 'success', 'result': {'hypothesis': {'hypothesis_id': 'hyp_4', 'hypothesis': 'Social media engagement rate positively influences sales volume.', 'target_variable': {'name': 'sales.vol', 'alias': 'sales_vol', 'transformation': 'none', 'measure_func': 'sum'}, 'predictor_variable': {'name': 'social.eng_rate', 'alias': 'social_eng_rate', 'transformation': 'log_linear', 'measure_func': 'average'}, 'relationship_type': 'log_linear_relationship', 'expected_impact': 'positive', 'confidence': 0.83, 'research_support': ['Studies indicate a strong correlation between social engagement and purchasing behavior.', 'Increased social media activity is shown to drive consumer interest and consequently sales.'], 'interaction_features': [], 'test_priority': 0.7, 'aggregate_by': {'date_sale': 'sales.date'}, 'data_requirements': {'required_tables': ['sales', 'social'], 'required_columns': ['sales.vol', 'social.eng_rate'], 'join_requirements': 'sales.date = social.date'}}, 'etl_schema': {}, 'correlation_analysis': {'error': 'Insufficient data after cleaning: 0 rows remaining'}, 'visualizations': {'scatter_plot': 'visualizations/scatter_social_eng_rate_sales_vol.png', 'correlation_heatmap': 'visualizations/heatmap_social_eng_rate_sales_vol.png'}, 'feature_engineering_insights': {}, 'statistical_summary': {}, 'status': 'completed'}}, {'hypothesis_id': 'hyp_5', 'status': 'success', 'result': {'hypothesis': {'hypothesis_id': 'hyp_5', 'hypothesis': \"The brand's recognition level positively affects sales volume.\", 'target_variable': {'name': 'sales.vol', 'alias': 'sales_vol', 'transformation': 'none', 'measure_func': 'sum'}, 'predictor_variable': {'name': 'prd_mstr.brand', 'alias': 'brand', 'transformation': 'none', 'measure_func': 'count'}, 'relationship_type': 'linear_relationship', 'expected_impact': 'positive', 'confidence': 0.75, 'research_support': ['Brand recognition studies reveal that familiar brands enjoy increased sales.', 'Marketing literature emphasizes the role of brand perception in consumer choices.'], 'interaction_features': [], 'test_priority': 0.6, 'aggregate_by': {'date_sale': 'sales.date', 'product': 'sales.prod_id'}, 'data_requirements': {'required_tables': ['sales', 'prd_mstr'], 'required_columns': ['sales.vol', 'prd_mstr.brand'], 'join_requirements': 'sales.prod_id = prd_mstr.prd_id'}}, 'etl_schema': {}, 'correlation_analysis': {'error': \"Correlation analysis failed: Could not convert string '' to numeric\"}, 'visualizations': {'error': \"ufunc 'multiply' did not contain a loop with signature matching types (dtype('<U1'), dtype('float64')) -> None\"}, 'feature_engineering_insights': {}, 'statistical_summary': {}, 'status': 'completed'}}], 'failed_hypotheses': []}, 'hypothesis_testing_results': [{'hypothesis_id': 'hyp_1', 'status': 'success', 'result': {'hypothesis': {'hypothesis_id': 'hyp_1', 'hypothesis': 'Higher advertising spend leads to increased sales volume in the FMCG sector.', 'target_variable': {'name': 'sales.vol', 'alias': 'sales_vol', 'transformation': 'none', 'measure_func': 'sum'}, 'predictor_variable': {'name': 'ad_spends.amt', 'alias': 'ad_spends_amt', 'transformation': 'log_linear', 'measure_func': 'sum'}, 'relationship_type': 'log_linear_relationship', 'expected_impact': 'positive', 'confidence': 0.88, 'research_support': ['FMCG studies show a direct correlation between marketing spend and sales volume.', 'Industry insights indicate that increases in ad spend drive customer awareness and sales.'], 'interaction_features': ['ad_spends.amt * social.eng_rate'], 'test_priority': 0.9, 'aggregate_by': {'date_sale': 'sales.date', 'campaign': 'ad_spends.camp_id'}, 'data_requirements': {'required_tables': ['sales', 'ad_spends'], 'required_columns': ['sales.vol', 'ad_spends.amt'], 'join_requirements': 'sales.date = ad_spends.date'}}, 'etl_schema': {}, 'correlation_analysis': {'error': 'Insufficient data after cleaning: 0 rows remaining'}, 'visualizations': {'scatter_plot': 'visualizations/scatter_ad_spends_amt_sales_vol.png', 'correlation_heatmap': 'visualizations/heatmap_ad_spends_amt_sales_vol.png'}, 'feature_engineering_insights': {}, 'statistical_summary': {}, 'status': 'completed'}}, {'hypothesis_id': 'hyp_2', 'status': 'success', 'result': {'hypothesis': {'hypothesis_id': 'hyp_2', 'hypothesis': 'The percentage change in sales due to pricing strategies positively impacts the overall sales volume.', 'target_variable': {'name': 'sales.vol', 'alias': 'sales_vol', 'transformation': 'none', 'measure_func': 'sum'}, 'predictor_variable': {'name': 'pric_strat.sales_chg', 'alias': 'pric_strat_sales_chg', 'transformation': 'log_linear', 'measure_func': 'average'}, 'relationship_type': 'log_linear_relationship', 'expected_impact': 'positive', 'confidence': 0.85, 'research_support': ['Research indicates effective pricing strategies significantly influence sales volume.', 'Economic literature suggests a positive relationship between sales change metrics and sales volume.'], 'interaction_features': ['pric_strat.sales_chg * price_sense.price_dec'], 'test_priority': 0.85, 'aggregate_by': {'date_sale': 'sales.date', 'product': 'sales.prod_id'}, 'data_requirements': {'required_tables': ['sales', 'pric_strat'], 'required_columns': ['sales.vol', 'pric_strat.sales_chg'], 'join_requirements': 'sales.prod_id = pric_strat.prid'}}, 'etl_schema': {}, 'correlation_analysis': {'correlations': {'pearson': {'correlation': nan, 'p_value': nan, 'significant': False}, 'spearman': {'correlation': nan, 'p_value': nan, 'significant': False}}, 'variables': {'target': 'sales_vol', 'predictor': 'pric_strat_sales_chg'}, 'statistics': {'sample_size': 200, 'target_mean': 0.4539619817610351, 'predictor_mean': 0.0, 'target_std': 0.484107089159313, 'predictor_std': 0.0}, 'hypothesis_support': {'direction_match': False, 'significant': False, 'correlation_strength': nan, 'support_score': 0.0, 'expected_impact': 'positive', 'actual_correlation': nan}}, 'visualizations': {'scatter_plot': 'visualizations/scatter_pric_strat_sales_chg_sales_vol.png', 'correlation_heatmap': 'visualizations/heatmap_pric_strat_sales_chg_sales_vol.png'}, 'feature_engineering_insights': {}, 'statistical_summary': {}, 'status': 'completed'}}, {'hypothesis_id': 'hyp_3', 'status': 'success', 'result': {'hypothesis': {'hypothesis_id': 'hyp_3', 'hypothesis': 'Increased market coverage positively affects sales volume in FMCG.', 'target_variable': {'name': 'sales.vol', 'alias': 'sales_vol', 'transformation': 'none', 'measure_func': 'sum'}, 'predictor_variable': {'name': 'mkt_coverage.st_cnt', 'alias': 'mkt_coverage_st_cnt', 'transformation': 'none', 'measure_func': 'sum'}, 'relationship_type': 'linear_relationship', 'expected_impact': 'positive', 'confidence': 0.8, 'research_support': ['Previous studies show positive correlations between market coverage and sales volume.', 'Industry data supports the argument that wider market coverage increases product visibility.'], 'interaction_features': [], 'test_priority': 0.8, 'aggregate_by': {'date_sale': 'sales.date'}, 'data_requirements': {'required_tables': ['sales', 'mkt_coverage'], 'required_columns': ['sales.vol', 'mkt_coverage.st_cnt'], 'join_requirements': 'sales.date = mkt_coverage.date'}}, 'etl_schema': {}, 'correlation_analysis': {'error': 'Insufficient data after cleaning: 0 rows remaining'}, 'visualizations': {'scatter_plot': 'visualizations/scatter_mkt_coverage_st_cnt_sales_vol.png', 'correlation_heatmap': 'visualizations/heatmap_mkt_coverage_st_cnt_sales_vol.png'}, 'feature_engineering_insights': {}, 'statistical_summary': {}, 'status': 'completed'}}, {'hypothesis_id': 'hyp_4', 'status': 'success', 'result': {'hypothesis': {'hypothesis_id': 'hyp_4', 'hypothesis': 'Social media engagement rate positively influences sales volume.', 'target_variable': {'name': 'sales.vol', 'alias': 'sales_vol', 'transformation': 'none', 'measure_func': 'sum'}, 'predictor_variable': {'name': 'social.eng_rate', 'alias': 'social_eng_rate', 'transformation': 'log_linear', 'measure_func': 'average'}, 'relationship_type': 'log_linear_relationship', 'expected_impact': 'positive', 'confidence': 0.83, 'research_support': ['Studies indicate a strong correlation between social engagement and purchasing behavior.', 'Increased social media activity is shown to drive consumer interest and consequently sales.'], 'interaction_features': [], 'test_priority': 0.7, 'aggregate_by': {'date_sale': 'sales.date'}, 'data_requirements': {'required_tables': ['sales', 'social'], 'required_columns': ['sales.vol', 'social.eng_rate'], 'join_requirements': 'sales.date = social.date'}}, 'etl_schema': {}, 'correlation_analysis': {'error': 'Insufficient data after cleaning: 0 rows remaining'}, 'visualizations': {'scatter_plot': 'visualizations/scatter_social_eng_rate_sales_vol.png', 'correlation_heatmap': 'visualizations/heatmap_social_eng_rate_sales_vol.png'}, 'feature_engineering_insights': {}, 'statistical_summary': {}, 'status': 'completed'}}, {'hypothesis_id': 'hyp_5', 'status': 'success', 'result': {'hypothesis': {'hypothesis_id': 'hyp_5', 'hypothesis': \"The brand's recognition level positively affects sales volume.\", 'target_variable': {'name': 'sales.vol', 'alias': 'sales_vol', 'transformation': 'none', 'measure_func': 'sum'}, 'predictor_variable': {'name': 'prd_mstr.brand', 'alias': 'brand', 'transformation': 'none', 'measure_func': 'count'}, 'relationship_type': 'linear_relationship', 'expected_impact': 'positive', 'confidence': 0.75, 'research_support': ['Brand recognition studies reveal that familiar brands enjoy increased sales.', 'Marketing literature emphasizes the role of brand perception in consumer choices.'], 'interaction_features': [], 'test_priority': 0.6, 'aggregate_by': {'date_sale': 'sales.date', 'product': 'sales.prod_id'}, 'data_requirements': {'required_tables': ['sales', 'prd_mstr'], 'required_columns': ['sales.vol', 'prd_mstr.brand'], 'join_requirements': 'sales.prod_id = prd_mstr.prd_id'}}, 'etl_schema': {}, 'correlation_analysis': {'error': \"Correlation analysis failed: Could not convert string '' to numeric\"}, 'visualizations': {'error': \"ufunc 'multiply' did not contain a loop with signature matching types (dtype('<U1'), dtype('float64')) -> None\"}, 'feature_engineering_insights': {}, 'statistical_summary': {}, 'status': 'completed'}}], 'execution_status': 'running', 'error_messages': [], 'performance_metrics': {}, 'current_agent': 'summarizer', 'start_time': datetime.datetime(2025, 10, 2, 22, 28, 32, 967445), 'end_time': None, 'config': {}, 'kb': None, 'intugle_tools': <EDA.tools.intugle_agent_tools.IntugleAgentTools object at 0x000002ADD1F4CD40>}\n",
      "Final Result: {'status': 'success', 'generated_hypotheses': [{'hypothesis_id': 'hyp_1', 'hypothesis': 'Higher advertising spend leads to increased sales volume in the FMCG sector.', 'target_variable': {'name': 'sales.vol', 'alias': 'sales_vol', 'transformation': 'none', 'measure_func': 'sum'}, 'predictor_variable': {'name': 'ad_spends.amt', 'alias': 'ad_spends_amt', 'transformation': 'log_linear', 'measure_func': 'sum'}, 'relationship_type': 'log_linear_relationship', 'expected_impact': 'positive', 'confidence': 0.88, 'research_support': ['FMCG studies show a direct correlation between marketing spend and sales volume.', 'Industry insights indicate that increases in ad spend drive customer awareness and sales.'], 'interaction_features': ['ad_spends.amt * social.eng_rate'], 'test_priority': 0.9, 'aggregate_by': {'date_sale': 'sales.date', 'campaign': 'ad_spends.camp_id'}, 'data_requirements': {'required_tables': ['sales', 'ad_spends'], 'required_columns': ['sales.vol', 'ad_spends.amt'], 'join_requirements': 'sales.date = ad_spends.date'}}, {'hypothesis_id': 'hyp_2', 'hypothesis': 'The percentage change in sales due to pricing strategies positively impacts the overall sales volume.', 'target_variable': {'name': 'sales.vol', 'alias': 'sales_vol', 'transformation': 'none', 'measure_func': 'sum'}, 'predictor_variable': {'name': 'pric_strat.sales_chg', 'alias': 'pric_strat_sales_chg', 'transformation': 'log_linear', 'measure_func': 'average'}, 'relationship_type': 'log_linear_relationship', 'expected_impact': 'positive', 'confidence': 0.85, 'research_support': ['Research indicates effective pricing strategies significantly influence sales volume.', 'Economic literature suggests a positive relationship between sales change metrics and sales volume.'], 'interaction_features': ['pric_strat.sales_chg * price_sense.price_dec'], 'test_priority': 0.85, 'aggregate_by': {'date_sale': 'sales.date', 'product': 'sales.prod_id'}, 'data_requirements': {'required_tables': ['sales', 'pric_strat'], 'required_columns': ['sales.vol', 'pric_strat.sales_chg'], 'join_requirements': 'sales.prod_id = pric_strat.prid'}}, {'hypothesis_id': 'hyp_3', 'hypothesis': 'Increased market coverage positively affects sales volume in FMCG.', 'target_variable': {'name': 'sales.vol', 'alias': 'sales_vol', 'transformation': 'none', 'measure_func': 'sum'}, 'predictor_variable': {'name': 'mkt_coverage.st_cnt', 'alias': 'mkt_coverage_st_cnt', 'transformation': 'none', 'measure_func': 'sum'}, 'relationship_type': 'linear_relationship', 'expected_impact': 'positive', 'confidence': 0.8, 'research_support': ['Previous studies show positive correlations between market coverage and sales volume.', 'Industry data supports the argument that wider market coverage increases product visibility.'], 'interaction_features': [], 'test_priority': 0.8, 'aggregate_by': {'date_sale': 'sales.date'}, 'data_requirements': {'required_tables': ['sales', 'mkt_coverage'], 'required_columns': ['sales.vol', 'mkt_coverage.st_cnt'], 'join_requirements': 'sales.date = mkt_coverage.date'}}, {'hypothesis_id': 'hyp_4', 'hypothesis': 'Social media engagement rate positively influences sales volume.', 'target_variable': {'name': 'sales.vol', 'alias': 'sales_vol', 'transformation': 'none', 'measure_func': 'sum'}, 'predictor_variable': {'name': 'social.eng_rate', 'alias': 'social_eng_rate', 'transformation': 'log_linear', 'measure_func': 'average'}, 'relationship_type': 'log_linear_relationship', 'expected_impact': 'positive', 'confidence': 0.83, 'research_support': ['Studies indicate a strong correlation between social engagement and purchasing behavior.', 'Increased social media activity is shown to drive consumer interest and consequently sales.'], 'interaction_features': [], 'test_priority': 0.7, 'aggregate_by': {'date_sale': 'sales.date'}, 'data_requirements': {'required_tables': ['sales', 'social'], 'required_columns': ['sales.vol', 'social.eng_rate'], 'join_requirements': 'sales.date = social.date'}}, {'hypothesis_id': 'hyp_5', 'hypothesis': \"The brand's recognition level positively affects sales volume.\", 'target_variable': {'name': 'sales.vol', 'alias': 'sales_vol', 'transformation': 'none', 'measure_func': 'sum'}, 'predictor_variable': {'name': 'prd_mstr.brand', 'alias': 'brand', 'transformation': 'none', 'measure_func': 'count'}, 'relationship_type': 'linear_relationship', 'expected_impact': 'positive', 'confidence': 0.75, 'research_support': ['Brand recognition studies reveal that familiar brands enjoy increased sales.', 'Marketing literature emphasizes the role of brand perception in consumer choices.'], 'interaction_features': [], 'test_priority': 0.6, 'aggregate_by': {'date_sale': 'sales.date', 'product': 'sales.prod_id'}, 'data_requirements': {'required_tables': ['sales', 'prd_mstr'], 'required_columns': ['sales.vol', 'prd_mstr.brand'], 'join_requirements': 'sales.prod_id = prd_mstr.prd_id'}}], 'eda_analysis_results': [{'hypothesis_id': 'hyp_1', 'status': 'success', 'result': {'hypothesis': {'hypothesis_id': 'hyp_1', 'hypothesis': 'Higher advertising spend leads to increased sales volume in the FMCG sector.', 'target_variable': {'name': 'sales.vol', 'alias': 'sales_vol', 'transformation': 'none', 'measure_func': 'sum'}, 'predictor_variable': {'name': 'ad_spends.amt', 'alias': 'ad_spends_amt', 'transformation': 'log_linear', 'measure_func': 'sum'}, 'relationship_type': 'log_linear_relationship', 'expected_impact': 'positive', 'confidence': 0.88, 'research_support': ['FMCG studies show a direct correlation between marketing spend and sales volume.', 'Industry insights indicate that increases in ad spend drive customer awareness and sales.'], 'interaction_features': ['ad_spends.amt * social.eng_rate'], 'test_priority': 0.9, 'aggregate_by': {'date_sale': 'sales.date', 'campaign': 'ad_spends.camp_id'}, 'data_requirements': {'required_tables': ['sales', 'ad_spends'], 'required_columns': ['sales.vol', 'ad_spends.amt'], 'join_requirements': 'sales.date = ad_spends.date'}}, 'etl_schema': {}, 'correlation_analysis': {'error': 'Insufficient data after cleaning: 0 rows remaining'}, 'visualizations': {'scatter_plot': 'visualizations/scatter_ad_spends_amt_sales_vol.png', 'correlation_heatmap': 'visualizations/heatmap_ad_spends_amt_sales_vol.png'}, 'feature_engineering_insights': {}, 'statistical_summary': {}, 'status': 'completed'}}, {'hypothesis_id': 'hyp_2', 'status': 'success', 'result': {'hypothesis': {'hypothesis_id': 'hyp_2', 'hypothesis': 'The percentage change in sales due to pricing strategies positively impacts the overall sales volume.', 'target_variable': {'name': 'sales.vol', 'alias': 'sales_vol', 'transformation': 'none', 'measure_func': 'sum'}, 'predictor_variable': {'name': 'pric_strat.sales_chg', 'alias': 'pric_strat_sales_chg', 'transformation': 'log_linear', 'measure_func': 'average'}, 'relationship_type': 'log_linear_relationship', 'expected_impact': 'positive', 'confidence': 0.85, 'research_support': ['Research indicates effective pricing strategies significantly influence sales volume.', 'Economic literature suggests a positive relationship between sales change metrics and sales volume.'], 'interaction_features': ['pric_strat.sales_chg * price_sense.price_dec'], 'test_priority': 0.85, 'aggregate_by': {'date_sale': 'sales.date', 'product': 'sales.prod_id'}, 'data_requirements': {'required_tables': ['sales', 'pric_strat'], 'required_columns': ['sales.vol', 'pric_strat.sales_chg'], 'join_requirements': 'sales.prod_id = pric_strat.prid'}}, 'etl_schema': {}, 'correlation_analysis': {'correlations': {'pearson': {'correlation': nan, 'p_value': nan, 'significant': False}, 'spearman': {'correlation': nan, 'p_value': nan, 'significant': False}}, 'variables': {'target': 'sales_vol', 'predictor': 'pric_strat_sales_chg'}, 'statistics': {'sample_size': 200, 'target_mean': 0.4539619817610351, 'predictor_mean': 0.0, 'target_std': 0.484107089159313, 'predictor_std': 0.0}, 'hypothesis_support': {'direction_match': False, 'significant': False, 'correlation_strength': nan, 'support_score': 0.0, 'expected_impact': 'positive', 'actual_correlation': nan}}, 'visualizations': {'scatter_plot': 'visualizations/scatter_pric_strat_sales_chg_sales_vol.png', 'correlation_heatmap': 'visualizations/heatmap_pric_strat_sales_chg_sales_vol.png'}, 'feature_engineering_insights': {}, 'statistical_summary': {}, 'status': 'completed'}}, {'hypothesis_id': 'hyp_3', 'status': 'success', 'result': {'hypothesis': {'hypothesis_id': 'hyp_3', 'hypothesis': 'Increased market coverage positively affects sales volume in FMCG.', 'target_variable': {'name': 'sales.vol', 'alias': 'sales_vol', 'transformation': 'none', 'measure_func': 'sum'}, 'predictor_variable': {'name': 'mkt_coverage.st_cnt', 'alias': 'mkt_coverage_st_cnt', 'transformation': 'none', 'measure_func': 'sum'}, 'relationship_type': 'linear_relationship', 'expected_impact': 'positive', 'confidence': 0.8, 'research_support': ['Previous studies show positive correlations between market coverage and sales volume.', 'Industry data supports the argument that wider market coverage increases product visibility.'], 'interaction_features': [], 'test_priority': 0.8, 'aggregate_by': {'date_sale': 'sales.date'}, 'data_requirements': {'required_tables': ['sales', 'mkt_coverage'], 'required_columns': ['sales.vol', 'mkt_coverage.st_cnt'], 'join_requirements': 'sales.date = mkt_coverage.date'}}, 'etl_schema': {}, 'correlation_analysis': {'error': 'Insufficient data after cleaning: 0 rows remaining'}, 'visualizations': {'scatter_plot': 'visualizations/scatter_mkt_coverage_st_cnt_sales_vol.png', 'correlation_heatmap': 'visualizations/heatmap_mkt_coverage_st_cnt_sales_vol.png'}, 'feature_engineering_insights': {}, 'statistical_summary': {}, 'status': 'completed'}}, {'hypothesis_id': 'hyp_4', 'status': 'success', 'result': {'hypothesis': {'hypothesis_id': 'hyp_4', 'hypothesis': 'Social media engagement rate positively influences sales volume.', 'target_variable': {'name': 'sales.vol', 'alias': 'sales_vol', 'transformation': 'none', 'measure_func': 'sum'}, 'predictor_variable': {'name': 'social.eng_rate', 'alias': 'social_eng_rate', 'transformation': 'log_linear', 'measure_func': 'average'}, 'relationship_type': 'log_linear_relationship', 'expected_impact': 'positive', 'confidence': 0.83, 'research_support': ['Studies indicate a strong correlation between social engagement and purchasing behavior.', 'Increased social media activity is shown to drive consumer interest and consequently sales.'], 'interaction_features': [], 'test_priority': 0.7, 'aggregate_by': {'date_sale': 'sales.date'}, 'data_requirements': {'required_tables': ['sales', 'social'], 'required_columns': ['sales.vol', 'social.eng_rate'], 'join_requirements': 'sales.date = social.date'}}, 'etl_schema': {}, 'correlation_analysis': {'error': 'Insufficient data after cleaning: 0 rows remaining'}, 'visualizations': {'scatter_plot': 'visualizations/scatter_social_eng_rate_sales_vol.png', 'correlation_heatmap': 'visualizations/heatmap_social_eng_rate_sales_vol.png'}, 'feature_engineering_insights': {}, 'statistical_summary': {}, 'status': 'completed'}}, {'hypothesis_id': 'hyp_5', 'status': 'success', 'result': {'hypothesis': {'hypothesis_id': 'hyp_5', 'hypothesis': \"The brand's recognition level positively affects sales volume.\", 'target_variable': {'name': 'sales.vol', 'alias': 'sales_vol', 'transformation': 'none', 'measure_func': 'sum'}, 'predictor_variable': {'name': 'prd_mstr.brand', 'alias': 'brand', 'transformation': 'none', 'measure_func': 'count'}, 'relationship_type': 'linear_relationship', 'expected_impact': 'positive', 'confidence': 0.75, 'research_support': ['Brand recognition studies reveal that familiar brands enjoy increased sales.', 'Marketing literature emphasizes the role of brand perception in consumer choices.'], 'interaction_features': [], 'test_priority': 0.6, 'aggregate_by': {'date_sale': 'sales.date', 'product': 'sales.prod_id'}, 'data_requirements': {'required_tables': ['sales', 'prd_mstr'], 'required_columns': ['sales.vol', 'prd_mstr.brand'], 'join_requirements': 'sales.prod_id = prd_mstr.prd_id'}}, 'etl_schema': {}, 'correlation_analysis': {'error': \"Correlation analysis failed: Could not convert string '' to numeric\"}, 'visualizations': {'error': \"ufunc 'multiply' did not contain a loop with signature matching types (dtype('<U1'), dtype('float64')) -> None\"}, 'feature_engineering_insights': {}, 'statistical_summary': {}, 'status': 'completed'}}], 'results': {'executive_summary': {'overview': {'target_variable': 'sales.vol', 'total_variables_analyzed': 0, 'significant_relationships_found': 0, 'data_quality_score': 0.98, 'analysis_confidence': 'low'}, 'key_findings': [], 'critical_insights': [], 'feature_engineering_priority': {'phase_1': {'description': 'High-priority feature implementation', 'features': [], 'estimated_effort': '2-3 days', 'expected_impact': 'high'}, 'phase_2': {'description': 'Interaction and aggregation features', 'features': [], 'estimated_effort': '1-2 days', 'expected_impact': 'medium'}}, 'modeling_recommendations': [{'category': 'algorithm_selection', 'recommendation': 'Start with linear models (Ridge, Lasso) for interpretability', 'rationale': 'Fewer strong relationships suggest linear models may be sufficient'}, {'category': 'feature_selection', 'recommendation': 'Use correlation-based feature selection with threshold 0.3', 'rationale': 'Focus on variables with moderate to strong correlations'}], 'next_steps': ['Implement high-priority features', 'Set up automated feature engineering pipeline', 'Begin model training with recommended algorithms', 'Validate feature importance matches EDA findings', 'Monitor model performance against success metrics']}, 'feature_engineering_recommendations': {'high_priority_features': [], 'transformation_recommendations': [{'transformation_type': 'standardization', 'variables': 'all_numeric_features', 'reason': 'Improve model convergence and interpretability', 'implementation': 'StandardScaler from sklearn', 'expected_benefit': 'Better model performance and feature comparison'}], 'interaction_features': [], 'aggregation_features': [], 'derived_features': [], 'feature_selection_guidance': {}, 'modeling_considerations': []}, 'synthesis_results': {'data_quality_summary': {'overall_quality': 'good', 'target_variable_quality': {'missing_percentage': 0.0, 'outliers_count': 20, 'distribution_type': 'normal', 'data_type': 'continuous'}, 'quality_issues': 2, 'recommendations': ['Handle 20 outliers detected in sales volume using robust methods.', 'Resolve 107 duplicate values in the dataset for better unique representation.', 'Monitor for variations in sales patterns to improve forecasting accuracy.']}, 'variable_relationships': {'strong_relationships': [], 'moderate_relationships': [], 'weak_relationships': [], 'non_significant': [{'hypothesis_id': 'hyp_1', 'predictor_variable': 'unknown', 'correlation_strength': 0, 'correlation_direction': 'negative', 'significance': 'not_significant', 'transformation': 'none'}, {'hypothesis_id': 'hyp_2', 'predictor_variable': 'unknown', 'correlation_strength': nan, 'correlation_direction': 'negative', 'significance': 'not_significant', 'transformation': 'none'}, {'hypothesis_id': 'hyp_3', 'predictor_variable': 'unknown', 'correlation_strength': 0, 'correlation_direction': 'negative', 'significance': 'not_significant', 'transformation': 'none'}, {'hypothesis_id': 'hyp_4', 'predictor_variable': 'unknown', 'correlation_strength': 0, 'correlation_direction': 'negative', 'significance': 'not_significant', 'transformation': 'none'}, {'hypothesis_id': 'hyp_5', 'predictor_variable': 'unknown', 'correlation_strength': 0, 'correlation_direction': 'negative', 'significance': 'not_significant', 'transformation': 'none'}], 'relationship_patterns': {}}, 'transformation_insights': {'log_transformations_effective': False, 'log_effective_variables': [], 'polynomial_relationships': False, 'polynomial_variables': [], 'standardization_benefits': False}, 'feature_importance': {'high_importance_features': [], 'medium_importance_features': [], 'low_importance_features': [{'feature_name': 'unknown', 'correlation_strength': 0, 'correlation_direction': 'negative', 'significance': 'not_significant'}, {'feature_name': 'unknown', 'correlation_strength': nan, 'correlation_direction': 'negative', 'significance': 'not_significant'}, {'feature_name': 'unknown', 'correlation_strength': 0, 'correlation_direction': 'negative', 'significance': 'not_significant'}, {'feature_name': 'unknown', 'correlation_strength': 0, 'correlation_direction': 'negative', 'significance': 'not_significant'}, {'feature_name': 'unknown', 'correlation_strength': 0, 'correlation_direction': 'negative', 'significance': 'not_significant'}], 'importance_distribution': {}}, 'interaction_insights': {'high_correlation_interactions': [], 'interaction_patterns': {}, 'domain_specific_interactions': []}, 'modeling_implications': {'algorithm_recommendation': 'linear', 'feature_selection_strategy': 'correlation_based', 'validation_strategy': 'stratified', 'complexity_assessment': 'medium', 'expected_performance': 'medium'}}, 'implementation_roadmap': {'phase_1': {'description': 'High-priority feature implementation', 'features': [], 'estimated_effort': '2-3 days', 'expected_impact': 'high'}, 'phase_2': {'description': 'Interaction and aggregation features', 'features': [], 'estimated_effort': '1-2 days', 'expected_impact': 'medium'}}, 'success_metrics': {'model_performance_targets': {'rmse': '< 1000', 'mae': '< 750', 'r2_score': '> 0.75'}, 'feature_importance_thresholds': {'top_5_features': '> 80% of total importance', 'price_features': '> 30% of total importance'}}, 'next_steps': ['Implement high-priority features', 'Set up automated feature engineering pipeline', 'Begin model training with recommended algorithms', 'Validate feature importance matches EDA findings', 'Monitor model performance against success metrics']}, 'execution_metrics': {'execution_time_seconds': None, 'workflow_path': 'summarizer', 'error_count': 0, 'hypotheses_generated': 5, 'performance_metrics': {}, 'hypotheses_file': 'hypothesis_outputs\\\\hypotheses_sales.vol_full_20251002_223054.json'}, 'workflow_path': 'summarizer', 'error_messages': []}\n",
      "✅ Workflow completed successfully!\n"
     ]
    }
   ],
   "source": [
    "# Execute the workflow\n",
    "print(\"🚀 Starting EDA Workflow...\")\n",
    "print(\"=\" * 50)\n",
    "\n",
    "try:\n",
    "    # Run the workflow\n",
    "    workflow_result = await execute_eda_workflow(\n",
    "        target_variable=config[\"target_variable\"],\n",
    "        eda_request=config[\"eda_request\"],\n",
    "        domain_context=config[\"domain_context\"],\n",
    "        hypothesis_limit=config[\"hypothesis_limit\"],\n",
    "        simplified=config[\"simplified\"],\n",
    "        full_data_path=config[\"full_data_path\"],\n",
    "        target_file_name=config[\"target_file_name\"],\n",
    "        files_to_process=config[\"files_to_process\"]\n",
    "    )\n",
    "    \n",
    "    print(\"✅ Workflow completed successfully!\")\n",
    "    \n",
    "except Exception as e:\n",
    "    print(f\"❌ Workflow failed: {e}\")\n",
    "    import traceback\n",
    "    traceback.print_exc()\n",
    "    workflow_result = None\n"
   ]
  },
  {
   "cell_type": "code",
   "execution_count": 24,
   "id": "85d2f65b-c724-49ea-95d3-3753c045f5ab",
   "metadata": {},
   "outputs": [
    {
     "data": {
      "text/plain": [
       "{'status': 'success',\n",
       " 'generated_hypotheses': [{'hypothesis_id': 'hyp_1',\n",
       "   'hypothesis': 'Higher advertising spend leads to increased sales volume in the FMCG sector.',\n",
       "   'target_variable': {'name': 'sales.vol',\n",
       "    'alias': 'sales_vol',\n",
       "    'transformation': 'none',\n",
       "    'measure_func': 'sum'},\n",
       "   'predictor_variable': {'name': 'ad_spends.amt',\n",
       "    'alias': 'ad_spends_amt',\n",
       "    'transformation': 'log_linear',\n",
       "    'measure_func': 'sum'},\n",
       "   'relationship_type': 'log_linear_relationship',\n",
       "   'expected_impact': 'positive',\n",
       "   'confidence': 0.88,\n",
       "   'research_support': ['FMCG studies show a direct correlation between marketing spend and sales volume.',\n",
       "    'Industry insights indicate that increases in ad spend drive customer awareness and sales.'],\n",
       "   'interaction_features': ['ad_spends.amt * social.eng_rate'],\n",
       "   'test_priority': 0.9,\n",
       "   'aggregate_by': {'date_sale': 'sales.date',\n",
       "    'campaign': 'ad_spends.camp_id'},\n",
       "   'data_requirements': {'required_tables': ['sales', 'ad_spends'],\n",
       "    'required_columns': ['sales.vol', 'ad_spends.amt'],\n",
       "    'join_requirements': 'sales.date = ad_spends.date'}},\n",
       "  {'hypothesis_id': 'hyp_2',\n",
       "   'hypothesis': 'The percentage change in sales due to pricing strategies positively impacts the overall sales volume.',\n",
       "   'target_variable': {'name': 'sales.vol',\n",
       "    'alias': 'sales_vol',\n",
       "    'transformation': 'none',\n",
       "    'measure_func': 'sum'},\n",
       "   'predictor_variable': {'name': 'pric_strat.sales_chg',\n",
       "    'alias': 'pric_strat_sales_chg',\n",
       "    'transformation': 'log_linear',\n",
       "    'measure_func': 'average'},\n",
       "   'relationship_type': 'log_linear_relationship',\n",
       "   'expected_impact': 'positive',\n",
       "   'confidence': 0.85,\n",
       "   'research_support': ['Research indicates effective pricing strategies significantly influence sales volume.',\n",
       "    'Economic literature suggests a positive relationship between sales change metrics and sales volume.'],\n",
       "   'interaction_features': ['pric_strat.sales_chg * price_sense.price_dec'],\n",
       "   'test_priority': 0.85,\n",
       "   'aggregate_by': {'date_sale': 'sales.date', 'product': 'sales.prod_id'},\n",
       "   'data_requirements': {'required_tables': ['sales', 'pric_strat'],\n",
       "    'required_columns': ['sales.vol', 'pric_strat.sales_chg'],\n",
       "    'join_requirements': 'sales.prod_id = pric_strat.prid'}},\n",
       "  {'hypothesis_id': 'hyp_3',\n",
       "   'hypothesis': 'Increased market coverage positively affects sales volume in FMCG.',\n",
       "   'target_variable': {'name': 'sales.vol',\n",
       "    'alias': 'sales_vol',\n",
       "    'transformation': 'none',\n",
       "    'measure_func': 'sum'},\n",
       "   'predictor_variable': {'name': 'mkt_coverage.st_cnt',\n",
       "    'alias': 'mkt_coverage_st_cnt',\n",
       "    'transformation': 'none',\n",
       "    'measure_func': 'sum'},\n",
       "   'relationship_type': 'linear_relationship',\n",
       "   'expected_impact': 'positive',\n",
       "   'confidence': 0.8,\n",
       "   'research_support': ['Previous studies show positive correlations between market coverage and sales volume.',\n",
       "    'Industry data supports the argument that wider market coverage increases product visibility.'],\n",
       "   'interaction_features': [],\n",
       "   'test_priority': 0.8,\n",
       "   'aggregate_by': {'date_sale': 'sales.date'},\n",
       "   'data_requirements': {'required_tables': ['sales', 'mkt_coverage'],\n",
       "    'required_columns': ['sales.vol', 'mkt_coverage.st_cnt'],\n",
       "    'join_requirements': 'sales.date = mkt_coverage.date'}},\n",
       "  {'hypothesis_id': 'hyp_4',\n",
       "   'hypothesis': 'Social media engagement rate positively influences sales volume.',\n",
       "   'target_variable': {'name': 'sales.vol',\n",
       "    'alias': 'sales_vol',\n",
       "    'transformation': 'none',\n",
       "    'measure_func': 'sum'},\n",
       "   'predictor_variable': {'name': 'social.eng_rate',\n",
       "    'alias': 'social_eng_rate',\n",
       "    'transformation': 'log_linear',\n",
       "    'measure_func': 'average'},\n",
       "   'relationship_type': 'log_linear_relationship',\n",
       "   'expected_impact': 'positive',\n",
       "   'confidence': 0.83,\n",
       "   'research_support': ['Studies indicate a strong correlation between social engagement and purchasing behavior.',\n",
       "    'Increased social media activity is shown to drive consumer interest and consequently sales.'],\n",
       "   'interaction_features': [],\n",
       "   'test_priority': 0.7,\n",
       "   'aggregate_by': {'date_sale': 'sales.date'},\n",
       "   'data_requirements': {'required_tables': ['sales', 'social'],\n",
       "    'required_columns': ['sales.vol', 'social.eng_rate'],\n",
       "    'join_requirements': 'sales.date = social.date'}},\n",
       "  {'hypothesis_id': 'hyp_5',\n",
       "   'hypothesis': \"The brand's recognition level positively affects sales volume.\",\n",
       "   'target_variable': {'name': 'sales.vol',\n",
       "    'alias': 'sales_vol',\n",
       "    'transformation': 'none',\n",
       "    'measure_func': 'sum'},\n",
       "   'predictor_variable': {'name': 'prd_mstr.brand',\n",
       "    'alias': 'brand',\n",
       "    'transformation': 'none',\n",
       "    'measure_func': 'count'},\n",
       "   'relationship_type': 'linear_relationship',\n",
       "   'expected_impact': 'positive',\n",
       "   'confidence': 0.75,\n",
       "   'research_support': ['Brand recognition studies reveal that familiar brands enjoy increased sales.',\n",
       "    'Marketing literature emphasizes the role of brand perception in consumer choices.'],\n",
       "   'interaction_features': [],\n",
       "   'test_priority': 0.6,\n",
       "   'aggregate_by': {'date_sale': 'sales.date', 'product': 'sales.prod_id'},\n",
       "   'data_requirements': {'required_tables': ['sales', 'prd_mstr'],\n",
       "    'required_columns': ['sales.vol', 'prd_mstr.brand'],\n",
       "    'join_requirements': 'sales.prod_id = prd_mstr.prd_id'}}],\n",
       " 'eda_analysis_results': [{'hypothesis_id': 'hyp_1',\n",
       "   'status': 'success',\n",
       "   'result': {'hypothesis': {'hypothesis_id': 'hyp_1',\n",
       "     'hypothesis': 'Higher advertising spend leads to increased sales volume in the FMCG sector.',\n",
       "     'target_variable': {'name': 'sales.vol',\n",
       "      'alias': 'sales_vol',\n",
       "      'transformation': 'none',\n",
       "      'measure_func': 'sum'},\n",
       "     'predictor_variable': {'name': 'ad_spends.amt',\n",
       "      'alias': 'ad_spends_amt',\n",
       "      'transformation': 'log_linear',\n",
       "      'measure_func': 'sum'},\n",
       "     'relationship_type': 'log_linear_relationship',\n",
       "     'expected_impact': 'positive',\n",
       "     'confidence': 0.88,\n",
       "     'research_support': ['FMCG studies show a direct correlation between marketing spend and sales volume.',\n",
       "      'Industry insights indicate that increases in ad spend drive customer awareness and sales.'],\n",
       "     'interaction_features': ['ad_spends.amt * social.eng_rate'],\n",
       "     'test_priority': 0.9,\n",
       "     'aggregate_by': {'date_sale': 'sales.date',\n",
       "      'campaign': 'ad_spends.camp_id'},\n",
       "     'data_requirements': {'required_tables': ['sales', 'ad_spends'],\n",
       "      'required_columns': ['sales.vol', 'ad_spends.amt'],\n",
       "      'join_requirements': 'sales.date = ad_spends.date'}},\n",
       "    'etl_schema': {},\n",
       "    'correlation_analysis': {'error': 'Insufficient data after cleaning: 0 rows remaining'},\n",
       "    'visualizations': {'scatter_plot': 'visualizations/scatter_ad_spends_amt_sales_vol.png',\n",
       "     'correlation_heatmap': 'visualizations/heatmap_ad_spends_amt_sales_vol.png'},\n",
       "    'feature_engineering_insights': {},\n",
       "    'statistical_summary': {},\n",
       "    'status': 'completed'}},\n",
       "  {'hypothesis_id': 'hyp_2',\n",
       "   'status': 'success',\n",
       "   'result': {'hypothesis': {'hypothesis_id': 'hyp_2',\n",
       "     'hypothesis': 'The percentage change in sales due to pricing strategies positively impacts the overall sales volume.',\n",
       "     'target_variable': {'name': 'sales.vol',\n",
       "      'alias': 'sales_vol',\n",
       "      'transformation': 'none',\n",
       "      'measure_func': 'sum'},\n",
       "     'predictor_variable': {'name': 'pric_strat.sales_chg',\n",
       "      'alias': 'pric_strat_sales_chg',\n",
       "      'transformation': 'log_linear',\n",
       "      'measure_func': 'average'},\n",
       "     'relationship_type': 'log_linear_relationship',\n",
       "     'expected_impact': 'positive',\n",
       "     'confidence': 0.85,\n",
       "     'research_support': ['Research indicates effective pricing strategies significantly influence sales volume.',\n",
       "      'Economic literature suggests a positive relationship between sales change metrics and sales volume.'],\n",
       "     'interaction_features': ['pric_strat.sales_chg * price_sense.price_dec'],\n",
       "     'test_priority': 0.85,\n",
       "     'aggregate_by': {'date_sale': 'sales.date', 'product': 'sales.prod_id'},\n",
       "     'data_requirements': {'required_tables': ['sales', 'pric_strat'],\n",
       "      'required_columns': ['sales.vol', 'pric_strat.sales_chg'],\n",
       "      'join_requirements': 'sales.prod_id = pric_strat.prid'}},\n",
       "    'etl_schema': {},\n",
       "    'correlation_analysis': {'correlations': {'pearson': {'correlation': nan,\n",
       "       'p_value': nan,\n",
       "       'significant': False},\n",
       "      'spearman': {'correlation': nan, 'p_value': nan, 'significant': False}},\n",
       "     'variables': {'target': 'sales_vol', 'predictor': 'pric_strat_sales_chg'},\n",
       "     'statistics': {'sample_size': 200,\n",
       "      'target_mean': 0.4539619817610351,\n",
       "      'predictor_mean': 0.0,\n",
       "      'target_std': 0.484107089159313,\n",
       "      'predictor_std': 0.0},\n",
       "     'hypothesis_support': {'direction_match': False,\n",
       "      'significant': False,\n",
       "      'correlation_strength': nan,\n",
       "      'support_score': 0.0,\n",
       "      'expected_impact': 'positive',\n",
       "      'actual_correlation': nan}},\n",
       "    'visualizations': {'scatter_plot': 'visualizations/scatter_pric_strat_sales_chg_sales_vol.png',\n",
       "     'correlation_heatmap': 'visualizations/heatmap_pric_strat_sales_chg_sales_vol.png'},\n",
       "    'feature_engineering_insights': {},\n",
       "    'statistical_summary': {},\n",
       "    'status': 'completed'}},\n",
       "  {'hypothesis_id': 'hyp_3',\n",
       "   'status': 'success',\n",
       "   'result': {'hypothesis': {'hypothesis_id': 'hyp_3',\n",
       "     'hypothesis': 'Increased market coverage positively affects sales volume in FMCG.',\n",
       "     'target_variable': {'name': 'sales.vol',\n",
       "      'alias': 'sales_vol',\n",
       "      'transformation': 'none',\n",
       "      'measure_func': 'sum'},\n",
       "     'predictor_variable': {'name': 'mkt_coverage.st_cnt',\n",
       "      'alias': 'mkt_coverage_st_cnt',\n",
       "      'transformation': 'none',\n",
       "      'measure_func': 'sum'},\n",
       "     'relationship_type': 'linear_relationship',\n",
       "     'expected_impact': 'positive',\n",
       "     'confidence': 0.8,\n",
       "     'research_support': ['Previous studies show positive correlations between market coverage and sales volume.',\n",
       "      'Industry data supports the argument that wider market coverage increases product visibility.'],\n",
       "     'interaction_features': [],\n",
       "     'test_priority': 0.8,\n",
       "     'aggregate_by': {'date_sale': 'sales.date'},\n",
       "     'data_requirements': {'required_tables': ['sales', 'mkt_coverage'],\n",
       "      'required_columns': ['sales.vol', 'mkt_coverage.st_cnt'],\n",
       "      'join_requirements': 'sales.date = mkt_coverage.date'}},\n",
       "    'etl_schema': {},\n",
       "    'correlation_analysis': {'error': 'Insufficient data after cleaning: 0 rows remaining'},\n",
       "    'visualizations': {'scatter_plot': 'visualizations/scatter_mkt_coverage_st_cnt_sales_vol.png',\n",
       "     'correlation_heatmap': 'visualizations/heatmap_mkt_coverage_st_cnt_sales_vol.png'},\n",
       "    'feature_engineering_insights': {},\n",
       "    'statistical_summary': {},\n",
       "    'status': 'completed'}},\n",
       "  {'hypothesis_id': 'hyp_4',\n",
       "   'status': 'success',\n",
       "   'result': {'hypothesis': {'hypothesis_id': 'hyp_4',\n",
       "     'hypothesis': 'Social media engagement rate positively influences sales volume.',\n",
       "     'target_variable': {'name': 'sales.vol',\n",
       "      'alias': 'sales_vol',\n",
       "      'transformation': 'none',\n",
       "      'measure_func': 'sum'},\n",
       "     'predictor_variable': {'name': 'social.eng_rate',\n",
       "      'alias': 'social_eng_rate',\n",
       "      'transformation': 'log_linear',\n",
       "      'measure_func': 'average'},\n",
       "     'relationship_type': 'log_linear_relationship',\n",
       "     'expected_impact': 'positive',\n",
       "     'confidence': 0.83,\n",
       "     'research_support': ['Studies indicate a strong correlation between social engagement and purchasing behavior.',\n",
       "      'Increased social media activity is shown to drive consumer interest and consequently sales.'],\n",
       "     'interaction_features': [],\n",
       "     'test_priority': 0.7,\n",
       "     'aggregate_by': {'date_sale': 'sales.date'},\n",
       "     'data_requirements': {'required_tables': ['sales', 'social'],\n",
       "      'required_columns': ['sales.vol', 'social.eng_rate'],\n",
       "      'join_requirements': 'sales.date = social.date'}},\n",
       "    'etl_schema': {},\n",
       "    'correlation_analysis': {'error': 'Insufficient data after cleaning: 0 rows remaining'},\n",
       "    'visualizations': {'scatter_plot': 'visualizations/scatter_social_eng_rate_sales_vol.png',\n",
       "     'correlation_heatmap': 'visualizations/heatmap_social_eng_rate_sales_vol.png'},\n",
       "    'feature_engineering_insights': {},\n",
       "    'statistical_summary': {},\n",
       "    'status': 'completed'}},\n",
       "  {'hypothesis_id': 'hyp_5',\n",
       "   'status': 'success',\n",
       "   'result': {'hypothesis': {'hypothesis_id': 'hyp_5',\n",
       "     'hypothesis': \"The brand's recognition level positively affects sales volume.\",\n",
       "     'target_variable': {'name': 'sales.vol',\n",
       "      'alias': 'sales_vol',\n",
       "      'transformation': 'none',\n",
       "      'measure_func': 'sum'},\n",
       "     'predictor_variable': {'name': 'prd_mstr.brand',\n",
       "      'alias': 'brand',\n",
       "      'transformation': 'none',\n",
       "      'measure_func': 'count'},\n",
       "     'relationship_type': 'linear_relationship',\n",
       "     'expected_impact': 'positive',\n",
       "     'confidence': 0.75,\n",
       "     'research_support': ['Brand recognition studies reveal that familiar brands enjoy increased sales.',\n",
       "      'Marketing literature emphasizes the role of brand perception in consumer choices.'],\n",
       "     'interaction_features': [],\n",
       "     'test_priority': 0.6,\n",
       "     'aggregate_by': {'date_sale': 'sales.date', 'product': 'sales.prod_id'},\n",
       "     'data_requirements': {'required_tables': ['sales', 'prd_mstr'],\n",
       "      'required_columns': ['sales.vol', 'prd_mstr.brand'],\n",
       "      'join_requirements': 'sales.prod_id = prd_mstr.prd_id'}},\n",
       "    'etl_schema': {},\n",
       "    'correlation_analysis': {'error': \"Correlation analysis failed: Could not convert string '' to numeric\"},\n",
       "    'visualizations': {'error': \"ufunc 'multiply' did not contain a loop with signature matching types (dtype('<U1'), dtype('float64')) -> None\"},\n",
       "    'feature_engineering_insights': {},\n",
       "    'statistical_summary': {},\n",
       "    'status': 'completed'}}],\n",
       " 'results': {'executive_summary': {'overview': {'target_variable': 'sales.vol',\n",
       "    'total_variables_analyzed': 0,\n",
       "    'significant_relationships_found': 0,\n",
       "    'data_quality_score': 0.98,\n",
       "    'analysis_confidence': 'low'},\n",
       "   'key_findings': [],\n",
       "   'critical_insights': [],\n",
       "   'feature_engineering_priority': {'phase_1': {'description': 'High-priority feature implementation',\n",
       "     'features': [],\n",
       "     'estimated_effort': '2-3 days',\n",
       "     'expected_impact': 'high'},\n",
       "    'phase_2': {'description': 'Interaction and aggregation features',\n",
       "     'features': [],\n",
       "     'estimated_effort': '1-2 days',\n",
       "     'expected_impact': 'medium'}},\n",
       "   'modeling_recommendations': [{'category': 'algorithm_selection',\n",
       "     'recommendation': 'Start with linear models (Ridge, Lasso) for interpretability',\n",
       "     'rationale': 'Fewer strong relationships suggest linear models may be sufficient'},\n",
       "    {'category': 'feature_selection',\n",
       "     'recommendation': 'Use correlation-based feature selection with threshold 0.3',\n",
       "     'rationale': 'Focus on variables with moderate to strong correlations'}],\n",
       "   'next_steps': ['Implement high-priority features',\n",
       "    'Set up automated feature engineering pipeline',\n",
       "    'Begin model training with recommended algorithms',\n",
       "    'Validate feature importance matches EDA findings',\n",
       "    'Monitor model performance against success metrics']},\n",
       "  'feature_engineering_recommendations': {'high_priority_features': [],\n",
       "   'transformation_recommendations': [{'transformation_type': 'standardization',\n",
       "     'variables': 'all_numeric_features',\n",
       "     'reason': 'Improve model convergence and interpretability',\n",
       "     'implementation': 'StandardScaler from sklearn',\n",
       "     'expected_benefit': 'Better model performance and feature comparison'}],\n",
       "   'interaction_features': [],\n",
       "   'aggregation_features': [],\n",
       "   'derived_features': [],\n",
       "   'feature_selection_guidance': {},\n",
       "   'modeling_considerations': []},\n",
       "  'synthesis_results': {'data_quality_summary': {'overall_quality': 'good',\n",
       "    'target_variable_quality': {'missing_percentage': 0.0,\n",
       "     'outliers_count': 20,\n",
       "     'distribution_type': 'normal',\n",
       "     'data_type': 'continuous'},\n",
       "    'quality_issues': 2,\n",
       "    'recommendations': ['Handle 20 outliers detected in sales volume using robust methods.',\n",
       "     'Resolve 107 duplicate values in the dataset for better unique representation.',\n",
       "     'Monitor for variations in sales patterns to improve forecasting accuracy.']},\n",
       "   'variable_relationships': {'strong_relationships': [],\n",
       "    'moderate_relationships': [],\n",
       "    'weak_relationships': [],\n",
       "    'non_significant': [{'hypothesis_id': 'hyp_1',\n",
       "      'predictor_variable': 'unknown',\n",
       "      'correlation_strength': 0,\n",
       "      'correlation_direction': 'negative',\n",
       "      'significance': 'not_significant',\n",
       "      'transformation': 'none'},\n",
       "     {'hypothesis_id': 'hyp_2',\n",
       "      'predictor_variable': 'unknown',\n",
       "      'correlation_strength': nan,\n",
       "      'correlation_direction': 'negative',\n",
       "      'significance': 'not_significant',\n",
       "      'transformation': 'none'},\n",
       "     {'hypothesis_id': 'hyp_3',\n",
       "      'predictor_variable': 'unknown',\n",
       "      'correlation_strength': 0,\n",
       "      'correlation_direction': 'negative',\n",
       "      'significance': 'not_significant',\n",
       "      'transformation': 'none'},\n",
       "     {'hypothesis_id': 'hyp_4',\n",
       "      'predictor_variable': 'unknown',\n",
       "      'correlation_strength': 0,\n",
       "      'correlation_direction': 'negative',\n",
       "      'significance': 'not_significant',\n",
       "      'transformation': 'none'},\n",
       "     {'hypothesis_id': 'hyp_5',\n",
       "      'predictor_variable': 'unknown',\n",
       "      'correlation_strength': 0,\n",
       "      'correlation_direction': 'negative',\n",
       "      'significance': 'not_significant',\n",
       "      'transformation': 'none'}],\n",
       "    'relationship_patterns': {}},\n",
       "   'transformation_insights': {'log_transformations_effective': False,\n",
       "    'log_effective_variables': [],\n",
       "    'polynomial_relationships': False,\n",
       "    'polynomial_variables': [],\n",
       "    'standardization_benefits': False},\n",
       "   'feature_importance': {'high_importance_features': [],\n",
       "    'medium_importance_features': [],\n",
       "    'low_importance_features': [{'feature_name': 'unknown',\n",
       "      'correlation_strength': 0,\n",
       "      'correlation_direction': 'negative',\n",
       "      'significance': 'not_significant'},\n",
       "     {'feature_name': 'unknown',\n",
       "      'correlation_strength': nan,\n",
       "      'correlation_direction': 'negative',\n",
       "      'significance': 'not_significant'},\n",
       "     {'feature_name': 'unknown',\n",
       "      'correlation_strength': 0,\n",
       "      'correlation_direction': 'negative',\n",
       "      'significance': 'not_significant'},\n",
       "     {'feature_name': 'unknown',\n",
       "      'correlation_strength': 0,\n",
       "      'correlation_direction': 'negative',\n",
       "      'significance': 'not_significant'},\n",
       "     {'feature_name': 'unknown',\n",
       "      'correlation_strength': 0,\n",
       "      'correlation_direction': 'negative',\n",
       "      'significance': 'not_significant'}],\n",
       "    'importance_distribution': {}},\n",
       "   'interaction_insights': {'high_correlation_interactions': [],\n",
       "    'interaction_patterns': {},\n",
       "    'domain_specific_interactions': []},\n",
       "   'modeling_implications': {'algorithm_recommendation': 'linear',\n",
       "    'feature_selection_strategy': 'correlation_based',\n",
       "    'validation_strategy': 'stratified',\n",
       "    'complexity_assessment': 'medium',\n",
       "    'expected_performance': 'medium'}},\n",
       "  'implementation_roadmap': {'phase_1': {'description': 'High-priority feature implementation',\n",
       "    'features': [],\n",
       "    'estimated_effort': '2-3 days',\n",
       "    'expected_impact': 'high'},\n",
       "   'phase_2': {'description': 'Interaction and aggregation features',\n",
       "    'features': [],\n",
       "    'estimated_effort': '1-2 days',\n",
       "    'expected_impact': 'medium'}},\n",
       "  'success_metrics': {'model_performance_targets': {'rmse': '< 1000',\n",
       "    'mae': '< 750',\n",
       "    'r2_score': '> 0.75'},\n",
       "   'feature_importance_thresholds': {'top_5_features': '> 80% of total importance',\n",
       "    'price_features': '> 30% of total importance'}},\n",
       "  'next_steps': ['Implement high-priority features',\n",
       "   'Set up automated feature engineering pipeline',\n",
       "   'Begin model training with recommended algorithms',\n",
       "   'Validate feature importance matches EDA findings',\n",
       "   'Monitor model performance against success metrics']},\n",
       " 'execution_metrics': {'execution_time_seconds': None,\n",
       "  'workflow_path': 'summarizer',\n",
       "  'error_count': 0,\n",
       "  'hypotheses_generated': 5,\n",
       "  'performance_metrics': {},\n",
       "  'hypotheses_file': 'hypothesis_outputs\\\\hypotheses_sales.vol_full_20251002_223054.json'},\n",
       " 'workflow_path': 'summarizer',\n",
       " 'error_messages': []}"
      ]
     },
     "execution_count": 24,
     "metadata": {},
     "output_type": "execute_result"
    }
   ],
   "source": [
    "###### Workflow Results Summary\n",
    "workflow_result"
   ]
  },
  {
   "cell_type": "code",
   "execution_count": 25,
   "id": "3121a6ed",
   "metadata": {},
   "outputs": [
    {
     "data": {
      "text/html": [
       "<h3 style=\"color: green;\">✅ Workflow Status: SUCCESS</h3>"
      ],
      "text/plain": [
       "<IPython.core.display.HTML object>"
      ]
     },
     "metadata": {},
     "output_type": "display_data"
    },
    {
     "data": {
      "text/html": [
       "<h4>📊 Execution Metrics:</h4>"
      ],
      "text/plain": [
       "<IPython.core.display.HTML object>"
      ]
     },
     "metadata": {},
     "output_type": "display_data"
    },
    {
     "data": {
      "text/html": [
       "<div>\n",
       "<style scoped>\n",
       "    .dataframe tbody tr th:only-of-type {\n",
       "        vertical-align: middle;\n",
       "    }\n",
       "\n",
       "    .dataframe tbody tr th {\n",
       "        vertical-align: top;\n",
       "    }\n",
       "\n",
       "    .dataframe thead th {\n",
       "        text-align: right;\n",
       "    }\n",
       "</style>\n",
       "<table border=\"1\" class=\"dataframe\">\n",
       "  <thead>\n",
       "    <tr style=\"text-align: right;\">\n",
       "      <th></th>\n",
       "      <th>Metric</th>\n",
       "      <th>Value</th>\n",
       "    </tr>\n",
       "  </thead>\n",
       "  <tbody>\n",
       "    <tr>\n",
       "      <th>0</th>\n",
       "      <td>execution_time_seconds</td>\n",
       "      <td>None</td>\n",
       "    </tr>\n",
       "    <tr>\n",
       "      <th>1</th>\n",
       "      <td>workflow_path</td>\n",
       "      <td>summarizer</td>\n",
       "    </tr>\n",
       "    <tr>\n",
       "      <th>2</th>\n",
       "      <td>error_count</td>\n",
       "      <td>0</td>\n",
       "    </tr>\n",
       "    <tr>\n",
       "      <th>3</th>\n",
       "      <td>hypotheses_generated</td>\n",
       "      <td>5</td>\n",
       "    </tr>\n",
       "    <tr>\n",
       "      <th>4</th>\n",
       "      <td>performance_metrics</td>\n",
       "      <td>{}</td>\n",
       "    </tr>\n",
       "    <tr>\n",
       "      <th>5</th>\n",
       "      <td>hypotheses_file</td>\n",
       "      <td>hypothesis_outputs\\hypotheses_sales.vol_full_2...</td>\n",
       "    </tr>\n",
       "  </tbody>\n",
       "</table>\n",
       "</div>"
      ],
      "text/plain": [
       "                   Metric                                              Value\n",
       "0  execution_time_seconds                                               None\n",
       "1           workflow_path                                         summarizer\n",
       "2             error_count                                                  0\n",
       "3    hypotheses_generated                                                  5\n",
       "4     performance_metrics                                                 {}\n",
       "5         hypotheses_file  hypothesis_outputs\\hypotheses_sales.vol_full_2..."
      ]
     },
     "metadata": {},
     "output_type": "display_data"
    }
   ],
   "source": [
    "if workflow_result:\n",
    "    # Display workflow status\n",
    "    status = workflow_result.get('status', 'unknown')\n",
    "    \n",
    "    if status == 'success':\n",
    "        display(HTML('<h3 style=\"color: green;\">✅ Workflow Status: SUCCESS</h3>'))\n",
    "    else:\n",
    "        display(HTML(f'<h3 style=\"color: red;\">❌ Workflow Status: {status.upper()}</h3>'))\n",
    "    \n",
    "    # Display execution metrics\n",
    "    metrics = workflow_result.get('execution_metrics', {})\n",
    "    if metrics:\n",
    "        display(HTML('<h4>📊 Execution Metrics:</h4>'))\n",
    "        metrics_df = pd.DataFrame(list(metrics.items()), columns=['Metric', 'Value'])\n",
    "        display(metrics_df)\n",
    "    \n",
    "    # Display any error messages\n",
    "    error_messages = workflow_result.get('error_messages', [])\n",
    "    if error_messages:\n",
    "        display(HTML('<h4 style=\"color: orange;\">⚠️ Error Messages:</h4>'))\n",
    "        for i, error in enumerate(error_messages, 1):\n",
    "            display(HTML(f'<p>{i}. {error}</p>'))\n",
    "else:\n",
    "    display(HTML('<h3 style=\"color: red;\">❌ No workflow results available</h3>'))\n"
   ]
  },
  {
   "cell_type": "markdown",
   "id": "0e34c56b",
   "metadata": {},
   "source": [
    "## Generated Hypotheses\n",
    "\n",
    "Display all generated hypotheses in a clean, organized format:\n"
   ]
  },
  {
   "cell_type": "code",
   "execution_count": 30,
   "id": "e13d0588-c142-4172-9103-3ad62400d2e8",
   "metadata": {},
   "outputs": [
    {
     "name": "stdout",
     "output_type": "stream",
     "text": [
      "{'status': 'success', 'generated_hypotheses': [{'hypothesis_id': 'hyp_1', 'hypothesis': 'Higher advertising spend leads to increased sales volume in the FMCG sector.', 'target_variable': {'name': 'sales.vol', 'alias': 'sales_vol', 'transformation': 'none', 'measure_func': 'sum'}, 'predictor_variable': {'name': 'ad_spends.amt', 'alias': 'ad_spends_amt', 'transformation': 'log_linear', 'measure_func': 'sum'}, 'relationship_type': 'log_linear_relationship', 'expected_impact': 'positive', 'confidence': 0.88, 'research_support': ['FMCG studies show a direct correlation between marketing spend and sales volume.', 'Industry insights indicate that increases in ad spend drive customer awareness and sales.'], 'interaction_features': ['ad_spends.amt * social.eng_rate'], 'test_priority': 0.9, 'aggregate_by': {'date_sale': 'sales.date', 'campaign': 'ad_spends.camp_id'}, 'data_requirements': {'required_tables': ['sales', 'ad_spends'], 'required_columns': ['sales.vol', 'ad_spends.amt'], 'join_requirements': 'sales.date = ad_spends.date'}}, {'hypothesis_id': 'hyp_2', 'hypothesis': 'The percentage change in sales due to pricing strategies positively impacts the overall sales volume.', 'target_variable': {'name': 'sales.vol', 'alias': 'sales_vol', 'transformation': 'none', 'measure_func': 'sum'}, 'predictor_variable': {'name': 'pric_strat.sales_chg', 'alias': 'pric_strat_sales_chg', 'transformation': 'log_linear', 'measure_func': 'average'}, 'relationship_type': 'log_linear_relationship', 'expected_impact': 'positive', 'confidence': 0.85, 'research_support': ['Research indicates effective pricing strategies significantly influence sales volume.', 'Economic literature suggests a positive relationship between sales change metrics and sales volume.'], 'interaction_features': ['pric_strat.sales_chg * price_sense.price_dec'], 'test_priority': 0.85, 'aggregate_by': {'date_sale': 'sales.date', 'product': 'sales.prod_id'}, 'data_requirements': {'required_tables': ['sales', 'pric_strat'], 'required_columns': ['sales.vol', 'pric_strat.sales_chg'], 'join_requirements': 'sales.prod_id = pric_strat.prid'}}, {'hypothesis_id': 'hyp_3', 'hypothesis': 'Increased market coverage positively affects sales volume in FMCG.', 'target_variable': {'name': 'sales.vol', 'alias': 'sales_vol', 'transformation': 'none', 'measure_func': 'sum'}, 'predictor_variable': {'name': 'mkt_coverage.st_cnt', 'alias': 'mkt_coverage_st_cnt', 'transformation': 'none', 'measure_func': 'sum'}, 'relationship_type': 'linear_relationship', 'expected_impact': 'positive', 'confidence': 0.8, 'research_support': ['Previous studies show positive correlations between market coverage and sales volume.', 'Industry data supports the argument that wider market coverage increases product visibility.'], 'interaction_features': [], 'test_priority': 0.8, 'aggregate_by': {'date_sale': 'sales.date'}, 'data_requirements': {'required_tables': ['sales', 'mkt_coverage'], 'required_columns': ['sales.vol', 'mkt_coverage.st_cnt'], 'join_requirements': 'sales.date = mkt_coverage.date'}}, {'hypothesis_id': 'hyp_4', 'hypothesis': 'Social media engagement rate positively influences sales volume.', 'target_variable': {'name': 'sales.vol', 'alias': 'sales_vol', 'transformation': 'none', 'measure_func': 'sum'}, 'predictor_variable': {'name': 'social.eng_rate', 'alias': 'social_eng_rate', 'transformation': 'log_linear', 'measure_func': 'average'}, 'relationship_type': 'log_linear_relationship', 'expected_impact': 'positive', 'confidence': 0.83, 'research_support': ['Studies indicate a strong correlation between social engagement and purchasing behavior.', 'Increased social media activity is shown to drive consumer interest and consequently sales.'], 'interaction_features': [], 'test_priority': 0.7, 'aggregate_by': {'date_sale': 'sales.date'}, 'data_requirements': {'required_tables': ['sales', 'social'], 'required_columns': ['sales.vol', 'social.eng_rate'], 'join_requirements': 'sales.date = social.date'}}, {'hypothesis_id': 'hyp_5', 'hypothesis': \"The brand's recognition level positively affects sales volume.\", 'target_variable': {'name': 'sales.vol', 'alias': 'sales_vol', 'transformation': 'none', 'measure_func': 'sum'}, 'predictor_variable': {'name': 'prd_mstr.brand', 'alias': 'brand', 'transformation': 'none', 'measure_func': 'count'}, 'relationship_type': 'linear_relationship', 'expected_impact': 'positive', 'confidence': 0.75, 'research_support': ['Brand recognition studies reveal that familiar brands enjoy increased sales.', 'Marketing literature emphasizes the role of brand perception in consumer choices.'], 'interaction_features': [], 'test_priority': 0.6, 'aggregate_by': {'date_sale': 'sales.date', 'product': 'sales.prod_id'}, 'data_requirements': {'required_tables': ['sales', 'prd_mstr'], 'required_columns': ['sales.vol', 'prd_mstr.brand'], 'join_requirements': 'sales.prod_id = prd_mstr.prd_id'}}], 'eda_analysis_results': [{'hypothesis_id': 'hyp_1', 'status': 'success', 'result': {'hypothesis': {'hypothesis_id': 'hyp_1', 'hypothesis': 'Higher advertising spend leads to increased sales volume in the FMCG sector.', 'target_variable': {'name': 'sales.vol', 'alias': 'sales_vol', 'transformation': 'none', 'measure_func': 'sum'}, 'predictor_variable': {'name': 'ad_spends.amt', 'alias': 'ad_spends_amt', 'transformation': 'log_linear', 'measure_func': 'sum'}, 'relationship_type': 'log_linear_relationship', 'expected_impact': 'positive', 'confidence': 0.88, 'research_support': ['FMCG studies show a direct correlation between marketing spend and sales volume.', 'Industry insights indicate that increases in ad spend drive customer awareness and sales.'], 'interaction_features': ['ad_spends.amt * social.eng_rate'], 'test_priority': 0.9, 'aggregate_by': {'date_sale': 'sales.date', 'campaign': 'ad_spends.camp_id'}, 'data_requirements': {'required_tables': ['sales', 'ad_spends'], 'required_columns': ['sales.vol', 'ad_spends.amt'], 'join_requirements': 'sales.date = ad_spends.date'}}, 'etl_schema': {}, 'correlation_analysis': {'error': 'Insufficient data after cleaning: 0 rows remaining'}, 'visualizations': {'scatter_plot': 'visualizations/scatter_ad_spends_amt_sales_vol.png', 'correlation_heatmap': 'visualizations/heatmap_ad_spends_amt_sales_vol.png'}, 'feature_engineering_insights': {}, 'statistical_summary': {}, 'status': 'completed'}}, {'hypothesis_id': 'hyp_2', 'status': 'success', 'result': {'hypothesis': {'hypothesis_id': 'hyp_2', 'hypothesis': 'The percentage change in sales due to pricing strategies positively impacts the overall sales volume.', 'target_variable': {'name': 'sales.vol', 'alias': 'sales_vol', 'transformation': 'none', 'measure_func': 'sum'}, 'predictor_variable': {'name': 'pric_strat.sales_chg', 'alias': 'pric_strat_sales_chg', 'transformation': 'log_linear', 'measure_func': 'average'}, 'relationship_type': 'log_linear_relationship', 'expected_impact': 'positive', 'confidence': 0.85, 'research_support': ['Research indicates effective pricing strategies significantly influence sales volume.', 'Economic literature suggests a positive relationship between sales change metrics and sales volume.'], 'interaction_features': ['pric_strat.sales_chg * price_sense.price_dec'], 'test_priority': 0.85, 'aggregate_by': {'date_sale': 'sales.date', 'product': 'sales.prod_id'}, 'data_requirements': {'required_tables': ['sales', 'pric_strat'], 'required_columns': ['sales.vol', 'pric_strat.sales_chg'], 'join_requirements': 'sales.prod_id = pric_strat.prid'}}, 'etl_schema': {}, 'correlation_analysis': {'correlations': {'pearson': {'correlation': nan, 'p_value': nan, 'significant': False}, 'spearman': {'correlation': nan, 'p_value': nan, 'significant': False}}, 'variables': {'target': 'sales_vol', 'predictor': 'pric_strat_sales_chg'}, 'statistics': {'sample_size': 200, 'target_mean': 0.4539619817610351, 'predictor_mean': 0.0, 'target_std': 0.484107089159313, 'predictor_std': 0.0}, 'hypothesis_support': {'direction_match': False, 'significant': False, 'correlation_strength': nan, 'support_score': 0.0, 'expected_impact': 'positive', 'actual_correlation': nan}}, 'visualizations': {'scatter_plot': 'visualizations/scatter_pric_strat_sales_chg_sales_vol.png', 'correlation_heatmap': 'visualizations/heatmap_pric_strat_sales_chg_sales_vol.png'}, 'feature_engineering_insights': {}, 'statistical_summary': {}, 'status': 'completed'}}, {'hypothesis_id': 'hyp_3', 'status': 'success', 'result': {'hypothesis': {'hypothesis_id': 'hyp_3', 'hypothesis': 'Increased market coverage positively affects sales volume in FMCG.', 'target_variable': {'name': 'sales.vol', 'alias': 'sales_vol', 'transformation': 'none', 'measure_func': 'sum'}, 'predictor_variable': {'name': 'mkt_coverage.st_cnt', 'alias': 'mkt_coverage_st_cnt', 'transformation': 'none', 'measure_func': 'sum'}, 'relationship_type': 'linear_relationship', 'expected_impact': 'positive', 'confidence': 0.8, 'research_support': ['Previous studies show positive correlations between market coverage and sales volume.', 'Industry data supports the argument that wider market coverage increases product visibility.'], 'interaction_features': [], 'test_priority': 0.8, 'aggregate_by': {'date_sale': 'sales.date'}, 'data_requirements': {'required_tables': ['sales', 'mkt_coverage'], 'required_columns': ['sales.vol', 'mkt_coverage.st_cnt'], 'join_requirements': 'sales.date = mkt_coverage.date'}}, 'etl_schema': {}, 'correlation_analysis': {'error': 'Insufficient data after cleaning: 0 rows remaining'}, 'visualizations': {'scatter_plot': 'visualizations/scatter_mkt_coverage_st_cnt_sales_vol.png', 'correlation_heatmap': 'visualizations/heatmap_mkt_coverage_st_cnt_sales_vol.png'}, 'feature_engineering_insights': {}, 'statistical_summary': {}, 'status': 'completed'}}, {'hypothesis_id': 'hyp_4', 'status': 'success', 'result': {'hypothesis': {'hypothesis_id': 'hyp_4', 'hypothesis': 'Social media engagement rate positively influences sales volume.', 'target_variable': {'name': 'sales.vol', 'alias': 'sales_vol', 'transformation': 'none', 'measure_func': 'sum'}, 'predictor_variable': {'name': 'social.eng_rate', 'alias': 'social_eng_rate', 'transformation': 'log_linear', 'measure_func': 'average'}, 'relationship_type': 'log_linear_relationship', 'expected_impact': 'positive', 'confidence': 0.83, 'research_support': ['Studies indicate a strong correlation between social engagement and purchasing behavior.', 'Increased social media activity is shown to drive consumer interest and consequently sales.'], 'interaction_features': [], 'test_priority': 0.7, 'aggregate_by': {'date_sale': 'sales.date'}, 'data_requirements': {'required_tables': ['sales', 'social'], 'required_columns': ['sales.vol', 'social.eng_rate'], 'join_requirements': 'sales.date = social.date'}}, 'etl_schema': {}, 'correlation_analysis': {'error': 'Insufficient data after cleaning: 0 rows remaining'}, 'visualizations': {'scatter_plot': 'visualizations/scatter_social_eng_rate_sales_vol.png', 'correlation_heatmap': 'visualizations/heatmap_social_eng_rate_sales_vol.png'}, 'feature_engineering_insights': {}, 'statistical_summary': {}, 'status': 'completed'}}, {'hypothesis_id': 'hyp_5', 'status': 'success', 'result': {'hypothesis': {'hypothesis_id': 'hyp_5', 'hypothesis': \"The brand's recognition level positively affects sales volume.\", 'target_variable': {'name': 'sales.vol', 'alias': 'sales_vol', 'transformation': 'none', 'measure_func': 'sum'}, 'predictor_variable': {'name': 'prd_mstr.brand', 'alias': 'brand', 'transformation': 'none', 'measure_func': 'count'}, 'relationship_type': 'linear_relationship', 'expected_impact': 'positive', 'confidence': 0.75, 'research_support': ['Brand recognition studies reveal that familiar brands enjoy increased sales.', 'Marketing literature emphasizes the role of brand perception in consumer choices.'], 'interaction_features': [], 'test_priority': 0.6, 'aggregate_by': {'date_sale': 'sales.date', 'product': 'sales.prod_id'}, 'data_requirements': {'required_tables': ['sales', 'prd_mstr'], 'required_columns': ['sales.vol', 'prd_mstr.brand'], 'join_requirements': 'sales.prod_id = prd_mstr.prd_id'}}, 'etl_schema': {}, 'correlation_analysis': {'error': \"Correlation analysis failed: Could not convert string '' to numeric\"}, 'visualizations': {'error': \"ufunc 'multiply' did not contain a loop with signature matching types (dtype('<U1'), dtype('float64')) -> None\"}, 'feature_engineering_insights': {}, 'statistical_summary': {}, 'status': 'completed'}}], 'results': {'executive_summary': {'overview': {'target_variable': 'sales.vol', 'total_variables_analyzed': 0, 'significant_relationships_found': 0, 'data_quality_score': 0.98, 'analysis_confidence': 'low'}, 'key_findings': [], 'critical_insights': [], 'feature_engineering_priority': {'phase_1': {'description': 'High-priority feature implementation', 'features': [], 'estimated_effort': '2-3 days', 'expected_impact': 'high'}, 'phase_2': {'description': 'Interaction and aggregation features', 'features': [], 'estimated_effort': '1-2 days', 'expected_impact': 'medium'}}, 'modeling_recommendations': [{'category': 'algorithm_selection', 'recommendation': 'Start with linear models (Ridge, Lasso) for interpretability', 'rationale': 'Fewer strong relationships suggest linear models may be sufficient'}, {'category': 'feature_selection', 'recommendation': 'Use correlation-based feature selection with threshold 0.3', 'rationale': 'Focus on variables with moderate to strong correlations'}], 'next_steps': ['Implement high-priority features', 'Set up automated feature engineering pipeline', 'Begin model training with recommended algorithms', 'Validate feature importance matches EDA findings', 'Monitor model performance against success metrics']}, 'feature_engineering_recommendations': {'high_priority_features': [], 'transformation_recommendations': [{'transformation_type': 'standardization', 'variables': 'all_numeric_features', 'reason': 'Improve model convergence and interpretability', 'implementation': 'StandardScaler from sklearn', 'expected_benefit': 'Better model performance and feature comparison'}], 'interaction_features': [], 'aggregation_features': [], 'derived_features': [], 'feature_selection_guidance': {}, 'modeling_considerations': []}, 'synthesis_results': {'data_quality_summary': {'overall_quality': 'good', 'target_variable_quality': {'missing_percentage': 0.0, 'outliers_count': 20, 'distribution_type': 'normal', 'data_type': 'continuous'}, 'quality_issues': 2, 'recommendations': ['Handle 20 outliers detected in sales volume using robust methods.', 'Resolve 107 duplicate values in the dataset for better unique representation.', 'Monitor for variations in sales patterns to improve forecasting accuracy.']}, 'variable_relationships': {'strong_relationships': [], 'moderate_relationships': [], 'weak_relationships': [], 'non_significant': [{'hypothesis_id': 'hyp_1', 'predictor_variable': 'unknown', 'correlation_strength': 0, 'correlation_direction': 'negative', 'significance': 'not_significant', 'transformation': 'none'}, {'hypothesis_id': 'hyp_2', 'predictor_variable': 'unknown', 'correlation_strength': nan, 'correlation_direction': 'negative', 'significance': 'not_significant', 'transformation': 'none'}, {'hypothesis_id': 'hyp_3', 'predictor_variable': 'unknown', 'correlation_strength': 0, 'correlation_direction': 'negative', 'significance': 'not_significant', 'transformation': 'none'}, {'hypothesis_id': 'hyp_4', 'predictor_variable': 'unknown', 'correlation_strength': 0, 'correlation_direction': 'negative', 'significance': 'not_significant', 'transformation': 'none'}, {'hypothesis_id': 'hyp_5', 'predictor_variable': 'unknown', 'correlation_strength': 0, 'correlation_direction': 'negative', 'significance': 'not_significant', 'transformation': 'none'}], 'relationship_patterns': {}}, 'transformation_insights': {'log_transformations_effective': False, 'log_effective_variables': [], 'polynomial_relationships': False, 'polynomial_variables': [], 'standardization_benefits': False}, 'feature_importance': {'high_importance_features': [], 'medium_importance_features': [], 'low_importance_features': [{'feature_name': 'unknown', 'correlation_strength': 0, 'correlation_direction': 'negative', 'significance': 'not_significant'}, {'feature_name': 'unknown', 'correlation_strength': nan, 'correlation_direction': 'negative', 'significance': 'not_significant'}, {'feature_name': 'unknown', 'correlation_strength': 0, 'correlation_direction': 'negative', 'significance': 'not_significant'}, {'feature_name': 'unknown', 'correlation_strength': 0, 'correlation_direction': 'negative', 'significance': 'not_significant'}, {'feature_name': 'unknown', 'correlation_strength': 0, 'correlation_direction': 'negative', 'significance': 'not_significant'}], 'importance_distribution': {}}, 'interaction_insights': {'high_correlation_interactions': [], 'interaction_patterns': {}, 'domain_specific_interactions': []}, 'modeling_implications': {'algorithm_recommendation': 'linear', 'feature_selection_strategy': 'correlation_based', 'validation_strategy': 'stratified', 'complexity_assessment': 'medium', 'expected_performance': 'medium'}}, 'implementation_roadmap': {'phase_1': {'description': 'High-priority feature implementation', 'features': [], 'estimated_effort': '2-3 days', 'expected_impact': 'high'}, 'phase_2': {'description': 'Interaction and aggregation features', 'features': [], 'estimated_effort': '1-2 days', 'expected_impact': 'medium'}}, 'success_metrics': {'model_performance_targets': {'rmse': '< 1000', 'mae': '< 750', 'r2_score': '> 0.75'}, 'feature_importance_thresholds': {'top_5_features': '> 80% of total importance', 'price_features': '> 30% of total importance'}}, 'next_steps': ['Implement high-priority features', 'Set up automated feature engineering pipeline', 'Begin model training with recommended algorithms', 'Validate feature importance matches EDA findings', 'Monitor model performance against success metrics']}, 'execution_metrics': {'execution_time_seconds': None, 'workflow_path': 'summarizer', 'error_count': 0, 'hypotheses_generated': 5, 'performance_metrics': {}, 'hypotheses_file': 'hypothesis_outputs\\\\hypotheses_sales.vol_full_20251002_223054.json'}, 'workflow_path': 'summarizer', 'error_messages': []}\n"
     ]
    }
   ],
   "source": [
    "print(workflow_result)"
   ]
  },
  {
   "cell_type": "code",
   "execution_count": 28,
   "id": "f68ffa5d",
   "metadata": {},
   "outputs": [
    {
     "data": {
      "text/html": [
       "<h3>🧠 Generated Hypotheses (5 total)</h3>"
      ],
      "text/plain": [
       "<IPython.core.display.HTML object>"
      ]
     },
     "metadata": {},
     "output_type": "display_data"
    },
    {
     "data": {
      "text/html": [
       "\n",
       "            <div style=\"border: 1px solid #ddd; border-radius: 8px; padding: 15px; margin: 10px 0; background-color: #f9f9f9;\">\n",
       "                <h4 style=\"color: #2c3e50; margin-top: 0;\">Hypothesis 1</h4>\n",
       "                <p><strong>ID:</strong> hyp_1</p>\n",
       "                <p><strong>Statement:</strong> Higher advertising spend leads to increased sales volume in the FMCG sector.</p>\n",
       "                \n",
       "                <div style=\"display: flex; gap: 20px; margin: 10px 0;\">\n",
       "                    <div>\n",
       "                        <strong>Target Variable:</strong><br>\n",
       "                        sales.vol\n",
       "                    </div>\n",
       "                    <div>\n",
       "                        <strong>Predictor Variable:</strong><br>\n",
       "                        ad_spends.amt\n",
       "                    </div>\n",
       "                </div>\n",
       "                \n",
       "                <div style=\"display: flex; gap: 20px; margin: 10px 0;\">\n",
       "                    <div><strong>Relationship:</strong> log_linear_relationship</div>\n",
       "                    <div><strong>Expected Impact:</strong> positive</div>\n",
       "                    <div><strong>Confidence:</strong> 0.88</div>\n",
       "                </div>\n",
       "                \n",
       "                <div style=\"margin-top: 10px;\">\n",
       "                    <strong>Research Support:</strong>\n",
       "                    <ul>\n",
       "            <li>FMCG studies show a direct correlation between marketing spend and sales volume.</li><li>Industry insights indicate that increases in ad spend drive customer awareness and sales.</li>\n",
       "                    </ul>\n",
       "                </div>\n",
       "            </div>\n",
       "            "
      ],
      "text/plain": [
       "<IPython.core.display.HTML object>"
      ]
     },
     "metadata": {},
     "output_type": "display_data"
    },
    {
     "data": {
      "text/html": [
       "\n",
       "            <div style=\"border: 1px solid #ddd; border-radius: 8px; padding: 15px; margin: 10px 0; background-color: #f9f9f9;\">\n",
       "                <h4 style=\"color: #2c3e50; margin-top: 0;\">Hypothesis 2</h4>\n",
       "                <p><strong>ID:</strong> hyp_2</p>\n",
       "                <p><strong>Statement:</strong> The percentage change in sales due to pricing strategies positively impacts the overall sales volume.</p>\n",
       "                \n",
       "                <div style=\"display: flex; gap: 20px; margin: 10px 0;\">\n",
       "                    <div>\n",
       "                        <strong>Target Variable:</strong><br>\n",
       "                        sales.vol\n",
       "                    </div>\n",
       "                    <div>\n",
       "                        <strong>Predictor Variable:</strong><br>\n",
       "                        pric_strat.sales_chg\n",
       "                    </div>\n",
       "                </div>\n",
       "                \n",
       "                <div style=\"display: flex; gap: 20px; margin: 10px 0;\">\n",
       "                    <div><strong>Relationship:</strong> log_linear_relationship</div>\n",
       "                    <div><strong>Expected Impact:</strong> positive</div>\n",
       "                    <div><strong>Confidence:</strong> 0.85</div>\n",
       "                </div>\n",
       "                \n",
       "                <div style=\"margin-top: 10px;\">\n",
       "                    <strong>Research Support:</strong>\n",
       "                    <ul>\n",
       "            <li>Research indicates effective pricing strategies significantly influence sales volume.</li><li>Economic literature suggests a positive relationship between sales change metrics and sales volume.</li>\n",
       "                    </ul>\n",
       "                </div>\n",
       "            </div>\n",
       "            "
      ],
      "text/plain": [
       "<IPython.core.display.HTML object>"
      ]
     },
     "metadata": {},
     "output_type": "display_data"
    },
    {
     "data": {
      "text/html": [
       "\n",
       "            <div style=\"border: 1px solid #ddd; border-radius: 8px; padding: 15px; margin: 10px 0; background-color: #f9f9f9;\">\n",
       "                <h4 style=\"color: #2c3e50; margin-top: 0;\">Hypothesis 3</h4>\n",
       "                <p><strong>ID:</strong> hyp_3</p>\n",
       "                <p><strong>Statement:</strong> Increased market coverage positively affects sales volume in FMCG.</p>\n",
       "                \n",
       "                <div style=\"display: flex; gap: 20px; margin: 10px 0;\">\n",
       "                    <div>\n",
       "                        <strong>Target Variable:</strong><br>\n",
       "                        sales.vol\n",
       "                    </div>\n",
       "                    <div>\n",
       "                        <strong>Predictor Variable:</strong><br>\n",
       "                        mkt_coverage.st_cnt\n",
       "                    </div>\n",
       "                </div>\n",
       "                \n",
       "                <div style=\"display: flex; gap: 20px; margin: 10px 0;\">\n",
       "                    <div><strong>Relationship:</strong> linear_relationship</div>\n",
       "                    <div><strong>Expected Impact:</strong> positive</div>\n",
       "                    <div><strong>Confidence:</strong> 0.80</div>\n",
       "                </div>\n",
       "                \n",
       "                <div style=\"margin-top: 10px;\">\n",
       "                    <strong>Research Support:</strong>\n",
       "                    <ul>\n",
       "            <li>Previous studies show positive correlations between market coverage and sales volume.</li><li>Industry data supports the argument that wider market coverage increases product visibility.</li>\n",
       "                    </ul>\n",
       "                </div>\n",
       "            </div>\n",
       "            "
      ],
      "text/plain": [
       "<IPython.core.display.HTML object>"
      ]
     },
     "metadata": {},
     "output_type": "display_data"
    },
    {
     "data": {
      "text/html": [
       "\n",
       "            <div style=\"border: 1px solid #ddd; border-radius: 8px; padding: 15px; margin: 10px 0; background-color: #f9f9f9;\">\n",
       "                <h4 style=\"color: #2c3e50; margin-top: 0;\">Hypothesis 4</h4>\n",
       "                <p><strong>ID:</strong> hyp_4</p>\n",
       "                <p><strong>Statement:</strong> Social media engagement rate positively influences sales volume.</p>\n",
       "                \n",
       "                <div style=\"display: flex; gap: 20px; margin: 10px 0;\">\n",
       "                    <div>\n",
       "                        <strong>Target Variable:</strong><br>\n",
       "                        sales.vol\n",
       "                    </div>\n",
       "                    <div>\n",
       "                        <strong>Predictor Variable:</strong><br>\n",
       "                        social.eng_rate\n",
       "                    </div>\n",
       "                </div>\n",
       "                \n",
       "                <div style=\"display: flex; gap: 20px; margin: 10px 0;\">\n",
       "                    <div><strong>Relationship:</strong> log_linear_relationship</div>\n",
       "                    <div><strong>Expected Impact:</strong> positive</div>\n",
       "                    <div><strong>Confidence:</strong> 0.83</div>\n",
       "                </div>\n",
       "                \n",
       "                <div style=\"margin-top: 10px;\">\n",
       "                    <strong>Research Support:</strong>\n",
       "                    <ul>\n",
       "            <li>Studies indicate a strong correlation between social engagement and purchasing behavior.</li><li>Increased social media activity is shown to drive consumer interest and consequently sales.</li>\n",
       "                    </ul>\n",
       "                </div>\n",
       "            </div>\n",
       "            "
      ],
      "text/plain": [
       "<IPython.core.display.HTML object>"
      ]
     },
     "metadata": {},
     "output_type": "display_data"
    },
    {
     "data": {
      "text/html": [
       "\n",
       "            <div style=\"border: 1px solid #ddd; border-radius: 8px; padding: 15px; margin: 10px 0; background-color: #f9f9f9;\">\n",
       "                <h4 style=\"color: #2c3e50; margin-top: 0;\">Hypothesis 5</h4>\n",
       "                <p><strong>ID:</strong> hyp_5</p>\n",
       "                <p><strong>Statement:</strong> The brand's recognition level positively affects sales volume.</p>\n",
       "                \n",
       "                <div style=\"display: flex; gap: 20px; margin: 10px 0;\">\n",
       "                    <div>\n",
       "                        <strong>Target Variable:</strong><br>\n",
       "                        sales.vol\n",
       "                    </div>\n",
       "                    <div>\n",
       "                        <strong>Predictor Variable:</strong><br>\n",
       "                        prd_mstr.brand\n",
       "                    </div>\n",
       "                </div>\n",
       "                \n",
       "                <div style=\"display: flex; gap: 20px; margin: 10px 0;\">\n",
       "                    <div><strong>Relationship:</strong> linear_relationship</div>\n",
       "                    <div><strong>Expected Impact:</strong> positive</div>\n",
       "                    <div><strong>Confidence:</strong> 0.75</div>\n",
       "                </div>\n",
       "                \n",
       "                <div style=\"margin-top: 10px;\">\n",
       "                    <strong>Research Support:</strong>\n",
       "                    <ul>\n",
       "            <li>Brand recognition studies reveal that familiar brands enjoy increased sales.</li><li>Marketing literature emphasizes the role of brand perception in consumer choices.</li>\n",
       "                    </ul>\n",
       "                </div>\n",
       "            </div>\n",
       "            "
      ],
      "text/plain": [
       "<IPython.core.display.HTML object>"
      ]
     },
     "metadata": {},
     "output_type": "display_data"
    }
   ],
   "source": [
    "if workflow_result and 'results' in workflow_result:\n",
    "    results = workflow_result\n",
    "    \n",
    "    # Extract hypotheses\n",
    "    hypotheses = results.get('generated_hypotheses', [])\n",
    "    \n",
    "    if hypotheses:\n",
    "        display(HTML(f'<h3>🧠 Generated Hypotheses ({len(hypotheses)} total)</h3>'))\n",
    "        \n",
    "        for i, hypothesis in enumerate(hypotheses, 1):\n",
    "            # Create hypothesis card\n",
    "            html_content = f\"\"\"\n",
    "            <div style=\"border: 1px solid #ddd; border-radius: 8px; padding: 15px; margin: 10px 0; background-color: #f9f9f9;\">\n",
    "                <h4 style=\"color: #2c3e50; margin-top: 0;\">Hypothesis {i}</h4>\n",
    "                <p><strong>ID:</strong> {hypothesis.get('hypothesis_id', 'N/A')}</p>\n",
    "                <p><strong>Statement:</strong> {hypothesis.get('hypothesis', 'N/A')}</p>\n",
    "                \n",
    "                <div style=\"display: flex; gap: 20px; margin: 10px 0;\">\n",
    "                    <div>\n",
    "                        <strong>Target Variable:</strong><br>\n",
    "                        {hypothesis.get('target_variable', {}).get('name', 'N/A')}\n",
    "                    </div>\n",
    "                    <div>\n",
    "                        <strong>Predictor Variable:</strong><br>\n",
    "                        {hypothesis.get('predictor_variable', {}).get('name', 'N/A')}\n",
    "                    </div>\n",
    "                </div>\n",
    "                \n",
    "                <div style=\"display: flex; gap: 20px; margin: 10px 0;\">\n",
    "                    <div><strong>Relationship:</strong> {hypothesis.get('relationship_type', 'N/A')}</div>\n",
    "                    <div><strong>Expected Impact:</strong> {hypothesis.get('expected_impact', 'N/A')}</div>\n",
    "                    <div><strong>Confidence:</strong> {hypothesis.get('confidence', 'N/A'):.2f}</div>\n",
    "                </div>\n",
    "                \n",
    "                <div style=\"margin-top: 10px;\">\n",
    "                    <strong>Research Support:</strong>\n",
    "                    <ul>\n",
    "            \"\"\"\n",
    "            \n",
    "            research_support = hypothesis.get('research_support', [])\n",
    "            if research_support:\n",
    "                for support in research_support:\n",
    "                    html_content += f\"<li>{support}</li>\"\n",
    "            else:\n",
    "                html_content += \"<li>No research support provided</li>\"\n",
    "            \n",
    "            html_content += \"\"\"\n",
    "                    </ul>\n",
    "                </div>\n",
    "            </div>\n",
    "            \"\"\"\n",
    "            \n",
    "            display(HTML(html_content))\n",
    "    else:\n",
    "        display(HTML('<h3>❌ No hypotheses generated</h3>'))\n",
    "else:\n",
    "    display(HTML('<h3>❌ No workflow results available</h3>'))\n"
   ]
  },
  {
   "cell_type": "markdown",
   "id": "767761d4",
   "metadata": {},
   "source": [
    "## 📊 Hypothesis Testing Visualizations\n",
    "\n",
    "Display scatter plots and correlation heatmaps from hypothesis testing:\n"
   ]
  },
  {
   "cell_type": "code",
   "execution_count": 33,
   "id": "8f7be3fb",
   "metadata": {},
   "outputs": [
    {
     "data": {
      "text/html": [
       "<h3>📊 Hypothesis Testing Visualizations</h3>"
      ],
      "text/plain": [
       "<IPython.core.display.HTML object>"
      ]
     },
     "metadata": {},
     "output_type": "display_data"
    },
    {
     "data": {
      "text/html": [
       "\n",
       "        <div style=\"border: 2px solid #3498db; border-radius: 10px; padding: 15px; margin: 15px 0; background-color: #f8f9fa;\">\n",
       "            <h4 style=\"color: #2c3e50; margin-top: 0;\">🧪 HYP_1</h4>\n",
       "            <p style=\"font-style: italic; color: #7f8c8d;\">Higher advertising spend leads to increased sales volume in the FMCG sector.</p>\n",
       "        </div>\n",
       "        "
      ],
      "text/plain": [
       "<IPython.core.display.HTML object>"
      ]
     },
     "metadata": {},
     "output_type": "display_data"
    },
    {
     "data": {
      "text/html": [
       "<div style=\"display: flex; flex-wrap: wrap; gap: 20px; margin: 10px 0;\">"
      ],
      "text/plain": [
       "<IPython.core.display.HTML object>"
      ]
     },
     "metadata": {},
     "output_type": "display_data"
    },
    {
     "data": {
      "text/html": [
       "\n",
       "                        <div style=\"flex: 1; min-width: 300px; text-align: center;\">\n",
       "                            <h5 style=\"color: #34495e;\">Scatter Plot</h5>\n",
       "                        "
      ],
      "text/plain": [
       "<IPython.core.display.HTML object>"
      ]
     },
     "metadata": {},
     "output_type": "display_data"
    },
    {
     "data": {
      "image/png": "[encoded data removed]",
      "text/plain": [
       "<IPython.core.display.Image object>"
      ]
     },
     "metadata": {
      "image/png": {
       "width": 400
      }
     },
     "output_type": "display_data"
    },
    {
     "data": {
      "text/html": [
       "</div>"
      ],
      "text/plain": [
       "<IPython.core.display.HTML object>"
      ]
     },
     "metadata": {},
     "output_type": "display_data"
    },
    {
     "data": {
      "text/html": [
       "\n",
       "                        <div style=\"flex: 1; min-width: 300px; text-align: center;\">\n",
       "                            <h5 style=\"color: #34495e;\">Correlation Heatmap</h5>\n",
       "                        "
      ],
      "text/plain": [
       "<IPython.core.display.HTML object>"
      ]
     },
     "metadata": {},
     "output_type": "display_data"
    },
    {
     "data": {
      "image/png": "[encoded data removed]",
      "text/plain": [
       "<IPython.core.display.Image object>"
      ]
     },
     "metadata": {
      "image/png": {
       "width": 400
      }
     },
     "output_type": "display_data"
    },
    {
     "data": {
      "text/html": [
       "</div>"
      ],
      "text/plain": [
       "<IPython.core.display.HTML object>"
      ]
     },
     "metadata": {},
     "output_type": "display_data"
    },
    {
     "data": {
      "text/html": [
       "</div>"
      ],
      "text/plain": [
       "<IPython.core.display.HTML object>"
      ]
     },
     "metadata": {},
     "output_type": "display_data"
    },
    {
     "data": {
      "text/html": [
       "<hr style=\"margin: 30px 0; border: 1px solid #ecf0f1;\">"
      ],
      "text/plain": [
       "<IPython.core.display.HTML object>"
      ]
     },
     "metadata": {},
     "output_type": "display_data"
    },
    {
     "data": {
      "text/html": [
       "\n",
       "        <div style=\"border: 2px solid #3498db; border-radius: 10px; padding: 15px; margin: 15px 0; background-color: #f8f9fa;\">\n",
       "            <h4 style=\"color: #2c3e50; margin-top: 0;\">🧪 HYP_2</h4>\n",
       "            <p style=\"font-style: italic; color: #7f8c8d;\">The percentage change in sales due to pricing strategies positively impacts the overall sales volume.</p>\n",
       "        </div>\n",
       "        "
      ],
      "text/plain": [
       "<IPython.core.display.HTML object>"
      ]
     },
     "metadata": {},
     "output_type": "display_data"
    },
    {
     "data": {
      "text/html": [
       "<div style=\"display: flex; flex-wrap: wrap; gap: 20px; margin: 10px 0;\">"
      ],
      "text/plain": [
       "<IPython.core.display.HTML object>"
      ]
     },
     "metadata": {},
     "output_type": "display_data"
    },
    {
     "data": {
      "text/html": [
       "\n",
       "                        <div style=\"flex: 1; min-width: 300px; text-align: center;\">\n",
       "                            <h5 style=\"color: #34495e;\">Scatter Plot</h5>\n",
       "                        "
      ],
      "text/plain": [
       "<IPython.core.display.HTML object>"
      ]
     },
     "metadata": {},
     "output_type": "display_data"
    },
    {
     "data": {
      "image/png": "[encoded data removed]",
      "text/plain": [
       "<IPython.core.display.Image object>"
      ]
     },
     "metadata": {
      "image/png": {
       "width": 400
      }
     },
     "output_type": "display_data"
    },
    {
     "data": {
      "text/html": [
       "</div>"
      ],
      "text/plain": [
       "<IPython.core.display.HTML object>"
      ]
     },
     "metadata": {},
     "output_type": "display_data"
    },
    {
     "data": {
      "text/html": [
       "\n",
       "                        <div style=\"flex: 1; min-width: 300px; text-align: center;\">\n",
       "                            <h5 style=\"color: #34495e;\">Correlation Heatmap</h5>\n",
       "                        "
      ],
      "text/plain": [
       "<IPython.core.display.HTML object>"
      ]
     },
     "metadata": {},
     "output_type": "display_data"
    },
    {
     "data": {
      "image/png": "[encoded data removed]",
      "text/plain": [
       "<IPython.core.display.Image object>"
      ]
     },
     "metadata": {
      "image/png": {
       "width": 400
      }
     },
     "output_type": "display_data"
    },
    {
     "data": {
      "text/html": [
       "</div>"
      ],
      "text/plain": [
       "<IPython.core.display.HTML object>"
      ]
     },
     "metadata": {},
     "output_type": "display_data"
    },
    {
     "data": {
      "text/html": [
       "</div>"
      ],
      "text/plain": [
       "<IPython.core.display.HTML object>"
      ]
     },
     "metadata": {},
     "output_type": "display_data"
    },
    {
     "data": {
      "text/html": [
       "<h5 style=\"color: #27ae60;\">📈 Correlation Analysis Results:</h5>"
      ],
      "text/plain": [
       "<IPython.core.display.HTML object>"
      ]
     },
     "metadata": {},
     "output_type": "display_data"
    },
    {
     "data": {
      "text/html": [
       "\n",
       "            <table style=\"border-collapse: collapse; width: 100%; margin: 10px 0;\">\n",
       "                <tr style=\"background-color: #ecf0f1;\">\n",
       "                    <th style=\"border: 1px solid #bdc3c7; padding: 8px;\">Metric</th>\n",
       "                    <th style=\"border: 1px solid #bdc3c7; padding: 8px;\">Correlation</th>\n",
       "                    <th style=\"border: 1px solid #bdc3c7; padding: 8px;\">P-Value</th>\n",
       "                    <th style=\"border: 1px solid #bdc3c7; padding: 8px;\">Significant</th>\n",
       "                </tr>\n",
       "            \n",
       "                <tr>\n",
       "                    <td style=\"border: 1px solid #bdc3c7; padding: 8px;\"><strong>Pearson</strong></td>\n",
       "                    <td style=\"border: 1px solid #bdc3c7; padding: 8px;\">nan</td>\n",
       "                    <td style=\"border: 1px solid #bdc3c7; padding: 8px;\">nan</td>\n",
       "                    <td style=\"border: 1px solid #bdc3c7; padding: 8px;\">❌</td>\n",
       "                </tr>\n",
       "            \n",
       "                <tr>\n",
       "                    <td style=\"border: 1px solid #bdc3c7; padding: 8px;\"><strong>Spearman</strong></td>\n",
       "                    <td style=\"border: 1px solid #bdc3c7; padding: 8px;\">nan</td>\n",
       "                    <td style=\"border: 1px solid #bdc3c7; padding: 8px;\">nan</td>\n",
       "                    <td style=\"border: 1px solid #bdc3c7; padding: 8px;\">❌</td>\n",
       "                </tr>\n",
       "            </table>"
      ],
      "text/plain": [
       "<IPython.core.display.HTML object>"
      ]
     },
     "metadata": {},
     "output_type": "display_data"
    },
    {
     "data": {
      "text/html": [
       "<hr style=\"margin: 30px 0; border: 1px solid #ecf0f1;\">"
      ],
      "text/plain": [
       "<IPython.core.display.HTML object>"
      ]
     },
     "metadata": {},
     "output_type": "display_data"
    },
    {
     "data": {
      "text/html": [
       "\n",
       "        <div style=\"border: 2px solid #3498db; border-radius: 10px; padding: 15px; margin: 15px 0; background-color: #f8f9fa;\">\n",
       "            <h4 style=\"color: #2c3e50; margin-top: 0;\">🧪 HYP_3</h4>\n",
       "            <p style=\"font-style: italic; color: #7f8c8d;\">Increased market coverage positively affects sales volume in FMCG.</p>\n",
       "        </div>\n",
       "        "
      ],
      "text/plain": [
       "<IPython.core.display.HTML object>"
      ]
     },
     "metadata": {},
     "output_type": "display_data"
    },
    {
     "data": {
      "text/html": [
       "<div style=\"display: flex; flex-wrap: wrap; gap: 20px; margin: 10px 0;\">"
      ],
      "text/plain": [
       "<IPython.core.display.HTML object>"
      ]
     },
     "metadata": {},
     "output_type": "display_data"
    },
    {
     "data": {
      "text/html": [
       "\n",
       "                        <div style=\"flex: 1; min-width: 300px; text-align: center;\">\n",
       "                            <h5 style=\"color: #34495e;\">Scatter Plot</h5>\n",
       "                        "
      ],
      "text/plain": [
       "<IPython.core.display.HTML object>"
      ]
     },
     "metadata": {},
     "output_type": "display_data"
    },
    {
     "data": {
      "image/png": "[encoded data removed]",
      "text/plain": [
       "<IPython.core.display.Image object>"
      ]
     },
     "metadata": {
      "image/png": {
       "width": 400
      }
     },
     "output_type": "display_data"
    },
    {
     "data": {
      "text/html": [
       "</div>"
      ],
      "text/plain": [
       "<IPython.core.display.HTML object>"
      ]
     },
     "metadata": {},
     "output_type": "display_data"
    },
    {
     "data": {
      "text/html": [
       "\n",
       "                        <div style=\"flex: 1; min-width: 300px; text-align: center;\">\n",
       "                            <h5 style=\"color: #34495e;\">Correlation Heatmap</h5>\n",
       "                        "
      ],
      "text/plain": [
       "<IPython.core.display.HTML object>"
      ]
     },
     "metadata": {},
     "output_type": "display_data"
    },
    {
     "data": {
      "image/png": "[encoded data removed]",
      "text/plain": [
       "<IPython.core.display.Image object>"
      ]
     },
     "metadata": {
      "image/png": {
       "width": 400
      }
     },
     "output_type": "display_data"
    },
    {
     "data": {
      "text/html": [
       "</div>"
      ],
      "text/plain": [
       "<IPython.core.display.HTML object>"
      ]
     },
     "metadata": {},
     "output_type": "display_data"
    },
    {
     "data": {
      "text/html": [
       "</div>"
      ],
      "text/plain": [
       "<IPython.core.display.HTML object>"
      ]
     },
     "metadata": {},
     "output_type": "display_data"
    },
    {
     "data": {
      "text/html": [
       "<hr style=\"margin: 30px 0; border: 1px solid #ecf0f1;\">"
      ],
      "text/plain": [
       "<IPython.core.display.HTML object>"
      ]
     },
     "metadata": {},
     "output_type": "display_data"
    },
    {
     "data": {
      "text/html": [
       "\n",
       "        <div style=\"border: 2px solid #3498db; border-radius: 10px; padding: 15px; margin: 15px 0; background-color: #f8f9fa;\">\n",
       "            <h4 style=\"color: #2c3e50; margin-top: 0;\">🧪 HYP_4</h4>\n",
       "            <p style=\"font-style: italic; color: #7f8c8d;\">Social media engagement rate positively influences sales volume.</p>\n",
       "        </div>\n",
       "        "
      ],
      "text/plain": [
       "<IPython.core.display.HTML object>"
      ]
     },
     "metadata": {},
     "output_type": "display_data"
    },
    {
     "data": {
      "text/html": [
       "<div style=\"display: flex; flex-wrap: wrap; gap: 20px; margin: 10px 0;\">"
      ],
      "text/plain": [
       "<IPython.core.display.HTML object>"
      ]
     },
     "metadata": {},
     "output_type": "display_data"
    },
    {
     "data": {
      "text/html": [
       "\n",
       "                        <div style=\"flex: 1; min-width: 300px; text-align: center;\">\n",
       "                            <h5 style=\"color: #34495e;\">Scatter Plot</h5>\n",
       "                        "
      ],
      "text/plain": [
       "<IPython.core.display.HTML object>"
      ]
     },
     "metadata": {},
     "output_type": "display_data"
    },
    {
     "data": {
      "image/png": "[encoded data removed]",
      "text/plain": [
       "<IPython.core.display.Image object>"
      ]
     },
     "metadata": {
      "image/png": {
       "width": 400
      }
     },
     "output_type": "display_data"
    },
    {
     "data": {
      "text/html": [
       "</div>"
      ],
      "text/plain": [
       "<IPython.core.display.HTML object>"
      ]
     },
     "metadata": {},
     "output_type": "display_data"
    },
    {
     "data": {
      "text/html": [
       "\n",
       "                        <div style=\"flex: 1; min-width: 300px; text-align: center;\">\n",
       "                            <h5 style=\"color: #34495e;\">Correlation Heatmap</h5>\n",
       "                        "
      ],
      "text/plain": [
       "<IPython.core.display.HTML object>"
      ]
     },
     "metadata": {},
     "output_type": "display_data"
    },
    {
     "data": {
      "image/png": "[encoded data removed]",
      "text/plain": [
       "<IPython.core.display.Image object>"
      ]
     },
     "metadata": {
      "image/png": {
       "width": 400
      }
     },
     "output_type": "display_data"
    },
    {
     "data": {
      "text/html": [
       "</div>"
      ],
      "text/plain": [
       "<IPython.core.display.HTML object>"
      ]
     },
     "metadata": {},
     "output_type": "display_data"
    },
    {
     "data": {
      "text/html": [
       "</div>"
      ],
      "text/plain": [
       "<IPython.core.display.HTML object>"
      ]
     },
     "metadata": {},
     "output_type": "display_data"
    },
    {
     "data": {
      "text/html": [
       "<hr style=\"margin: 30px 0; border: 1px solid #ecf0f1;\">"
      ],
      "text/plain": [
       "<IPython.core.display.HTML object>"
      ]
     },
     "metadata": {},
     "output_type": "display_data"
    },
    {
     "data": {
      "text/html": [
       "\n",
       "        <div style=\"border: 2px solid #3498db; border-radius: 10px; padding: 15px; margin: 15px 0; background-color: #f8f9fa;\">\n",
       "            <h4 style=\"color: #2c3e50; margin-top: 0;\">🧪 HYP_5</h4>\n",
       "            <p style=\"font-style: italic; color: #7f8c8d;\">The brand's recognition level positively affects sales volume.</p>\n",
       "        </div>\n",
       "        "
      ],
      "text/plain": [
       "<IPython.core.display.HTML object>"
      ]
     },
     "metadata": {},
     "output_type": "display_data"
    },
    {
     "data": {
      "text/html": [
       "<div style=\"display: flex; flex-wrap: wrap; gap: 20px; margin: 10px 0;\">"
      ],
      "text/plain": [
       "<IPython.core.display.HTML object>"
      ]
     },
     "metadata": {},
     "output_type": "display_data"
    },
    {
     "data": {
      "text/html": [
       "<p>Visualization data: ufunc 'multiply' did not contain a loop with signature matching types (dtype('<U1'), dtype('float64')) -> None</p>"
      ],
      "text/plain": [
       "<IPython.core.display.HTML object>"
      ]
     },
     "metadata": {},
     "output_type": "display_data"
    },
    {
     "data": {
      "text/html": [
       "</div>"
      ],
      "text/plain": [
       "<IPython.core.display.HTML object>"
      ]
     },
     "metadata": {},
     "output_type": "display_data"
    },
    {
     "data": {
      "text/html": [
       "<hr style=\"margin: 30px 0; border: 1px solid #ecf0f1;\">"
      ],
      "text/plain": [
       "<IPython.core.display.HTML object>"
      ]
     },
     "metadata": {},
     "output_type": "display_data"
    }
   ],
   "source": [
    "def display_hypothesis_visualizations(workflow_result):\n",
    "    \"\"\"Display visualizations from hypothesis testing results\"\"\"\n",
    "    if not workflow_result:\n",
    "        display(HTML('<h3>❌ No workflow results available for visualizations</h3>'))\n",
    "        return\n",
    "    \n",
    "    # Extract EDA analysis results\n",
    "    eda_results = workflow_result.get('eda_analysis_results', [])\n",
    "    \n",
    "    if not eda_results:\n",
    "        display(HTML('<h3>📊 No hypothesis testing visualizations available</h3>'))\n",
    "        return\n",
    "    \n",
    "    display(HTML('<h3>📊 Hypothesis Testing Visualizations</h3>'))\n",
    "    \n",
    "    # Group visualizations by hypothesis\n",
    "    for i, result in enumerate(eda_results, 1):\n",
    "        hypothesis = result.get('result', {}).get('hypothesis', {})\n",
    "        hypothesis_id = hypothesis.get('hypothesis_id', f'hyp_{i}')\n",
    "        hypothesis_text = hypothesis.get('hypothesis', 'No hypothesis text available')\n",
    "        \n",
    "        # Display hypothesis header\n",
    "        display(HTML(f'''\n",
    "        <div style=\"border: 2px solid #3498db; border-radius: 10px; padding: 15px; margin: 15px 0; background-color: #f8f9fa;\">\n",
    "            <h4 style=\"color: #2c3e50; margin-top: 0;\">🧪 {hypothesis_id.upper()}</h4>\n",
    "            <p style=\"font-style: italic; color: #7f8c8d;\">{hypothesis_text}</p>\n",
    "        </div>\n",
    "        '''))\n",
    "        \n",
    "        # Get visualizations for this hypothesis\n",
    "        visualizations = result.get('result', {}).get('visualizations', {})\n",
    "        \n",
    "        if visualizations:\n",
    "            # Create a grid layout for visualizations\n",
    "            display(HTML('<div style=\"display: flex; flex-wrap: wrap; gap: 20px; margin: 10px 0;\">'))\n",
    "            \n",
    "            for viz_type, viz_path in visualizations.items():\n",
    "                if isinstance(viz_path, str) and viz_path.endswith('.png'):\n",
    "                    # Check if file exists\n",
    "                    if os.path.exists(viz_path):\n",
    "                        display(HTML(f'''\n",
    "                        <div style=\"flex: 1; min-width: 300px; text-align: center;\">\n",
    "                            <h5 style=\"color: #34495e;\">{viz_type.replace(\"_\", \" \").title()}</h5>\n",
    "                        '''))\n",
    "                        \n",
    "                        from IPython.display import Image\n",
    "                        display(Image(viz_path, width=400))\n",
    "                        display(HTML('</div>'))\n",
    "                    else:\n",
    "                        display(HTML(f'<p style=\"color: orange;\">⚠️ File not found: {viz_path}</p>'))\n",
    "                else:\n",
    "                    display(HTML(f'<p>Visualization data: {viz_path}</p>'))\n",
    "            \n",
    "            display(HTML('</div>'))\n",
    "        else:\n",
    "            display(HTML('<p style=\"color: #e74c3c;\">❌ No visualizations available for this hypothesis</p>'))\n",
    "        \n",
    "        # Display correlation analysis results\n",
    "        correlation_analysis = result.get('result', {}).get('correlation_analysis', {})\n",
    "        if correlation_analysis and 'correlations' in correlation_analysis:\n",
    "            display(HTML('<h5 style=\"color: #27ae60;\">📈 Correlation Analysis Results:</h5>'))\n",
    "            \n",
    "            correlations = correlation_analysis['correlations']\n",
    "            pearson = correlations.get('pearson', {})\n",
    "            spearman = correlations.get('spearman', {})\n",
    "            \n",
    "            # Create a nice table for correlation results\n",
    "            corr_html = '''\n",
    "            <table style=\"border-collapse: collapse; width: 100%; margin: 10px 0;\">\n",
    "                <tr style=\"background-color: #ecf0f1;\">\n",
    "                    <th style=\"border: 1px solid #bdc3c7; padding: 8px;\">Metric</th>\n",
    "                    <th style=\"border: 1px solid #bdc3c7; padding: 8px;\">Correlation</th>\n",
    "                    <th style=\"border: 1px solid #bdc3c7; padding: 8px;\">P-Value</th>\n",
    "                    <th style=\"border: 1px solid #bdc3c7; padding: 8px;\">Significant</th>\n",
    "                </tr>\n",
    "            '''\n",
    "            \n",
    "            # Pearson correlation\n",
    "            corr_html += f'''\n",
    "                <tr>\n",
    "                    <td style=\"border: 1px solid #bdc3c7; padding: 8px;\"><strong>Pearson</strong></td>\n",
    "                    <td style=\"border: 1px solid #bdc3c7; padding: 8px;\">{pearson.get('correlation', 'N/A')}</td>\n",
    "                    <td style=\"border: 1px solid #bdc3c7; padding: 8px;\">{pearson.get('p_value', 'N/A')}</td>\n",
    "                    <td style=\"border: 1px solid #bdc3c7; padding: 8px;\">{'✅' if pearson.get('significant', False) else '❌'}</td>\n",
    "                </tr>\n",
    "            '''\n",
    "            \n",
    "            # Spearman correlation\n",
    "            corr_html += f'''\n",
    "                <tr>\n",
    "                    <td style=\"border: 1px solid #bdc3c7; padding: 8px;\"><strong>Spearman</strong></td>\n",
    "                    <td style=\"border: 1px solid #bdc3c7; padding: 8px;\">{spearman.get('correlation', 'N/A')}</td>\n",
    "                    <td style=\"border: 1px solid #bdc3c7; padding: 8px;\">{spearman.get('p_value', 'N/A')}</td>\n",
    "                    <td style=\"border: 1px solid #bdc3c7; padding: 8px;\">{'✅' if spearman.get('significant', False) else '❌'}</td>\n",
    "                </tr>\n",
    "            '''\n",
    "            \n",
    "            corr_html += '</table>'\n",
    "            display(HTML(corr_html))\n",
    "        \n",
    "        display(HTML('<hr style=\"margin: 30px 0; border: 1px solid #ecf0f1;\">'))\n",
    "\n",
    "# Call the function\n",
    "display_hypothesis_visualizations(workflow_result)\n"
   ]
  },
  {
   "cell_type": "markdown",
   "id": "06335a0b",
   "metadata": {},
   "source": [
    "## 📋 Executive Summary\n",
    "\n",
    "Display a comprehensive, formatted executive summary of the analysis results:\n"
   ]
  },
  {
   "cell_type": "code",
   "execution_count": 34,
   "id": "2f7b1383",
   "metadata": {},
   "outputs": [
    {
     "data": {
      "text/html": [
       "<h3>📋 Executive Summary</h3>"
      ],
      "text/plain": [
       "<IPython.core.display.HTML object>"
      ]
     },
     "metadata": {},
     "output_type": "display_data"
    },
    {
     "data": {
      "text/html": [
       "\n",
       "            <div style=\"border: 2px solid #27ae60; border-radius: 10px; padding: 20px; margin: 15px 0; background-color: #f8fff8;\">\n",
       "                <h4 style=\"color: #27ae60; margin-top: 0;\">🎯 Analysis Overview</h4>\n",
       "            "
      ],
      "text/plain": [
       "<IPython.core.display.HTML object>"
      ]
     },
     "metadata": {},
     "output_type": "display_data"
    },
    {
     "data": {
      "text/html": [
       "<p><strong>Target Variable:</strong> <span style=\"color: #e74c3c; font-weight: bold;\">sales.vol</span></p>"
      ],
      "text/plain": [
       "<IPython.core.display.HTML object>"
      ]
     },
     "metadata": {},
     "output_type": "display_data"
    },
    {
     "data": {
      "text/html": [
       "<p><strong>Variables Analyzed:</strong> 0</p>"
      ],
      "text/plain": [
       "<IPython.core.display.HTML object>"
      ]
     },
     "metadata": {},
     "output_type": "display_data"
    },
    {
     "data": {
      "text/html": [
       "<p><strong>Significant Relationships:</strong> <span style=\"color: #27ae60; font-weight: bold;\">0</span></p>"
      ],
      "text/plain": [
       "<IPython.core.display.HTML object>"
      ]
     },
     "metadata": {},
     "output_type": "display_data"
    },
    {
     "data": {
      "text/html": [
       "<p><strong>Data Quality Score:</strong> <span style=\"color: #27ae60; font-weight: bold;\">0.98</span></p>"
      ],
      "text/plain": [
       "<IPython.core.display.HTML object>"
      ]
     },
     "metadata": {},
     "output_type": "display_data"
    },
    {
     "data": {
      "text/html": [
       "<p><strong>Analysis Confidence:</strong> <span style=\"color: #e74c3c; font-weight: bold;\">LOW</span></p>"
      ],
      "text/plain": [
       "<IPython.core.display.HTML object>"
      ]
     },
     "metadata": {},
     "output_type": "display_data"
    },
    {
     "data": {
      "text/html": [
       "</div>"
      ],
      "text/plain": [
       "<IPython.core.display.HTML object>"
      ]
     },
     "metadata": {},
     "output_type": "display_data"
    },
    {
     "data": {
      "text/html": [
       "\n",
       "            <div style=\"border: 2px solid #9b59b6; border-radius: 10px; padding: 20px; margin: 15px 0; background-color: #faf8ff;\">\n",
       "                <h4 style=\"color: #9b59b6; margin-top: 0;\">⚙️ Feature Engineering Priority</h4>\n",
       "            "
      ],
      "text/plain": [
       "<IPython.core.display.HTML object>"
      ]
     },
     "metadata": {},
     "output_type": "display_data"
    },
    {
     "data": {
      "text/html": [
       "\n",
       "                    <div style=\"border: 1px solid #bdc3c7; border-radius: 5px; padding: 15px; margin: 10px 0; background-color: white;\">\n",
       "                        <h5 style=\"color: #8e44ad; margin-top: 0;\">Phase 1</h5>\n",
       "                        <p><strong>Description:</strong> High-priority feature implementation</p>\n",
       "                        <p><strong>Estimated Effort:</strong> 2-3 days</p>\n",
       "                        <p><strong>Expected Impact:</strong> <span style=\"color: #27ae60; font-weight: bold;\">high</span></p>\n",
       "                    </div>\n",
       "                    "
      ],
      "text/plain": [
       "<IPython.core.display.HTML object>"
      ]
     },
     "metadata": {},
     "output_type": "display_data"
    },
    {
     "data": {
      "text/html": [
       "\n",
       "                    <div style=\"border: 1px solid #bdc3c7; border-radius: 5px; padding: 15px; margin: 10px 0; background-color: white;\">\n",
       "                        <h5 style=\"color: #8e44ad; margin-top: 0;\">Phase 2</h5>\n",
       "                        <p><strong>Description:</strong> Interaction and aggregation features</p>\n",
       "                        <p><strong>Estimated Effort:</strong> 1-2 days</p>\n",
       "                        <p><strong>Expected Impact:</strong> <span style=\"color: #27ae60; font-weight: bold;\">medium</span></p>\n",
       "                    </div>\n",
       "                    "
      ],
      "text/plain": [
       "<IPython.core.display.HTML object>"
      ]
     },
     "metadata": {},
     "output_type": "display_data"
    },
    {
     "data": {
      "text/html": [
       "</div>"
      ],
      "text/plain": [
       "<IPython.core.display.HTML object>"
      ]
     },
     "metadata": {},
     "output_type": "display_data"
    },
    {
     "data": {
      "text/html": [
       "\n",
       "        <div style=\"border: 2px solid #16a085; border-radius: 10px; padding: 20px; margin: 15px 0; background-color: #f0fffe;\">\n",
       "            <h4 style=\"color: #16a085; margin-top: 0;\">🚀 Next Steps</h4>\n",
       "            <ol style=\"color: #2c3e50;\">\n",
       "        "
      ],
      "text/plain": [
       "<IPython.core.display.HTML object>"
      ]
     },
     "metadata": {},
     "output_type": "display_data"
    },
    {
     "data": {
      "text/html": [
       "<li style=\"margin: 8px 0;\">Implement high-priority features</li>"
      ],
      "text/plain": [
       "<IPython.core.display.HTML object>"
      ]
     },
     "metadata": {},
     "output_type": "display_data"
    },
    {
     "data": {
      "text/html": [
       "<li style=\"margin: 8px 0;\">Set up automated feature engineering pipeline</li>"
      ],
      "text/plain": [
       "<IPython.core.display.HTML object>"
      ]
     },
     "metadata": {},
     "output_type": "display_data"
    },
    {
     "data": {
      "text/html": [
       "<li style=\"margin: 8px 0;\">Begin model training with recommended algorithms</li>"
      ],
      "text/plain": [
       "<IPython.core.display.HTML object>"
      ]
     },
     "metadata": {},
     "output_type": "display_data"
    },
    {
     "data": {
      "text/html": [
       "<li style=\"margin: 8px 0;\">Validate feature importance matches EDA findings</li>"
      ],
      "text/plain": [
       "<IPython.core.display.HTML object>"
      ]
     },
     "metadata": {},
     "output_type": "display_data"
    },
    {
     "data": {
      "text/html": [
       "<li style=\"margin: 8px 0;\">Monitor model performance against success metrics</li>"
      ],
      "text/plain": [
       "<IPython.core.display.HTML object>"
      ]
     },
     "metadata": {},
     "output_type": "display_data"
    },
    {
     "data": {
      "text/html": [
       "</ol></div>"
      ],
      "text/plain": [
       "<IPython.core.display.HTML object>"
      ]
     },
     "metadata": {},
     "output_type": "display_data"
    },
    {
     "data": {
      "text/html": [
       "\n",
       "        <div style=\"border: 2px solid #2ecc71; border-radius: 10px; padding: 20px; margin: 15px 0; background-color: #f0fff4;\">\n",
       "            <h4 style=\"color: #2ecc71; margin-top: 0;\">📊 Success Metrics</h4>\n",
       "        "
      ],
      "text/plain": [
       "<IPython.core.display.HTML object>"
      ]
     },
     "metadata": {},
     "output_type": "display_data"
    },
    {
     "data": {
      "text/html": [
       "<h5 style=\"color: #27ae60;\">Model Performance Targets:</h5>"
      ],
      "text/plain": [
       "<IPython.core.display.HTML object>"
      ]
     },
     "metadata": {},
     "output_type": "display_data"
    },
    {
     "data": {
      "text/html": [
       "<p><strong>RMSE:</strong> < 1000</p>"
      ],
      "text/plain": [
       "<IPython.core.display.HTML object>"
      ]
     },
     "metadata": {},
     "output_type": "display_data"
    },
    {
     "data": {
      "text/html": [
       "<p><strong>MAE:</strong> < 750</p>"
      ],
      "text/plain": [
       "<IPython.core.display.HTML object>"
      ]
     },
     "metadata": {},
     "output_type": "display_data"
    },
    {
     "data": {
      "text/html": [
       "<p><strong>R2_SCORE:</strong> > 0.75</p>"
      ],
      "text/plain": [
       "<IPython.core.display.HTML object>"
      ]
     },
     "metadata": {},
     "output_type": "display_data"
    },
    {
     "data": {
      "text/html": [
       "<h5 style=\"color: #27ae60;\">Feature Importance Thresholds:</h5>"
      ],
      "text/plain": [
       "<IPython.core.display.HTML object>"
      ]
     },
     "metadata": {},
     "output_type": "display_data"
    },
    {
     "data": {
      "text/html": [
       "<p><strong>Top 5 Features:</strong> > 80% of total importance</p>"
      ],
      "text/plain": [
       "<IPython.core.display.HTML object>"
      ]
     },
     "metadata": {},
     "output_type": "display_data"
    },
    {
     "data": {
      "text/html": [
       "<p><strong>Price Features:</strong> > 30% of total importance</p>"
      ],
      "text/plain": [
       "<IPython.core.display.HTML object>"
      ]
     },
     "metadata": {},
     "output_type": "display_data"
    },
    {
     "data": {
      "text/html": [
       "</div>"
      ],
      "text/plain": [
       "<IPython.core.display.HTML object>"
      ]
     },
     "metadata": {},
     "output_type": "display_data"
    }
   ],
   "source": [
    "def display_executive_summary(workflow_result):\n",
    "    \"\"\"Display a formatted executive summary\"\"\"\n",
    "    if not workflow_result:\n",
    "        display(HTML('<h3>❌ No workflow results available for executive summary</h3>'))\n",
    "        return\n",
    "    \n",
    "    # Extract results section\n",
    "    results = workflow_result.get('results', {})\n",
    "    if not results:\n",
    "        display(HTML('<h3>❌ No results available for executive summary</h3>'))\n",
    "        return\n",
    "    \n",
    "    # Executive Summary Section\n",
    "    exec_summary = results.get('executive_summary', {})\n",
    "    if exec_summary:\n",
    "        display(HTML('<h3>📋 Executive Summary</h3>'))\n",
    "        \n",
    "        # Overview\n",
    "        overview = exec_summary.get('overview', {})\n",
    "        if overview:\n",
    "            display(HTML('''\n",
    "            <div style=\"border: 2px solid #27ae60; border-radius: 10px; padding: 20px; margin: 15px 0; background-color: #f8fff8;\">\n",
    "                <h4 style=\"color: #27ae60; margin-top: 0;\">🎯 Analysis Overview</h4>\n",
    "            '''))\n",
    "            \n",
    "            for key, value in overview.items():\n",
    "                if key == 'target_variable':\n",
    "                    display(HTML(f'<p><strong>Target Variable:</strong> <span style=\"color: #e74c3c; font-weight: bold;\">{value}</span></p>'))\n",
    "                elif key == 'total_variables_analyzed':\n",
    "                    display(HTML(f'<p><strong>Variables Analyzed:</strong> {value}</p>'))\n",
    "                elif key == 'significant_relationships_found':\n",
    "                    display(HTML(f'<p><strong>Significant Relationships:</strong> <span style=\"color: #27ae60; font-weight: bold;\">{value}</span></p>'))\n",
    "                elif key == 'data_quality_score':\n",
    "                    score_color = '#27ae60' if value > 0.8 else '#f39c12' if value > 0.6 else '#e74c3c'\n",
    "                    display(HTML(f'<p><strong>Data Quality Score:</strong> <span style=\"color: {score_color}; font-weight: bold;\">{value:.2f}</span></p>'))\n",
    "                elif key == 'analysis_confidence':\n",
    "                    conf_color = '#27ae60' if value == 'high' else '#f39c12' if value == 'medium' else '#e74c3c'\n",
    "                    display(HTML(f'<p><strong>Analysis Confidence:</strong> <span style=\"color: {conf_color}; font-weight: bold;\">{value.upper()}</span></p>'))\n",
    "                else:\n",
    "                    display(HTML(f'<p><strong>{key.replace(\"_\", \" \").title()}:</strong> {value}</p>'))\n",
    "            \n",
    "            display(HTML('</div>'))\n",
    "        \n",
    "        # Key Findings\n",
    "        key_findings = exec_summary.get('key_findings', [])\n",
    "        if key_findings:\n",
    "            display(HTML('''\n",
    "            <div style=\"border: 2px solid #3498db; border-radius: 10px; padding: 20px; margin: 15px 0; background-color: #f8f9ff;\">\n",
    "                <h4 style=\"color: #3498db; margin-top: 0;\">🔍 Key Findings</h4>\n",
    "                <ul style=\"color: #2c3e50;\">\n",
    "            '''))\n",
    "            \n",
    "            for finding in key_findings:\n",
    "                display(HTML(f'<li style=\"margin: 8px 0;\">{finding}</li>'))\n",
    "            \n",
    "            display(HTML('</ul></div>'))\n",
    "        \n",
    "        # Critical Insights\n",
    "        critical_insights = exec_summary.get('critical_insights', [])\n",
    "        if critical_insights:\n",
    "            display(HTML('''\n",
    "            <div style=\"border: 2px solid #e74c3c; border-radius: 10px; padding: 20px; margin: 15px 0; background-color: #fff8f8;\">\n",
    "                <h4 style=\"color: #e74c3c; margin-top: 0;\">⚠️ Critical Insights</h4>\n",
    "                <ul style=\"color: #2c3e50;\">\n",
    "            '''))\n",
    "            \n",
    "            for insight in critical_insights:\n",
    "                display(HTML(f'<li style=\"margin: 8px 0; font-weight: bold;\">{insight}</li>'))\n",
    "            \n",
    "            display(HTML('</ul></div>'))\n",
    "        \n",
    "        # Feature Engineering Priority\n",
    "        fe_priority = exec_summary.get('feature_engineering_priority', {})\n",
    "        if fe_priority:\n",
    "            display(HTML('''\n",
    "            <div style=\"border: 2px solid #9b59b6; border-radius: 10px; padding: 20px; margin: 15px 0; background-color: #faf8ff;\">\n",
    "                <h4 style=\"color: #9b59b6; margin-top: 0;\">⚙️ Feature Engineering Priority</h4>\n",
    "            '''))\n",
    "            \n",
    "            for phase, details in fe_priority.items():\n",
    "                if isinstance(details, dict):\n",
    "                    display(HTML(f'''\n",
    "                    <div style=\"border: 1px solid #bdc3c7; border-radius: 5px; padding: 15px; margin: 10px 0; background-color: white;\">\n",
    "                        <h5 style=\"color: #8e44ad; margin-top: 0;\">{phase.replace(\"_\", \" \").title()}</h5>\n",
    "                        <p><strong>Description:</strong> {details.get('description', 'N/A')}</p>\n",
    "                        <p><strong>Estimated Effort:</strong> {details.get('estimated_effort', 'N/A')}</p>\n",
    "                        <p><strong>Expected Impact:</strong> <span style=\"color: #27ae60; font-weight: bold;\">{details.get('expected_impact', 'N/A')}</span></p>\n",
    "                    </div>\n",
    "                    '''))\n",
    "            \n",
    "            display(HTML('</div>'))\n",
    "    \n",
    "    # Modeling Recommendations\n",
    "    modeling_recs = results.get('modeling_recommendations', [])\n",
    "    if modeling_recs:\n",
    "        display(HTML('''\n",
    "        <div style=\"border: 2px solid #f39c12; border-radius: 10px; padding: 20px; margin: 15px 0; background-color: #fffbf0;\">\n",
    "            <h4 style=\"color: #f39c12; margin-top: 0;\">🤖 Modeling Recommendations</h4>\n",
    "            <ul style=\"color: #2c3e50;\">\n",
    "        '''))\n",
    "        \n",
    "        for rec in modeling_recs:\n",
    "            if isinstance(rec, dict):\n",
    "                category = rec.get('category', 'General')\n",
    "                recommendation = rec.get('recommendation', 'N/A')\n",
    "                rationale = rec.get('rationale', 'N/A')\n",
    "                display(HTML(f'''\n",
    "                <li style=\"margin: 10px 0;\">\n",
    "                    <strong>{category.replace(\"_\", \" \").title()}:</strong> {recommendation}<br>\n",
    "                    <em style=\"color: #7f8c8d;\">Rationale: {rationale}</em>\n",
    "                </li>\n",
    "                '''))\n",
    "            else:\n",
    "                display(HTML(f'<li style=\"margin: 8px 0;\">{rec}</li>'))\n",
    "        \n",
    "        display(HTML('</ul></div>'))\n",
    "    \n",
    "    # Next Steps\n",
    "    next_steps = results.get('next_steps', [])\n",
    "    if next_steps:\n",
    "        display(HTML('''\n",
    "        <div style=\"border: 2px solid #16a085; border-radius: 10px; padding: 20px; margin: 15px 0; background-color: #f0fffe;\">\n",
    "            <h4 style=\"color: #16a085; margin-top: 0;\">🚀 Next Steps</h4>\n",
    "            <ol style=\"color: #2c3e50;\">\n",
    "        '''))\n",
    "        \n",
    "        for i, step in enumerate(next_steps, 1):\n",
    "            display(HTML(f'<li style=\"margin: 8px 0;\">{step}</li>'))\n",
    "        \n",
    "        display(HTML('</ol></div>'))\n",
    "    \n",
    "    # Success Metrics\n",
    "    success_metrics = results.get('success_metrics', {})\n",
    "    if success_metrics:\n",
    "        display(HTML('''\n",
    "        <div style=\"border: 2px solid #2ecc71; border-radius: 10px; padding: 20px; margin: 15px 0; background-color: #f0fff4;\">\n",
    "            <h4 style=\"color: #2ecc71; margin-top: 0;\">📊 Success Metrics</h4>\n",
    "        '''))\n",
    "        \n",
    "        model_targets = success_metrics.get('model_performance_targets', {})\n",
    "        if model_targets:\n",
    "            display(HTML('<h5 style=\"color: #27ae60;\">Model Performance Targets:</h5>'))\n",
    "            for metric, target in model_targets.items():\n",
    "                display(HTML(f'<p><strong>{metric.upper()}:</strong> {target}</p>'))\n",
    "        \n",
    "        feature_thresholds = success_metrics.get('feature_importance_thresholds', {})\n",
    "        if feature_thresholds:\n",
    "            display(HTML('<h5 style=\"color: #27ae60;\">Feature Importance Thresholds:</h5>'))\n",
    "            for feature, threshold in feature_thresholds.items():\n",
    "                display(HTML(f'<p><strong>{feature.replace(\"_\", \" \").title()}:</strong> {threshold}</p>'))\n",
    "        \n",
    "        display(HTML('</div>'))\n",
    "\n",
    "# Call the function\n",
    "display_executive_summary(workflow_result)\n"
   ]
  },
  {
   "cell_type": "markdown",
   "id": "20423349",
   "metadata": {},
   "source": [
    "## 🧪 Hypothesis Testing Results\n",
    "\n",
    "Display detailed correlation analysis and recommendations from hypothesis testing:\n"
   ]
  },
  {
   "cell_type": "code",
   "execution_count": 35,
   "id": "0e0bfe6c",
   "metadata": {},
   "outputs": [
    {
     "data": {
      "text/html": [
       "<h3>🧪 Hypothesis Testing Results</h3>"
      ],
      "text/plain": [
       "<IPython.core.display.HTML object>"
      ]
     },
     "metadata": {},
     "output_type": "display_data"
    },
    {
     "data": {
      "text/html": [
       "\n",
       "    <div style=\"border: 2px solid #3498db; border-radius: 10px; padding: 20px; margin: 15px 0; background-color: #f8f9ff;\">\n",
       "        <h4 style=\"color: #3498db; margin-top: 0;\">📊 Testing Summary</h4>\n",
       "        <div style=\"display: flex; gap: 30px; margin: 10px 0;\">\n",
       "            <div><strong>Total Hypotheses:</strong> 5</div>\n",
       "            <div style=\"color: #27ae60;\"><strong>Successful:</strong> 5</div>\n",
       "            <div style=\"color: #e74c3c;\"><strong>Failed:</strong> 0</div>\n",
       "            <div><strong>Success Rate:</strong> 100.0%</div>\n",
       "        </div>\n",
       "    </div>\n",
       "    "
      ],
      "text/plain": [
       "<IPython.core.display.HTML object>"
      ]
     },
     "metadata": {},
     "output_type": "display_data"
    },
    {
     "data": {
      "text/html": [
       "\n",
       "        <div style=\"border: 2px solid #27ae60; border-radius: 10px; padding: 20px; margin: 20px 0; background-color: #f8fff8 if status == 'success' else #fff8f8;\">\n",
       "            <h4 style=\"color: #2c3e50; margin-top: 0;\">✅ HYP_1 - SUCCESS</h4>\n",
       "            <p style=\"font-style: italic; color: #7f8c8d; margin-bottom: 15px;\">Higher advertising spend leads to increased sales volume in the FMCG sector.</p>\n",
       "        </div>\n",
       "        "
      ],
      "text/plain": [
       "<IPython.core.display.HTML object>"
      ]
     },
     "metadata": {},
     "output_type": "display_data"
    },
    {
     "data": {
      "text/html": [
       "\n",
       "        <div style=\"display: flex; gap: 20px; margin: 10px 0; padding: 15px; background-color: #f8f9fa; border-radius: 5px;\">\n",
       "            <div style=\"flex: 1;\">\n",
       "                <strong>Target Variable:</strong><br>\n",
       "                <span style=\"color: #e74c3c;\">sales.vol</span> (sales_vol)\n",
       "            </div>\n",
       "            <div style=\"flex: 1;\">\n",
       "                <strong>Predictor Variable:</strong><br>\n",
       "                <span style=\"color: #3498db;\">ad_spends.amt</span> (ad_spends_amt)\n",
       "            </div>\n",
       "            <div style=\"flex: 1;\">\n",
       "                <strong>Expected Impact:</strong><br>\n",
       "                <span style=\"color: #27ae60;\">positive</span>\n",
       "            </div>\n",
       "        </div>\n",
       "        "
      ],
      "text/plain": [
       "<IPython.core.display.HTML object>"
      ]
     },
     "metadata": {},
     "output_type": "display_data"
    },
    {
     "data": {
      "text/html": [
       "<hr style=\"margin: 30px 0; border: 1px solid #ecf0f1;\">"
      ],
      "text/plain": [
       "<IPython.core.display.HTML object>"
      ]
     },
     "metadata": {},
     "output_type": "display_data"
    },
    {
     "data": {
      "text/html": [
       "\n",
       "        <div style=\"border: 2px solid #27ae60; border-radius: 10px; padding: 20px; margin: 20px 0; background-color: #f8fff8 if status == 'success' else #fff8f8;\">\n",
       "            <h4 style=\"color: #2c3e50; margin-top: 0;\">✅ HYP_2 - SUCCESS</h4>\n",
       "            <p style=\"font-style: italic; color: #7f8c8d; margin-bottom: 15px;\">The percentage change in sales due to pricing strategies positively impacts the overall sales volume.</p>\n",
       "        </div>\n",
       "        "
      ],
      "text/plain": [
       "<IPython.core.display.HTML object>"
      ]
     },
     "metadata": {},
     "output_type": "display_data"
    },
    {
     "data": {
      "text/html": [
       "\n",
       "        <div style=\"display: flex; gap: 20px; margin: 10px 0; padding: 15px; background-color: #f8f9fa; border-radius: 5px;\">\n",
       "            <div style=\"flex: 1;\">\n",
       "                <strong>Target Variable:</strong><br>\n",
       "                <span style=\"color: #e74c3c;\">sales.vol</span> (sales_vol)\n",
       "            </div>\n",
       "            <div style=\"flex: 1;\">\n",
       "                <strong>Predictor Variable:</strong><br>\n",
       "                <span style=\"color: #3498db;\">pric_strat.sales_chg</span> (pric_strat_sales_chg)\n",
       "            </div>\n",
       "            <div style=\"flex: 1;\">\n",
       "                <strong>Expected Impact:</strong><br>\n",
       "                <span style=\"color: #27ae60;\">positive</span>\n",
       "            </div>\n",
       "        </div>\n",
       "        "
      ],
      "text/plain": [
       "<IPython.core.display.HTML object>"
      ]
     },
     "metadata": {},
     "output_type": "display_data"
    },
    {
     "data": {
      "text/html": [
       "\n",
       "                <div style=\"border: 2px solid #e74c3c; border-radius: 8px; padding: 15px; margin: 10px 0; background-color: #fff8f8;\">\n",
       "                    <h5 style=\"color: #e74c3c; margin-top: 0;\">⚠️ Analysis Issue</h5>\n",
       "                    <p style=\"color: #2c3e50;\">No correlation data available</p>\n",
       "                </div>\n",
       "                "
      ],
      "text/plain": [
       "<IPython.core.display.HTML object>"
      ]
     },
     "metadata": {},
     "output_type": "display_data"
    },
    {
     "data": {
      "text/html": [
       "<hr style=\"margin: 30px 0; border: 1px solid #ecf0f1;\">"
      ],
      "text/plain": [
       "<IPython.core.display.HTML object>"
      ]
     },
     "metadata": {},
     "output_type": "display_data"
    },
    {
     "data": {
      "text/html": [
       "\n",
       "        <div style=\"border: 2px solid #27ae60; border-radius: 10px; padding: 20px; margin: 20px 0; background-color: #f8fff8 if status == 'success' else #fff8f8;\">\n",
       "            <h4 style=\"color: #2c3e50; margin-top: 0;\">✅ HYP_3 - SUCCESS</h4>\n",
       "            <p style=\"font-style: italic; color: #7f8c8d; margin-bottom: 15px;\">Increased market coverage positively affects sales volume in FMCG.</p>\n",
       "        </div>\n",
       "        "
      ],
      "text/plain": [
       "<IPython.core.display.HTML object>"
      ]
     },
     "metadata": {},
     "output_type": "display_data"
    },
    {
     "data": {
      "text/html": [
       "\n",
       "        <div style=\"display: flex; gap: 20px; margin: 10px 0; padding: 15px; background-color: #f8f9fa; border-radius: 5px;\">\n",
       "            <div style=\"flex: 1;\">\n",
       "                <strong>Target Variable:</strong><br>\n",
       "                <span style=\"color: #e74c3c;\">sales.vol</span> (sales_vol)\n",
       "            </div>\n",
       "            <div style=\"flex: 1;\">\n",
       "                <strong>Predictor Variable:</strong><br>\n",
       "                <span style=\"color: #3498db;\">mkt_coverage.st_cnt</span> (mkt_coverage_st_cnt)\n",
       "            </div>\n",
       "            <div style=\"flex: 1;\">\n",
       "                <strong>Expected Impact:</strong><br>\n",
       "                <span style=\"color: #27ae60;\">positive</span>\n",
       "            </div>\n",
       "        </div>\n",
       "        "
      ],
      "text/plain": [
       "<IPython.core.display.HTML object>"
      ]
     },
     "metadata": {},
     "output_type": "display_data"
    },
    {
     "data": {
      "text/html": [
       "<hr style=\"margin: 30px 0; border: 1px solid #ecf0f1;\">"
      ],
      "text/plain": [
       "<IPython.core.display.HTML object>"
      ]
     },
     "metadata": {},
     "output_type": "display_data"
    },
    {
     "data": {
      "text/html": [
       "\n",
       "        <div style=\"border: 2px solid #27ae60; border-radius: 10px; padding: 20px; margin: 20px 0; background-color: #f8fff8 if status == 'success' else #fff8f8;\">\n",
       "            <h4 style=\"color: #2c3e50; margin-top: 0;\">✅ HYP_4 - SUCCESS</h4>\n",
       "            <p style=\"font-style: italic; color: #7f8c8d; margin-bottom: 15px;\">Social media engagement rate positively influences sales volume.</p>\n",
       "        </div>\n",
       "        "
      ],
      "text/plain": [
       "<IPython.core.display.HTML object>"
      ]
     },
     "metadata": {},
     "output_type": "display_data"
    },
    {
     "data": {
      "text/html": [
       "\n",
       "        <div style=\"display: flex; gap: 20px; margin: 10px 0; padding: 15px; background-color: #f8f9fa; border-radius: 5px;\">\n",
       "            <div style=\"flex: 1;\">\n",
       "                <strong>Target Variable:</strong><br>\n",
       "                <span style=\"color: #e74c3c;\">sales.vol</span> (sales_vol)\n",
       "            </div>\n",
       "            <div style=\"flex: 1;\">\n",
       "                <strong>Predictor Variable:</strong><br>\n",
       "                <span style=\"color: #3498db;\">social.eng_rate</span> (social_eng_rate)\n",
       "            </div>\n",
       "            <div style=\"flex: 1;\">\n",
       "                <strong>Expected Impact:</strong><br>\n",
       "                <span style=\"color: #27ae60;\">positive</span>\n",
       "            </div>\n",
       "        </div>\n",
       "        "
      ],
      "text/plain": [
       "<IPython.core.display.HTML object>"
      ]
     },
     "metadata": {},
     "output_type": "display_data"
    },
    {
     "data": {
      "text/html": [
       "<hr style=\"margin: 30px 0; border: 1px solid #ecf0f1;\">"
      ],
      "text/plain": [
       "<IPython.core.display.HTML object>"
      ]
     },
     "metadata": {},
     "output_type": "display_data"
    },
    {
     "data": {
      "text/html": [
       "\n",
       "        <div style=\"border: 2px solid #27ae60; border-radius: 10px; padding: 20px; margin: 20px 0; background-color: #f8fff8 if status == 'success' else #fff8f8;\">\n",
       "            <h4 style=\"color: #2c3e50; margin-top: 0;\">✅ HYP_5 - SUCCESS</h4>\n",
       "            <p style=\"font-style: italic; color: #7f8c8d; margin-bottom: 15px;\">The brand's recognition level positively affects sales volume.</p>\n",
       "        </div>\n",
       "        "
      ],
      "text/plain": [
       "<IPython.core.display.HTML object>"
      ]
     },
     "metadata": {},
     "output_type": "display_data"
    },
    {
     "data": {
      "text/html": [
       "\n",
       "        <div style=\"display: flex; gap: 20px; margin: 10px 0; padding: 15px; background-color: #f8f9fa; border-radius: 5px;\">\n",
       "            <div style=\"flex: 1;\">\n",
       "                <strong>Target Variable:</strong><br>\n",
       "                <span style=\"color: #e74c3c;\">sales.vol</span> (sales_vol)\n",
       "            </div>\n",
       "            <div style=\"flex: 1;\">\n",
       "                <strong>Predictor Variable:</strong><br>\n",
       "                <span style=\"color: #3498db;\">prd_mstr.brand</span> (brand)\n",
       "            </div>\n",
       "            <div style=\"flex: 1;\">\n",
       "                <strong>Expected Impact:</strong><br>\n",
       "                <span style=\"color: #27ae60;\">positive</span>\n",
       "            </div>\n",
       "        </div>\n",
       "        "
      ],
      "text/plain": [
       "<IPython.core.display.HTML object>"
      ]
     },
     "metadata": {},
     "output_type": "display_data"
    },
    {
     "data": {
      "text/html": [
       "<hr style=\"margin: 30px 0; border: 1px solid #ecf0f1;\">"
      ],
      "text/plain": [
       "<IPython.core.display.HTML object>"
      ]
     },
     "metadata": {},
     "output_type": "display_data"
    }
   ],
   "source": [
    "def display_hypothesis_testing_results(workflow_result):\n",
    "    \"\"\"Display detailed hypothesis testing results with correlations and recommendations\"\"\"\n",
    "    if not workflow_result:\n",
    "        display(HTML('<h3>❌ No workflow results available for hypothesis testing results</h3>'))\n",
    "        return\n",
    "    \n",
    "    # Extract EDA analysis results\n",
    "    eda_results = workflow_result.get('eda_analysis_results', [])\n",
    "    \n",
    "    if not eda_results:\n",
    "        display(HTML('<h3>🧪 No hypothesis testing results available</h3>'))\n",
    "        return\n",
    "    \n",
    "    display(HTML('<h3>🧪 Hypothesis Testing Results</h3>'))\n",
    "    \n",
    "    # Create summary statistics\n",
    "    total_hypotheses = len(eda_results)\n",
    "    successful_tests = sum(1 for result in eda_results if result.get('status') == 'success')\n",
    "    failed_tests = total_hypotheses - successful_tests\n",
    "    \n",
    "    # Display summary\n",
    "    display(HTML(f'''\n",
    "    <div style=\"border: 2px solid #3498db; border-radius: 10px; padding: 20px; margin: 15px 0; background-color: #f8f9ff;\">\n",
    "        <h4 style=\"color: #3498db; margin-top: 0;\">📊 Testing Summary</h4>\n",
    "        <div style=\"display: flex; gap: 30px; margin: 10px 0;\">\n",
    "            <div><strong>Total Hypotheses:</strong> {total_hypotheses}</div>\n",
    "            <div style=\"color: #27ae60;\"><strong>Successful:</strong> {successful_tests}</div>\n",
    "            <div style=\"color: #e74c3c;\"><strong>Failed:</strong> {failed_tests}</div>\n",
    "            <div><strong>Success Rate:</strong> {(successful_tests/total_hypotheses*100):.1f}%</div>\n",
    "        </div>\n",
    "    </div>\n",
    "    '''))\n",
    "    \n",
    "    # Display detailed results for each hypothesis\n",
    "    for i, result in enumerate(eda_results, 1):\n",
    "        hypothesis = result.get('result', {}).get('hypothesis', {})\n",
    "        hypothesis_id = hypothesis.get('hypothesis_id', f'hyp_{i}')\n",
    "        hypothesis_text = hypothesis.get('hypothesis', 'No hypothesis text available')\n",
    "        status = result.get('status', 'unknown')\n",
    "        \n",
    "        # Status color coding\n",
    "        status_color = '#27ae60' if status == 'success' else '#e74c3c'\n",
    "        status_icon = '✅' if status == 'success' else '❌'\n",
    "        \n",
    "        # Display hypothesis header\n",
    "        display(HTML(f'''\n",
    "        <div style=\"border: 2px solid {status_color}; border-radius: 10px; padding: 20px; margin: 20px 0; background-color: #f8fff8 if status == 'success' else #fff8f8;\">\n",
    "            <h4 style=\"color: #2c3e50; margin-top: 0;\">{status_icon} {hypothesis_id.upper()} - {status.upper()}</h4>\n",
    "            <p style=\"font-style: italic; color: #7f8c8d; margin-bottom: 15px;\">{hypothesis_text}</p>\n",
    "        </div>\n",
    "        '''))\n",
    "        \n",
    "        # Extract variables\n",
    "        target_var = hypothesis.get('target_variable', {})\n",
    "        predictor_var = hypothesis.get('predictor_variable', {})\n",
    "        \n",
    "        display(HTML(f'''\n",
    "        <div style=\"display: flex; gap: 20px; margin: 10px 0; padding: 15px; background-color: #f8f9fa; border-radius: 5px;\">\n",
    "            <div style=\"flex: 1;\">\n",
    "                <strong>Target Variable:</strong><br>\n",
    "                <span style=\"color: #e74c3c;\">{target_var.get('name', 'N/A')}</span> ({target_var.get('alias', 'N/A')})\n",
    "            </div>\n",
    "            <div style=\"flex: 1;\">\n",
    "                <strong>Predictor Variable:</strong><br>\n",
    "                <span style=\"color: #3498db;\">{predictor_var.get('name', 'N/A')}</span> ({predictor_var.get('alias', 'N/A')})\n",
    "            </div>\n",
    "            <div style=\"flex: 1;\">\n",
    "                <strong>Expected Impact:</strong><br>\n",
    "                <span style=\"color: #27ae60;\">{hypothesis.get('expected_impact', 'N/A')}</span>\n",
    "            </div>\n",
    "        </div>\n",
    "        '''))\n",
    "        \n",
    "        # Correlation Analysis Results\n",
    "        correlation_analysis = result.get('result', {}).get('correlation_analysis', {})\n",
    "        \n",
    "        if correlation_analysis and 'correlations' in correlation_analysis:\n",
    "            correlations = correlation_analysis['correlations']\n",
    "            pearson = correlations.get('pearson', {})\n",
    "            spearman = correlations.get('spearman', {})\n",
    "            \n",
    "            # Check if we have valid correlation data\n",
    "            has_valid_correlations = (\n",
    "                pearson.get('correlation') is not None and \n",
    "                not pd.isna(pearson.get('correlation', float('nan'))) and\n",
    "                spearman.get('correlation') is not None and \n",
    "                not pd.isna(spearman.get('correlation', float('nan')))\n",
    "            )\n",
    "            \n",
    "            if has_valid_correlations:\n",
    "                display(HTML('<h5 style=\"color: #27ae60;\">📈 Correlation Analysis Results:</h5>'))\n",
    "                \n",
    "                # Create detailed correlation table\n",
    "                corr_html = '''\n",
    "                <table style=\"border-collapse: collapse; width: 100%; margin: 10px 0; box-shadow: 0 2px 4px rgba(0,0,0,0.1);\">\n",
    "                    <tr style=\"background-color: #34495e; color: white;\">\n",
    "                        <th style=\"border: 1px solid #2c3e50; padding: 12px; text-align: left;\">Metric</th>\n",
    "                        <th style=\"border: 1px solid #2c3e50; padding: 12px; text-align: center;\">Correlation</th>\n",
    "                        <th style=\"border: 1px solid #2c3e50; padding: 12px; text-align: center;\">P-Value</th>\n",
    "                        <th style=\"border: 1px solid #2c3e50; padding: 12px; text-align: center;\">Significant</th>\n",
    "                        <th style=\"border: 1px solid #2c3e50; padding: 12px; text-align: center;\">Strength</th>\n",
    "                    </tr>\n",
    "                '''\n",
    "                \n",
    "                # Helper function to get correlation strength\n",
    "                def get_correlation_strength(corr):\n",
    "                    if corr is None or pd.isna(corr):\n",
    "                        return \"N/A\"\n",
    "                    abs_corr = abs(corr)\n",
    "                    if abs_corr >= 0.7:\n",
    "                        return \"Strong\"\n",
    "                    elif abs_corr >= 0.3:\n",
    "                        return \"Moderate\"\n",
    "                    else:\n",
    "                        return \"Weak\"\n",
    "                \n",
    "                # Pearson correlation\n",
    "                pearson_corr = pearson.get('correlation', 0)\n",
    "                pearson_p = pearson.get('p_value', 1)\n",
    "                pearson_sig = pearson.get('significant', False)\n",
    "                pearson_strength = get_correlation_strength(pearson_corr)\n",
    "                \n",
    "                corr_html += f'''\n",
    "                    <tr style=\"background-color: #ecf0f1;\">\n",
    "                        <td style=\"border: 1px solid #bdc3c7; padding: 12px;\"><strong>Pearson</strong></td>\n",
    "                        <td style=\"border: 1px solid #bdc3c7; padding: 12px; text-align: center; font-weight: bold;\">{pearson_corr:.4f}</td>\n",
    "                        <td style=\"border: 1px solid #bdc3c7; padding: 12px; text-align: center;\">{pearson_p:.4f}</td>\n",
    "                        <td style=\"border: 1px solid #bdc3c7; padding: 12px; text-align: center;\">{'✅' if pearson_sig else '❌'}</td>\n",
    "                        <td style=\"border: 1px solid #bdc3c7; padding: 12px; text-align: center; color: {'#27ae60' if pearson_strength == 'Strong' else '#f39c12' if pearson_strength == 'Moderate' else '#e74c3c'}; font-weight: bold;\">{pearson_strength}</td>\n",
    "                    </tr>\n",
    "                '''\n",
    "                \n",
    "                # Spearman correlation\n",
    "                spearman_corr = spearman.get('correlation', 0)\n",
    "                spearman_p = spearman.get('p_value', 1)\n",
    "                spearman_sig = spearman.get('significant', False)\n",
    "                spearman_strength = get_correlation_strength(spearman_corr)\n",
    "                \n",
    "                corr_html += f'''\n",
    "                    <tr style=\"background-color: #d5dbdb;\">\n",
    "                        <td style=\"border: 1px solid #bdc3c7; padding: 12px;\"><strong>Spearman</strong></td>\n",
    "                        <td style=\"border: 1px solid #bdc3c7; padding: 12px; text-align: center; font-weight: bold;\">{spearman_corr:.4f}</td>\n",
    "                        <td style=\"border: 1px solid #bdc3c7; padding: 12px; text-align: center;\">{spearman_p:.4f}</td>\n",
    "                        <td style=\"border: 1px solid #bdc3c7; padding: 12px; text-align: center;\">{'✅' if spearman_sig else '❌'}</td>\n",
    "                        <td style=\"border: 1px solid #bdc3c7; padding: 12px; text-align: center; color: {'#27ae60' if spearman_strength == 'Strong' else '#f39c12' if spearman_strength == 'Moderate' else '#e74c3c'}; font-weight: bold;\">{spearman_strength}</td>\n",
    "                    </tr>\n",
    "                '''\n",
    "                \n",
    "                corr_html += '</table>'\n",
    "                display(HTML(corr_html))\n",
    "                \n",
    "                # Hypothesis Support Analysis\n",
    "                hypothesis_support = correlation_analysis.get('hypothesis_support', {})\n",
    "                if hypothesis_support:\n",
    "                    display(HTML('<h5 style=\"color: #8e44ad;\">🎯 Hypothesis Support Analysis:</h5>'))\n",
    "                    \n",
    "                    direction_match = hypothesis_support.get('direction_match', False)\n",
    "                    significant = hypothesis_support.get('significant', False)\n",
    "                    support_score = hypothesis_support.get('support_score', 0)\n",
    "                    expected_impact = hypothesis_support.get('expected_impact', 'unknown')\n",
    "                    actual_correlation = hypothesis_support.get('actual_correlation', 0)\n",
    "                    \n",
    "                    # Determine overall support level\n",
    "                    if significant and direction_match and support_score > 0.5:\n",
    "                        support_level = \"Strong Support\"\n",
    "                        support_color = \"#27ae60\"\n",
    "                    elif (significant and direction_match) or support_score > 0.3:\n",
    "                        support_level = \"Moderate Support\"\n",
    "                        support_color = \"#f39c12\"\n",
    "                    else:\n",
    "                        support_level = \"Weak Support\"\n",
    "                        support_color = \"#e74c3c\"\n",
    "                    \n",
    "                    display(HTML(f'''\n",
    "                    <div style=\"border: 2px solid {support_color}; border-radius: 8px; padding: 15px; margin: 10px 0; background-color: #f8fff8;\">\n",
    "                        <h6 style=\"color: {support_color}; margin-top: 0;\">Overall Assessment: {support_level}</h6>\n",
    "                        <div style=\"display: grid; grid-template-columns: 1fr 1fr; gap: 15px; margin: 10px 0;\">\n",
    "                            <div>\n",
    "                                <strong>Direction Match:</strong> {'✅' if direction_match else '❌'} {expected_impact} → {actual_correlation:.3f}<br>\n",
    "                                <strong>Statistical Significance:</strong> {'✅' if significant else '❌'}<br>\n",
    "                                <strong>Support Score:</strong> {support_score:.3f}\n",
    "                            </div>\n",
    "                            <div>\n",
    "                                <strong>Recommendation:</strong><br>\n",
    "                                {get_hypothesis_recommendation(support_level, direction_match, significant, support_score)}\n",
    "                            </div>\n",
    "                        </div>\n",
    "                    </div>\n",
    "                    '''))\n",
    "                \n",
    "                # Statistical Summary\n",
    "                statistics = correlation_analysis.get('statistics', {})\n",
    "                if statistics:\n",
    "                    display(HTML('<h5 style=\"color: #16a085;\">📊 Statistical Summary:</h5>'))\n",
    "                    display(HTML(f'''\n",
    "                    <div style=\"display: flex; gap: 20px; margin: 10px 0; padding: 15px; background-color: #f0fffe; border-radius: 5px;\">\n",
    "                        <div><strong>Sample Size:</strong> {statistics.get('sample_size', 'N/A')}</div>\n",
    "                        <div><strong>Target Mean:</strong> {statistics.get('target_mean', 'N/A'):.3f}</div>\n",
    "                        <div><strong>Predictor Mean:</strong> {statistics.get('predictor_mean', 'N/A'):.3f}</div>\n",
    "                    </div>\n",
    "                    '''))\n",
    "            \n",
    "            else:\n",
    "                # Handle cases with insufficient data or errors\n",
    "                error_msg = correlation_analysis.get('error', 'No correlation data available')\n",
    "                display(HTML(f'''\n",
    "                <div style=\"border: 2px solid #e74c3c; border-radius: 8px; padding: 15px; margin: 10px 0; background-color: #fff8f8;\">\n",
    "                    <h5 style=\"color: #e74c3c; margin-top: 0;\">⚠️ Analysis Issue</h5>\n",
    "                    <p style=\"color: #2c3e50;\">{error_msg}</p>\n",
    "                </div>\n",
    "                '''))\n",
    "        \n",
    "        # Feature Engineering Insights\n",
    "        fe_insights = result.get('result', {}).get('feature_engineering_insights', {})\n",
    "        if fe_insights:\n",
    "            display(HTML('<h5 style=\"color: #9b59b6;\">⚙️ Feature Engineering Insights:</h5>'))\n",
    "            \n",
    "            relationship_strength = fe_insights.get('relationship_strength', 'unknown')\n",
    "            feature_importance = fe_insights.get('feature_importance', 'unknown')\n",
    "            recommendations = fe_insights.get('engineering_recommendations', [])\n",
    "            \n",
    "            display(HTML(f'''\n",
    "            <div style=\"border: 1px solid #bdc3c7; border-radius: 5px; padding: 15px; margin: 10px 0; background-color: #faf8ff;\">\n",
    "                <div style=\"display: flex; gap: 20px; margin: 10px 0;\">\n",
    "                    <div><strong>Relationship Strength:</strong> <span style=\"color: #8e44ad;\">{relationship_strength}</span></div>\n",
    "                    <div><strong>Feature Importance:</strong> <span style=\"color: #8e44ad;\">{feature_importance}</span></div>\n",
    "                </div>\n",
    "            '''))\n",
    "            \n",
    "            if recommendations:\n",
    "                display(HTML('<strong>Recommendations:</strong><ul>'))\n",
    "                for rec in recommendations:\n",
    "                    display(HTML(f'<li style=\"margin: 5px 0;\">{rec}</li>'))\n",
    "                display(HTML('</ul>'))\n",
    "            \n",
    "            display(HTML('</div>'))\n",
    "        \n",
    "        display(HTML('<hr style=\"margin: 30px 0; border: 1px solid #ecf0f1;\">'))\n",
    "\n",
    "def get_hypothesis_recommendation(support_level, direction_match, significant, support_score):\n",
    "    \"\"\"Generate recommendation based on hypothesis support analysis\"\"\"\n",
    "    if support_level == \"Strong Support\":\n",
    "        return \"✅ <strong>Strong evidence</strong> - Consider this variable as a primary feature in your model.\"\n",
    "    elif support_level == \"Moderate Support\":\n",
    "        return \"⚠️ <strong>Moderate evidence</strong> - Include as secondary feature, but validate with additional data.\"\n",
    "    elif significant and not direction_match:\n",
    "        return \"🔄 <strong>Significant but opposite direction</strong> - Investigate data quality and variable definitions.\"\n",
    "    elif direction_match and not significant:\n",
    "        return \"📊 <strong>Directional match but not significant</strong> - Consider larger sample size or different transformation.\"\n",
    "    else:\n",
    "        return \"❌ <strong>Weak evidence</strong> - Exclude from primary model, but keep for exploratory analysis.\"\n",
    "\n",
    "# Call the function\n",
    "display_hypothesis_testing_results(workflow_result)\n"
   ]
  },
  {
   "cell_type": "markdown",
   "id": "46fb5806",
   "metadata": {},
   "source": [
    "## Final Analysis Results\n",
    "\n",
    "Display the final analysis results and insights:\n"
   ]
  },
  {
   "cell_type": "code",
   "execution_count": 8,
   "id": "588c8fb5",
   "metadata": {},
   "outputs": [
    {
     "data": {
      "text/html": [
       "<h3>🎯 Final Analysis Results</h3>"
      ],
      "text/plain": [
       "<IPython.core.display.HTML object>"
      ]
     },
     "metadata": {},
     "output_type": "display_data"
    },
    {
     "data": {
      "text/html": [
       "<h4>📊 Additional Results</h4>"
      ],
      "text/plain": [
       "<IPython.core.display.HTML object>"
      ]
     },
     "metadata": {},
     "output_type": "display_data"
    },
    {
     "data": {
      "text/html": [
       "<h5>Executive Summary</h5>"
      ],
      "text/plain": [
       "<IPython.core.display.HTML object>"
      ]
     },
     "metadata": {},
     "output_type": "display_data"
    },
    {
     "data": {
      "text/html": [
       "<pre>{\n",
       "  \"overview\": {\n",
       "    \"target_variable\": \"sales.vol\",\n",
       "    \"total_variables_analyzed\": 0,\n",
       "    \"significant_relationships_found\": 0,\n",
       "    \"data_quality_score\": 0.98,\n",
       "    \"analysis_confidence\": \"low\"\n",
       "  },\n",
       "  \"key_findings\": [],\n",
       "  \"critical_insights\": [],\n",
       "  \"feature_engineering_priority\": {\n",
       "    \"phase_1\": {\n",
       "      \"description\": \"High-priority feature implementation\",\n",
       "      \"features\": [],\n",
       "      \"estimated_effort\": \"2-3 days\",\n",
       "      \"expected_impact\": \"high\"\n",
       "    },\n",
       "    \"phase_2\": {\n",
       "      \"description\": \"Interaction and aggregation features\",\n",
       "      \"features\": [],\n",
       "      \"estimated_effort\": \"1-2 days\",\n",
       "      \"expected_impact\": \"medium\"\n",
       "    }\n",
       "  },\n",
       "  \"modeling_recommendations\": [\n",
       "    {\n",
       "      \"category\": \"algorithm_selection\",\n",
       "      \"recommendation\": \"Start with linear models (Ridge, Lasso) for interpretability\",\n",
       "      \"rationale\": \"Fewer strong relationships suggest linear models may be sufficient\"\n",
       "    },\n",
       "    {\n",
       "      \"category\": \"feature_selection\",\n",
       "      \"recommendation\": \"Use correlation-based feature selection with threshold 0.3\",\n",
       "      \"rationale\": \"Focus on variables with moderate to strong correlations\"\n",
       "    }\n",
       "  ],\n",
       "  \"next_steps\": [\n",
       "    \"Implement high-priority features\",\n",
       "    \"Set up automated feature engineering pipeline\",\n",
       "    \"Begin model training with recommended algorithms\",\n",
       "    \"Validate feature importance matches EDA findings\",\n",
       "    \"Monitor model performance against success metrics\"\n",
       "  ]\n",
       "}</pre>"
      ],
      "text/plain": [
       "<IPython.core.display.HTML object>"
      ]
     },
     "metadata": {},
     "output_type": "display_data"
    },
    {
     "data": {
      "text/html": [
       "<h5>Feature Engineering Recommendations</h5>"
      ],
      "text/plain": [
       "<IPython.core.display.HTML object>"
      ]
     },
     "metadata": {},
     "output_type": "display_data"
    },
    {
     "data": {
      "text/html": [
       "<pre>{\n",
       "  \"high_priority_features\": [],\n",
       "  \"transformation_recommendations\": [\n",
       "    {\n",
       "      \"transformation_type\": \"standardization\",\n",
       "      \"variables\": \"all_numeric_features\",\n",
       "      \"reason\": \"Improve model convergence and interpretability\",\n",
       "      \"implementation\": \"StandardScaler from sklearn\",\n",
       "      \"expected_benefit\": \"Better model performance and feature comparison\"\n",
       "    }\n",
       "  ],\n",
       "  \"interaction_features\": [],\n",
       "  \"aggregation_features\": [],\n",
       "  \"derived_features\": [],\n",
       "  \"feature_selection_guidance\": {},\n",
       "  \"modeling_considerations\": []\n",
       "}</pre>"
      ],
      "text/plain": [
       "<IPython.core.display.HTML object>"
      ]
     },
     "metadata": {},
     "output_type": "display_data"
    },
    {
     "data": {
      "text/html": [
       "<h5>Synthesis Results</h5>"
      ],
      "text/plain": [
       "<IPython.core.display.HTML object>"
      ]
     },
     "metadata": {},
     "output_type": "display_data"
    },
    {
     "data": {
      "text/html": [
       "<pre>{\n",
       "  \"data_quality_summary\": {\n",
       "    \"overall_quality\": \"good\",\n",
       "    \"target_variable_quality\": {\n",
       "      \"missing_percentage\": 0.0,\n",
       "      \"outliers_count\": 20,\n",
       "      \"distribution_type\": \"normal\",\n",
       "      \"data_type\": \"continuous\"\n",
       "    },\n",
       "    \"quality_issues\": 2,\n",
       "    \"recommendations\": [\n",
       "      \"Handle 20 anomalies detected with Isolation Forest method.\",\n",
       "      \"Address 107 duplicate values to improve uniqueness.\",\n",
       "      \"Consider using logging mechanisms for monitoring sales volume trends.\"\n",
       "    ]\n",
       "  },\n",
       "  \"variable_relationships\": {\n",
       "    \"strong_relationships\": [],\n",
       "    \"moderate_relationships\": [],\n",
       "    \"weak_relationships\": [],\n",
       "    \"non_significant\": [],\n",
       "    \"relationship_patterns\": {}\n",
       "  },\n",
       "  \"transformation_insights\": {\n",
       "    \"log_transformations_effective\": false,\n",
       "    \"log_effective_variables\": [],\n",
       "    \"polynomial_relationships\": false,\n",
       "    \"polynomial_variables\": [],\n",
       "    \"standardization_benefits\": false\n",
       "  },\n",
       "  \"feature_importance\": {\n",
       "    \"high_importance_features\": [],\n",
       "    \"medium_importance_features\": [],\n",
       "    \"low_importance_features\": [],\n",
       "    \"importance_distribution\": {}\n",
       "  },\n",
       "  \"interaction_insights\": {\n",
       "    \"high_correlation_interactions\": [],\n",
       "    \"interaction_patterns\": {},\n",
       "    \"domain_specific_interactions\": []\n",
       "  },\n",
       "  \"modeling_implications\": {\n",
       "    \"algorithm_recommendation\": \"linear\",\n",
       "    \"feature_selection_strategy\": \"correlation_based\",\n",
       "    \"validation_strategy\": \"stratified\",\n",
       "    \"complexity_assessment\": \"low\",\n",
       "    \"expected_performance\": \"medium\"\n",
       "  }\n",
       "}</pre>"
      ],
      "text/plain": [
       "<IPython.core.display.HTML object>"
      ]
     },
     "metadata": {},
     "output_type": "display_data"
    },
    {
     "data": {
      "text/html": [
       "<h5>Implementation Roadmap</h5>"
      ],
      "text/plain": [
       "<IPython.core.display.HTML object>"
      ]
     },
     "metadata": {},
     "output_type": "display_data"
    },
    {
     "data": {
      "text/html": [
       "<pre>{\n",
       "  \"phase_1\": {\n",
       "    \"description\": \"High-priority feature implementation\",\n",
       "    \"features\": [],\n",
       "    \"estimated_effort\": \"2-3 days\",\n",
       "    \"expected_impact\": \"high\"\n",
       "  },\n",
       "  \"phase_2\": {\n",
       "    \"description\": \"Interaction and aggregation features\",\n",
       "    \"features\": [],\n",
       "    \"estimated_effort\": \"1-2 days\",\n",
       "    \"expected_impact\": \"medium\"\n",
       "  }\n",
       "}</pre>"
      ],
      "text/plain": [
       "<IPython.core.display.HTML object>"
      ]
     },
     "metadata": {},
     "output_type": "display_data"
    },
    {
     "data": {
      "text/html": [
       "<h5>Success Metrics</h5>"
      ],
      "text/plain": [
       "<IPython.core.display.HTML object>"
      ]
     },
     "metadata": {},
     "output_type": "display_data"
    },
    {
     "data": {
      "text/html": [
       "<pre>{\n",
       "  \"model_performance_targets\": {\n",
       "    \"rmse\": \"< 1000\",\n",
       "    \"mae\": \"< 750\",\n",
       "    \"r2_score\": \"> 0.75\"\n",
       "  },\n",
       "  \"feature_importance_thresholds\": {\n",
       "    \"top_5_features\": \"> 80% of total importance\",\n",
       "    \"price_features\": \"> 30% of total importance\"\n",
       "  }\n",
       "}</pre>"
      ],
      "text/plain": [
       "<IPython.core.display.HTML object>"
      ]
     },
     "metadata": {},
     "output_type": "display_data"
    },
    {
     "data": {
      "text/html": [
       "<h5>Next Steps</h5>"
      ],
      "text/plain": [
       "<IPython.core.display.HTML object>"
      ]
     },
     "metadata": {},
     "output_type": "display_data"
    },
    {
     "data": {
      "text/html": [
       "<pre>[\n",
       "  \"Implement high-priority features\",\n",
       "  \"Set up automated feature engineering pipeline\",\n",
       "  \"Begin model training with recommended algorithms\",\n",
       "  \"Validate feature importance matches EDA findings\",\n",
       "  \"Monitor model performance against success metrics\"\n",
       "]</pre>"
      ],
      "text/plain": [
       "<IPython.core.display.HTML object>"
      ]
     },
     "metadata": {},
     "output_type": "display_data"
    }
   ],
   "source": [
    "if workflow_result and 'results' in workflow_result:\n",
    "    results = workflow_result['results']\n",
    "    \n",
    "    display(HTML('<h3>🎯 Final Analysis Results</h3>'))\n",
    "    \n",
    "    # Display summary insights\n",
    "    summary = results.get('summary', {})\n",
    "    if summary:\n",
    "        display(HTML('<h4>📋 Summary</h4>'))\n",
    "        for key, value in summary.items():\n",
    "            display(HTML(f'<p><strong>{key.replace(\"_\", \" \").title()}:</strong> {value}</p>'))\n",
    "    \n",
    "    # Display insights\n",
    "    insights = results.get('insights', [])\n",
    "    if insights:\n",
    "        display(HTML('<h4>💡 Key Insights</h4>'))\n",
    "        for i, insight in enumerate(insights, 1):\n",
    "            display(HTML(f'<p>{i}. {insight}</p>'))\n",
    "    \n",
    "    # Display recommendations\n",
    "    recommendations = results.get('recommendations', [])\n",
    "    if recommendations:\n",
    "        display(HTML('<h4>🎯 Recommendations</h4>'))\n",
    "        for i, rec in enumerate(recommendations, 1):\n",
    "            display(HTML(f'<p>{i}. {rec}</p>'))\n",
    "    \n",
    "    # Display any additional results\n",
    "    additional_keys = [key for key in results.keys() \n",
    "                     if key not in ['generated_hypotheses', 'visualizations', 'summary', 'insights', 'recommendations']]\n",
    "    \n",
    "    if additional_keys:\n",
    "        display(HTML('<h4>📊 Additional Results</h4>'))\n",
    "        for key in additional_keys:\n",
    "            display(HTML(f'<h5>{key.replace(\"_\", \" \").title()}</h5>'))\n",
    "            display(HTML(f'<pre>{json.dumps(results[key], indent=2)}</pre>'))\n",
    "else:\n",
    "    display(HTML('<h3>❌ No final results available</h3>'))\n"
   ]
  },
  {
   "cell_type": "markdown",
   "id": "0fbe1e29",
   "metadata": {},
   "source": [
    "## Raw Results (JSON)\n",
    "\n",
    "For debugging and detailed analysis, here's the complete raw results:\n"
   ]
  },
  {
   "cell_type": "code",
   "execution_count": 36,
   "id": "2347c761",
   "metadata": {},
   "outputs": [
    {
     "data": {
      "text/html": [
       "<h3>🔍 Raw Results (JSON)</h3>"
      ],
      "text/plain": [
       "<IPython.core.display.HTML object>"
      ]
     },
     "metadata": {},
     "output_type": "display_data"
    },
    {
     "data": {
      "text/html": [
       "<pre style=\"background-color: #f5f5f5; padding: 15px; border-radius: 5px; overflow-x: auto;\">{\n",
       "  \"status\": \"success\",\n",
       "  \"generated_hypotheses\": [\n",
       "    {\n",
       "      \"hypothesis_id\": \"hyp_1\",\n",
       "      \"hypothesis\": \"Higher advertising spend leads to increased sales volume in the FMCG sector.\",\n",
       "      \"target_variable\": {\n",
       "        \"name\": \"sales.vol\",\n",
       "        \"alias\": \"sales_vol\",\n",
       "        \"transformation\": \"none\",\n",
       "        \"measure_func\": \"sum\"\n",
       "      },\n",
       "      \"predictor_variable\": {\n",
       "        \"name\": \"ad_spends.amt\",\n",
       "        \"alias\": \"ad_spends_amt\",\n",
       "        \"transformation\": \"log_linear\",\n",
       "        \"measure_func\": \"sum\"\n",
       "      },\n",
       "      \"relationship_type\": \"log_linear_relationship\",\n",
       "      \"expected_impact\": \"positive\",\n",
       "      \"confidence\": 0.88,\n",
       "      \"research_support\": [\n",
       "        \"FMCG studies show a direct correlation between marketing spend and sales volume.\",\n",
       "        \"Industry insights indicate that increases in ad spend drive customer awareness and sales.\"\n",
       "      ],\n",
       "      \"interaction_features\": [\n",
       "        \"ad_spends.amt * social.eng_rate\"\n",
       "      ],\n",
       "      \"test_priority\": 0.9,\n",
       "      \"aggregate_by\": {\n",
       "        \"date_sale\": \"sales.date\",\n",
       "        \"campaign\": \"ad_spends.camp_id\"\n",
       "      },\n",
       "      \"data_requirements\": {\n",
       "        \"required_tables\": [\n",
       "          \"sales\",\n",
       "          \"ad_spends\"\n",
       "        ],\n",
       "        \"required_columns\": [\n",
       "          \"sales.vol\",\n",
       "          \"ad_spends.amt\"\n",
       "        ],\n",
       "        \"join_requirements\": \"sales.date = ad_spends.date\"\n",
       "      }\n",
       "    },\n",
       "    {\n",
       "      \"hypothesis_id\": \"hyp_2\",\n",
       "      \"hypothesis\": \"The percentage change in sales due to pricing strategies positively impacts the overall sales volume.\",\n",
       "      \"target_variable\": {\n",
       "        \"name\": \"sales.vol\",\n",
       "        \"alias\": \"sales_vol\",\n",
       "        \"transformation\": \"none\",\n",
       "        \"measure_func\": \"sum\"\n",
       "      },\n",
       "      \"predictor_variable\": {\n",
       "        \"name\": \"pric_strat.sales_chg\",\n",
       "        \"alias\": \"pric_strat_sales_chg\",\n",
       "        \"transformation\": \"log_linear\",\n",
       "        \"measure_func\": \"average\"\n",
       "      },\n",
       "      \"relationship_type\": \"log_linear_relationship\",\n",
       "      \"expected_impact\": \"positive\",\n",
       "      \"confidence\": 0.85,\n",
       "      \"research_support\": [\n",
       "        \"Research indicates effective pricing strategies significantly influence sales volume.\",\n",
       "        \"Economic literature suggests a positive relationship between sales change metrics and sales volume.\"\n",
       "      ],\n",
       "      \"interaction_features\": [\n",
       "        \"pric_strat.sales_chg * price_sense.price_dec\"\n",
       "      ],\n",
       "      \"test_priority\": 0.85,\n",
       "      \"aggregate_by\": {\n",
       "        \"date_sale\": \"sales.date\",\n",
       "        \"product\": \"sales.prod_id\"\n",
       "      },\n",
       "      \"data_requirements\": {\n",
       "        \"required_tables\": [\n",
       "          \"sales\",\n",
       "          \"pric_strat\"\n",
       "        ],\n",
       "        \"required_columns\": [\n",
       "          \"sales.vol\",\n",
       "          \"pric_strat.sales_chg\"\n",
       "        ],\n",
       "        \"join_requirements\": \"sales.prod_id = pric_strat.prid\"\n",
       "      }\n",
       "    },\n",
       "    {\n",
       "      \"hypothesis_id\": \"hyp_3\",\n",
       "      \"hypothesis\": \"Increased market coverage positively affects sales volume in FMCG.\",\n",
       "      \"target_variable\": {\n",
       "        \"name\": \"sales.vol\",\n",
       "        \"alias\": \"sales_vol\",\n",
       "        \"transformation\": \"none\",\n",
       "        \"measure_func\": \"sum\"\n",
       "      },\n",
       "      \"predictor_variable\": {\n",
       "        \"name\": \"mkt_coverage.st_cnt\",\n",
       "        \"alias\": \"mkt_coverage_st_cnt\",\n",
       "        \"transformation\": \"none\",\n",
       "        \"measure_func\": \"sum\"\n",
       "      },\n",
       "      \"relationship_type\": \"linear_relationship\",\n",
       "      \"expected_impact\": \"positive\",\n",
       "      \"confidence\": 0.8,\n",
       "      \"research_support\": [\n",
       "        \"Previous studies show positive correlations between market coverage and sales volume.\",\n",
       "        \"Industry data supports the argument that wider market coverage increases product visibility.\"\n",
       "      ],\n",
       "      \"interaction_features\": [],\n",
       "      \"test_priority\": 0.8,\n",
       "      \"aggregate_by\": {\n",
       "        \"date_sale\": \"sales.date\"\n",
       "      },\n",
       "      \"data_requirements\": {\n",
       "        \"required_tables\": [\n",
       "          \"sales\",\n",
       "          \"mkt_coverage\"\n",
       "        ],\n",
       "        \"required_columns\": [\n",
       "          \"sales.vol\",\n",
       "          \"mkt_coverage.st_cnt\"\n",
       "        ],\n",
       "        \"join_requirements\": \"sales.date = mkt_coverage.date\"\n",
       "      }\n",
       "    },\n",
       "    {\n",
       "      \"hypothesis_id\": \"hyp_4\",\n",
       "      \"hypothesis\": \"Social media engagement rate positively influences sales volume.\",\n",
       "      \"target_variable\": {\n",
       "        \"name\": \"sales.vol\",\n",
       "        \"alias\": \"sales_vol\",\n",
       "        \"transformation\": \"none\",\n",
       "        \"measure_func\": \"sum\"\n",
       "      },\n",
       "      \"predictor_variable\": {\n",
       "        \"name\": \"social.eng_rate\",\n",
       "        \"alias\": \"social_eng_rate\",\n",
       "        \"transformation\": \"log_linear\",\n",
       "        \"measure_func\": \"average\"\n",
       "      },\n",
       "      \"relationship_type\": \"log_linear_relationship\",\n",
       "      \"expected_impact\": \"positive\",\n",
       "      \"confidence\": 0.83,\n",
       "      \"research_support\": [\n",
       "        \"Studies indicate a strong correlation between social engagement and purchasing behavior.\",\n",
       "        \"Increased social media activity is shown to drive consumer interest and consequently sales.\"\n",
       "      ],\n",
       "      \"interaction_features\": [],\n",
       "      \"test_priority\": 0.7,\n",
       "      \"aggregate_by\": {\n",
       "        \"date_sale\": \"sales.date\"\n",
       "      },\n",
       "      \"data_requirements\": {\n",
       "        \"required_tables\": [\n",
       "          \"sales\",\n",
       "          \"social\"\n",
       "        ],\n",
       "        \"required_columns\": [\n",
       "          \"sales.vol\",\n",
       "          \"social.eng_rate\"\n",
       "        ],\n",
       "        \"join_requirements\": \"sales.date = social.date\"\n",
       "      }\n",
       "    },\n",
       "    {\n",
       "      \"hypothesis_id\": \"hyp_5\",\n",
       "      \"hypothesis\": \"The brand's recognition level positively affects sales volume.\",\n",
       "      \"target_variable\": {\n",
       "        \"name\": \"sales.vol\",\n",
       "        \"alias\": \"sales_vol\",\n",
       "        \"transformation\": \"none\",\n",
       "        \"measure_func\": \"sum\"\n",
       "      },\n",
       "      \"predictor_variable\": {\n",
       "        \"name\": \"prd_mstr.brand\",\n",
       "        \"alias\": \"brand\",\n",
       "        \"transformation\": \"none\",\n",
       "        \"measure_func\": \"count\"\n",
       "      },\n",
       "      \"relationship_type\": \"linear_relationship\",\n",
       "      \"expected_impact\": \"positive\",\n",
       "      \"confidence\": 0.75,\n",
       "      \"research_support\": [\n",
       "        \"Brand recognition studies reveal that familiar brands enjoy increased sales.\",\n",
       "        \"Marketing literature emphasizes the role of brand perception in consumer choices.\"\n",
       "      ],\n",
       "      \"interaction_features\": [],\n",
       "      \"test_priority\": 0.6,\n",
       "      \"aggregate_by\": {\n",
       "        \"date_sale\": \"sales.date\",\n",
       "        \"product\": \"sales.prod_id\"\n",
       "      },\n",
       "      \"data_requirements\": {\n",
       "        \"required_tables\": [\n",
       "          \"sales\",\n",
       "          \"prd_mstr\"\n",
       "        ],\n",
       "        \"required_columns\": [\n",
       "          \"sales.vol\",\n",
       "          \"prd_mstr.brand\"\n",
       "        ],\n",
       "        \"join_requirements\": \"sales.prod_id = prd_mstr.prd_id\"\n",
       "      }\n",
       "    }\n",
       "  ],\n",
       "  \"eda_analysis_results\": [\n",
       "    {\n",
       "      \"hypothesis_id\": \"hyp_1\",\n",
       "      \"status\": \"success\",\n",
       "      \"result\": {\n",
       "        \"hypothesis\": {\n",
       "          \"hypothesis_id\": \"hyp_1\",\n",
       "          \"hypothesis\": \"Higher advertising spend leads to increased sales volume in the FMCG sector.\",\n",
       "          \"target_variable\": {\n",
       "            \"name\": \"sales.vol\",\n",
       "            \"alias\": \"sales_vol\",\n",
       "            \"transformation\": \"none\",\n",
       "            \"measure_func\": \"sum\"\n",
       "          },\n",
       "          \"predictor_variable\": {\n",
       "            \"name\": \"ad_spends.amt\",\n",
       "            \"alias\": \"ad_spends_amt\",\n",
       "            \"transformation\": \"log_linear\",\n",
       "            \"measure_func\": \"sum\"\n",
       "          },\n",
       "          \"relationship_type\": \"log_linear_relationship\",\n",
       "          \"expected_impact\": \"positive\",\n",
       "          \"confidence\": 0.88,\n",
       "          \"research_support\": [\n",
       "            \"FMCG studies show a direct correlation between marketing spend and sales volume.\",\n",
       "            \"Industry insights indicate that increases in ad spend drive customer awareness and sales.\"\n",
       "          ],\n",
       "          \"interaction_features\": [\n",
       "            \"ad_spends.amt * social.eng_rate\"\n",
       "          ],\n",
       "          \"test_priority\": 0.9,\n",
       "          \"aggregate_by\": {\n",
       "            \"date_sale\": \"sales.date\",\n",
       "            \"campaign\": \"ad_spends.camp_id\"\n",
       "          },\n",
       "          \"data_requirements\": {\n",
       "            \"required_tables\": [\n",
       "              \"sales\",\n",
       "              \"ad_spends\"\n",
       "            ],\n",
       "            \"required_columns\": [\n",
       "              \"sales.vol\",\n",
       "              \"ad_spends.amt\"\n",
       "            ],\n",
       "            \"join_requirements\": \"sales.date = ad_spends.date\"\n",
       "          }\n",
       "        },\n",
       "        \"etl_schema\": {},\n",
       "        \"correlation_analysis\": {\n",
       "          \"error\": \"Insufficient data after cleaning: 0 rows remaining\"\n",
       "        },\n",
       "        \"visualizations\": {\n",
       "          \"scatter_plot\": \"visualizations/scatter_ad_spends_amt_sales_vol.png\",\n",
       "          \"correlation_heatmap\": \"visualizations/heatmap_ad_spends_amt_sales_vol.png\"\n",
       "        },\n",
       "        \"feature_engineering_insights\": {},\n",
       "        \"statistical_summary\": {},\n",
       "        \"status\": \"completed\"\n",
       "      }\n",
       "    },\n",
       "    {\n",
       "      \"hypothesis_id\": \"hyp_2\",\n",
       "      \"status\": \"success\",\n",
       "      \"result\": {\n",
       "        \"hypothesis\": {\n",
       "          \"hypothesis_id\": \"hyp_2\",\n",
       "          \"hypothesis\": \"The percentage change in sales due to pricing strategies positively impacts the overall sales volume.\",\n",
       "          \"target_variable\": {\n",
       "            \"name\": \"sales.vol\",\n",
       "            \"alias\": \"sales_vol\",\n",
       "            \"transformation\": \"none\",\n",
       "            \"measure_func\": \"sum\"\n",
       "          },\n",
       "          \"predictor_variable\": {\n",
       "            \"name\": \"pric_strat.sales_chg\",\n",
       "            \"alias\": \"pric_strat_sales_chg\",\n",
       "            \"transformation\": \"log_linear\",\n",
       "            \"measure_func\": \"average\"\n",
       "          },\n",
       "          \"relationship_type\": \"log_linear_relationship\",\n",
       "          \"expected_impact\": \"positive\",\n",
       "          \"confidence\": 0.85,\n",
       "          \"research_support\": [\n",
       "            \"Research indicates effective pricing strategies significantly influence sales volume.\",\n",
       "            \"Economic literature suggests a positive relationship between sales change metrics and sales volume.\"\n",
       "          ],\n",
       "          \"interaction_features\": [\n",
       "            \"pric_strat.sales_chg * price_sense.price_dec\"\n",
       "          ],\n",
       "          \"test_priority\": 0.85,\n",
       "          \"aggregate_by\": {\n",
       "            \"date_sale\": \"sales.date\",\n",
       "            \"product\": \"sales.prod_id\"\n",
       "          },\n",
       "          \"data_requirements\": {\n",
       "            \"required_tables\": [\n",
       "              \"sales\",\n",
       "              \"pric_strat\"\n",
       "            ],\n",
       "            \"required_columns\": [\n",
       "              \"sales.vol\",\n",
       "              \"pric_strat.sales_chg\"\n",
       "            ],\n",
       "            \"join_requirements\": \"sales.prod_id = pric_strat.prid\"\n",
       "          }\n",
       "        },\n",
       "        \"etl_schema\": {},\n",
       "        \"correlation_analysis\": {\n",
       "          \"correlations\": {\n",
       "            \"pearson\": {\n",
       "              \"correlation\": NaN,\n",
       "              \"p_value\": NaN,\n",
       "              \"significant\": false\n",
       "            },\n",
       "            \"spearman\": {\n",
       "              \"correlation\": NaN,\n",
       "              \"p_value\": NaN,\n",
       "              \"significant\": false\n",
       "            }\n",
       "          },\n",
       "          \"variables\": {\n",
       "            \"target\": \"sales_vol\",\n",
       "            \"predictor\": \"pric_strat_sales_chg\"\n",
       "          },\n",
       "          \"statistics\": {\n",
       "            \"sample_size\": 200,\n",
       "            \"target_mean\": 0.4539619817610351,\n",
       "            \"predictor_mean\": 0.0,\n",
       "            \"target_std\": 0.484107089159313,\n",
       "            \"predictor_std\": 0.0\n",
       "          },\n",
       "          \"hypothesis_support\": {\n",
       "            \"direction_match\": false,\n",
       "            \"significant\": false,\n",
       "            \"correlation_strength\": NaN,\n",
       "            \"support_score\": 0.0,\n",
       "            \"expected_impact\": \"positive\",\n",
       "            \"actual_correlation\": NaN\n",
       "          }\n",
       "        },\n",
       "        \"visualizations\": {\n",
       "          \"scatter_plot\": \"visualizations/scatter_pric_strat_sales_chg_sales_vol.png\",\n",
       "          \"correlation_heatmap\": \"visualizations/heatmap_pric_strat_sales_chg_sales_vol.png\"\n",
       "        },\n",
       "        \"feature_engineering_insights\": {},\n",
       "        \"statistical_summary\": {},\n",
       "        \"status\": \"completed\"\n",
       "      }\n",
       "    },\n",
       "    {\n",
       "      \"hypothesis_id\": \"hyp_3\",\n",
       "      \"status\": \"success\",\n",
       "      \"result\": {\n",
       "        \"hypothesis\": {\n",
       "          \"hypothesis_id\": \"hyp_3\",\n",
       "          \"hypothesis\": \"Increased market coverage positively affects sales volume in FMCG.\",\n",
       "          \"target_variable\": {\n",
       "            \"name\": \"sales.vol\",\n",
       "            \"alias\": \"sales_vol\",\n",
       "            \"transformation\": \"none\",\n",
       "            \"measure_func\": \"sum\"\n",
       "          },\n",
       "          \"predictor_variable\": {\n",
       "            \"name\": \"mkt_coverage.st_cnt\",\n",
       "            \"alias\": \"mkt_coverage_st_cnt\",\n",
       "            \"transformation\": \"none\",\n",
       "            \"measure_func\": \"sum\"\n",
       "          },\n",
       "          \"relationship_type\": \"linear_relationship\",\n",
       "          \"expected_impact\": \"positive\",\n",
       "          \"confidence\": 0.8,\n",
       "          \"research_support\": [\n",
       "            \"Previous studies show positive correlations between market coverage and sales volume.\",\n",
       "            \"Industry data supports the argument that wider market coverage increases product visibility.\"\n",
       "          ],\n",
       "          \"interaction_features\": [],\n",
       "          \"test_priority\": 0.8,\n",
       "          \"aggregate_by\": {\n",
       "            \"date_sale\": \"sales.date\"\n",
       "          },\n",
       "          \"data_requirements\": {\n",
       "            \"required_tables\": [\n",
       "              \"sales\",\n",
       "              \"mkt_coverage\"\n",
       "            ],\n",
       "            \"required_columns\": [\n",
       "              \"sales.vol\",\n",
       "              \"mkt_coverage.st_cnt\"\n",
       "            ],\n",
       "            \"join_requirements\": \"sales.date = mkt_coverage.date\"\n",
       "          }\n",
       "        },\n",
       "        \"etl_schema\": {},\n",
       "        \"correlation_analysis\": {\n",
       "          \"error\": \"Insufficient data after cleaning: 0 rows remaining\"\n",
       "        },\n",
       "        \"visualizations\": {\n",
       "          \"scatter_plot\": \"visualizations/scatter_mkt_coverage_st_cnt_sales_vol.png\",\n",
       "          \"correlation_heatmap\": \"visualizations/heatmap_mkt_coverage_st_cnt_sales_vol.png\"\n",
       "        },\n",
       "        \"feature_engineering_insights\": {},\n",
       "        \"statistical_summary\": {},\n",
       "        \"status\": \"completed\"\n",
       "      }\n",
       "    },\n",
       "    {\n",
       "      \"hypothesis_id\": \"hyp_4\",\n",
       "      \"status\": \"success\",\n",
       "      \"result\": {\n",
       "        \"hypothesis\": {\n",
       "          \"hypothesis_id\": \"hyp_4\",\n",
       "          \"hypothesis\": \"Social media engagement rate positively influences sales volume.\",\n",
       "          \"target_variable\": {\n",
       "            \"name\": \"sales.vol\",\n",
       "            \"alias\": \"sales_vol\",\n",
       "            \"transformation\": \"none\",\n",
       "            \"measure_func\": \"sum\"\n",
       "          },\n",
       "          \"predictor_variable\": {\n",
       "            \"name\": \"social.eng_rate\",\n",
       "            \"alias\": \"social_eng_rate\",\n",
       "            \"transformation\": \"log_linear\",\n",
       "            \"measure_func\": \"average\"\n",
       "          },\n",
       "          \"relationship_type\": \"log_linear_relationship\",\n",
       "          \"expected_impact\": \"positive\",\n",
       "          \"confidence\": 0.83,\n",
       "          \"research_support\": [\n",
       "            \"Studies indicate a strong correlation between social engagement and purchasing behavior.\",\n",
       "            \"Increased social media activity is shown to drive consumer interest and consequently sales.\"\n",
       "          ],\n",
       "          \"interaction_features\": [],\n",
       "          \"test_priority\": 0.7,\n",
       "          \"aggregate_by\": {\n",
       "            \"date_sale\": \"sales.date\"\n",
       "          },\n",
       "          \"data_requirements\": {\n",
       "            \"required_tables\": [\n",
       "              \"sales\",\n",
       "              \"social\"\n",
       "            ],\n",
       "            \"required_columns\": [\n",
       "              \"sales.vol\",\n",
       "              \"social.eng_rate\"\n",
       "            ],\n",
       "            \"join_requirements\": \"sales.date = social.date\"\n",
       "          }\n",
       "        },\n",
       "        \"etl_schema\": {},\n",
       "        \"correlation_analysis\": {\n",
       "          \"error\": \"Insufficient data after cleaning: 0 rows remaining\"\n",
       "        },\n",
       "        \"visualizations\": {\n",
       "          \"scatter_plot\": \"visualizations/scatter_social_eng_rate_sales_vol.png\",\n",
       "          \"correlation_heatmap\": \"visualizations/heatmap_social_eng_rate_sales_vol.png\"\n",
       "        },\n",
       "        \"feature_engineering_insights\": {},\n",
       "        \"statistical_summary\": {},\n",
       "        \"status\": \"completed\"\n",
       "      }\n",
       "    },\n",
       "    {\n",
       "      \"hypothesis_id\": \"hyp_5\",\n",
       "      \"status\": \"success\",\n",
       "      \"result\": {\n",
       "        \"hypothesis\": {\n",
       "          \"hypothesis_id\": \"hyp_5\",\n",
       "          \"hypothesis\": \"The brand's recognition level positively affects sales volume.\",\n",
       "          \"target_variable\": {\n",
       "            \"name\": \"sales.vol\",\n",
       "            \"alias\": \"sales_vol\",\n",
       "            \"transformation\": \"none\",\n",
       "            \"measure_func\": \"sum\"\n",
       "          },\n",
       "          \"predictor_variable\": {\n",
       "            \"name\": \"prd_mstr.brand\",\n",
       "            \"alias\": \"brand\",\n",
       "            \"transformation\": \"none\",\n",
       "            \"measure_func\": \"count\"\n",
       "          },\n",
       "          \"relationship_type\": \"linear_relationship\",\n",
       "          \"expected_impact\": \"positive\",\n",
       "          \"confidence\": 0.75,\n",
       "          \"research_support\": [\n",
       "            \"Brand recognition studies reveal that familiar brands enjoy increased sales.\",\n",
       "            \"Marketing literature emphasizes the role of brand perception in consumer choices.\"\n",
       "          ],\n",
       "          \"interaction_features\": [],\n",
       "          \"test_priority\": 0.6,\n",
       "          \"aggregate_by\": {\n",
       "            \"date_sale\": \"sales.date\",\n",
       "            \"product\": \"sales.prod_id\"\n",
       "          },\n",
       "          \"data_requirements\": {\n",
       "            \"required_tables\": [\n",
       "              \"sales\",\n",
       "              \"prd_mstr\"\n",
       "            ],\n",
       "            \"required_columns\": [\n",
       "              \"sales.vol\",\n",
       "              \"prd_mstr.brand\"\n",
       "            ],\n",
       "            \"join_requirements\": \"sales.prod_id = prd_mstr.prd_id\"\n",
       "          }\n",
       "        },\n",
       "        \"etl_schema\": {},\n",
       "        \"correlation_analysis\": {\n",
       "          \"error\": \"Correlation analysis failed: Could not convert string '' to numeric\"\n",
       "        },\n",
       "        \"visualizations\": {\n",
       "          \"error\": \"ufunc 'multiply' did not contain a loop with signature matching types (dtype('<U1'), dtype('float64')) -> None\"\n",
       "        },\n",
       "        \"feature_engineering_insights\": {},\n",
       "        \"statistical_summary\": {},\n",
       "        \"status\": \"completed\"\n",
       "      }\n",
       "    }\n",
       "  ],\n",
       "  \"results\": {\n",
       "    \"executive_summary\": {\n",
       "      \"overview\": {\n",
       "        \"target_variable\": \"sales.vol\",\n",
       "        \"total_variables_analyzed\": 0,\n",
       "        \"significant_relationships_found\": 0,\n",
       "        \"data_quality_score\": 0.98,\n",
       "        \"analysis_confidence\": \"low\"\n",
       "      },\n",
       "      \"key_findings\": [],\n",
       "      \"critical_insights\": [],\n",
       "      \"feature_engineering_priority\": {\n",
       "        \"phase_1\": {\n",
       "          \"description\": \"High-priority feature implementation\",\n",
       "          \"features\": [],\n",
       "          \"estimated_effort\": \"2-3 days\",\n",
       "          \"expected_impact\": \"high\"\n",
       "        },\n",
       "        \"phase_2\": {\n",
       "          \"description\": \"Interaction and aggregation features\",\n",
       "          \"features\": [],\n",
       "          \"estimated_effort\": \"1-2 days\",\n",
       "          \"expected_impact\": \"medium\"\n",
       "        }\n",
       "      },\n",
       "      \"modeling_recommendations\": [\n",
       "        {\n",
       "          \"category\": \"algorithm_selection\",\n",
       "          \"recommendation\": \"Start with linear models (Ridge, Lasso) for interpretability\",\n",
       "          \"rationale\": \"Fewer strong relationships suggest linear models may be sufficient\"\n",
       "        },\n",
       "        {\n",
       "          \"category\": \"feature_selection\",\n",
       "          \"recommendation\": \"Use correlation-based feature selection with threshold 0.3\",\n",
       "          \"rationale\": \"Focus on variables with moderate to strong correlations\"\n",
       "        }\n",
       "      ],\n",
       "      \"next_steps\": [\n",
       "        \"Implement high-priority features\",\n",
       "        \"Set up automated feature engineering pipeline\",\n",
       "        \"Begin model training with recommended algorithms\",\n",
       "        \"Validate feature importance matches EDA findings\",\n",
       "        \"Monitor model performance against success metrics\"\n",
       "      ]\n",
       "    },\n",
       "    \"feature_engineering_recommendations\": {\n",
       "      \"high_priority_features\": [],\n",
       "      \"transformation_recommendations\": [\n",
       "        {\n",
       "          \"transformation_type\": \"standardization\",\n",
       "          \"variables\": \"all_numeric_features\",\n",
       "          \"reason\": \"Improve model convergence and interpretability\",\n",
       "          \"implementation\": \"StandardScaler from sklearn\",\n",
       "          \"expected_benefit\": \"Better model performance and feature comparison\"\n",
       "        }\n",
       "      ],\n",
       "      \"interaction_features\": [],\n",
       "      \"aggregation_features\": [],\n",
       "      \"derived_features\": [],\n",
       "      \"feature_selection_guidance\": {},\n",
       "      \"modeling_considerations\": []\n",
       "    },\n",
       "    \"synthesis_results\": {\n",
       "      \"data_quality_summary\": {\n",
       "        \"overall_quality\": \"good\",\n",
       "        \"target_variable_quality\": {\n",
       "          \"missing_percentage\": 0.0,\n",
       "          \"outliers_count\": 20,\n",
       "          \"distribution_type\": \"normal\",\n",
       "          \"data_type\": \"continuous\"\n",
       "        },\n",
       "        \"quality_issues\": 2,\n",
       "        \"recommendations\": [\n",
       "          \"Handle 20 outliers detected in sales volume using robust methods.\",\n",
       "          \"Resolve 107 duplicate values in the dataset for better unique representation.\",\n",
       "          \"Monitor for variations in sales patterns to improve forecasting accuracy.\"\n",
       "        ]\n",
       "      },\n",
       "      \"variable_relationships\": {\n",
       "        \"strong_relationships\": [],\n",
       "        \"moderate_relationships\": [],\n",
       "        \"weak_relationships\": [],\n",
       "        \"non_significant\": [\n",
       "          {\n",
       "            \"hypothesis_id\": \"hyp_1\",\n",
       "            \"predictor_variable\": \"unknown\",\n",
       "            \"correlation_strength\": 0,\n",
       "            \"correlation_direction\": \"negative\",\n",
       "            \"significance\": \"not_significant\",\n",
       "            \"transformation\": \"none\"\n",
       "          },\n",
       "          {\n",
       "            \"hypothesis_id\": \"hyp_2\",\n",
       "            \"predictor_variable\": \"unknown\",\n",
       "            \"correlation_strength\": NaN,\n",
       "            \"correlation_direction\": \"negative\",\n",
       "            \"significance\": \"not_significant\",\n",
       "            \"transformation\": \"none\"\n",
       "          },\n",
       "          {\n",
       "            \"hypothesis_id\": \"hyp_3\",\n",
       "            \"predictor_variable\": \"unknown\",\n",
       "            \"correlation_strength\": 0,\n",
       "            \"correlation_direction\": \"negative\",\n",
       "            \"significance\": \"not_significant\",\n",
       "            \"transformation\": \"none\"\n",
       "          },\n",
       "          {\n",
       "            \"hypothesis_id\": \"hyp_4\",\n",
       "            \"predictor_variable\": \"unknown\",\n",
       "            \"correlation_strength\": 0,\n",
       "            \"correlation_direction\": \"negative\",\n",
       "            \"significance\": \"not_significant\",\n",
       "            \"transformation\": \"none\"\n",
       "          },\n",
       "          {\n",
       "            \"hypothesis_id\": \"hyp_5\",\n",
       "            \"predictor_variable\": \"unknown\",\n",
       "            \"correlation_strength\": 0,\n",
       "            \"correlation_direction\": \"negative\",\n",
       "            \"significance\": \"not_significant\",\n",
       "            \"transformation\": \"none\"\n",
       "          }\n",
       "        ],\n",
       "        \"relationship_patterns\": {}\n",
       "      },\n",
       "      \"transformation_insights\": {\n",
       "        \"log_transformations_effective\": false,\n",
       "        \"log_effective_variables\": [],\n",
       "        \"polynomial_relationships\": false,\n",
       "        \"polynomial_variables\": [],\n",
       "        \"standardization_benefits\": false\n",
       "      },\n",
       "      \"feature_importance\": {\n",
       "        \"high_importance_features\": [],\n",
       "        \"medium_importance_features\": [],\n",
       "        \"low_importance_features\": [\n",
       "          {\n",
       "            \"feature_name\": \"unknown\",\n",
       "            \"correlation_strength\": 0,\n",
       "            \"correlation_direction\": \"negative\",\n",
       "            \"significance\": \"not_significant\"\n",
       "          },\n",
       "          {\n",
       "            \"feature_name\": \"unknown\",\n",
       "            \"correlation_strength\": NaN,\n",
       "            \"correlation_direction\": \"negative\",\n",
       "            \"significance\": \"not_significant\"\n",
       "          },\n",
       "          {\n",
       "            \"feature_name\": \"unknown\",\n",
       "            \"correlation_strength\": 0,\n",
       "            \"correlation_direction\": \"negative\",\n",
       "            \"significance\": \"not_significant\"\n",
       "          },\n",
       "          {\n",
       "            \"feature_name\": \"unknown\",\n",
       "            \"correlation_strength\": 0,\n",
       "            \"correlation_direction\": \"negative\",\n",
       "            \"significance\": \"not_significant\"\n",
       "          },\n",
       "          {\n",
       "            \"feature_name\": \"unknown\",\n",
       "            \"correlation_strength\": 0,\n",
       "            \"correlation_direction\": \"negative\",\n",
       "            \"significance\": \"not_significant\"\n",
       "          }\n",
       "        ],\n",
       "        \"importance_distribution\": {}\n",
       "      },\n",
       "      \"interaction_insights\": {\n",
       "        \"high_correlation_interactions\": [],\n",
       "        \"interaction_patterns\": {},\n",
       "        \"domain_specific_interactions\": []\n",
       "      },\n",
       "      \"modeling_implications\": {\n",
       "        \"algorithm_recommendation\": \"linear\",\n",
       "        \"feature_selection_strategy\": \"correlation_based\",\n",
       "        \"validation_strategy\": \"stratified\",\n",
       "        \"complexity_assessment\": \"medium\",\n",
       "        \"expected_performance\": \"medium\"\n",
       "      }\n",
       "    },\n",
       "    \"implementation_roadmap\": {\n",
       "      \"phase_1\": {\n",
       "        \"description\": \"High-priority feature implementation\",\n",
       "        \"features\": [],\n",
       "        \"estimated_effort\": \"2-3 days\",\n",
       "        \"expected_impact\": \"high\"\n",
       "      },\n",
       "      \"phase_2\": {\n",
       "        \"description\": \"Interaction and aggregation features\",\n",
       "        \"features\": [],\n",
       "        \"estimated_effort\": \"1-2 days\",\n",
       "        \"expected_impact\": \"medium\"\n",
       "      }\n",
       "    },\n",
       "    \"success_metrics\": {\n",
       "      \"model_performance_targets\": {\n",
       "        \"rmse\": \"< 1000\",\n",
       "        \"mae\": \"< 750\",\n",
       "        \"r2_score\": \"> 0.75\"\n",
       "      },\n",
       "      \"feature_importance_thresholds\": {\n",
       "        \"top_5_features\": \"> 80% of total importance\",\n",
       "        \"price_features\": \"> 30% of total importance\"\n",
       "      }\n",
       "    },\n",
       "    \"next_steps\": [\n",
       "      \"Implement high-priority features\",\n",
       "      \"Set up automated feature engineering pipeline\",\n",
       "      \"Begin model training with recommended algorithms\",\n",
       "      \"Validate feature importance matches EDA findings\",\n",
       "      \"Monitor model performance against success metrics\"\n",
       "    ]\n",
       "  },\n",
       "  \"execution_metrics\": {\n",
       "    \"execution_time_seconds\": null,\n",
       "    \"workflow_path\": \"summarizer\",\n",
       "    \"error_count\": 0,\n",
       "    \"hypotheses_generated\": 5,\n",
       "    \"performance_metrics\": {},\n",
       "    \"hypotheses_file\": \"hypothesis_outputs\\\\hypotheses_sales.vol_full_20251002_223054.json\"\n",
       "  },\n",
       "  \"workflow_path\": \"summarizer\",\n",
       "  \"error_messages\": []\n",
       "}</pre>"
      ],
      "text/plain": [
       "<IPython.core.display.HTML object>"
      ]
     },
     "metadata": {},
     "output_type": "display_data"
    }
   ],
   "source": [
    "if workflow_result:\n",
    "    display(HTML('<h3>🔍 Raw Results (JSON)</h3>'))\n",
    "    display(HTML(f'<pre style=\"background-color: #f5f5f5; padding: 15px; border-radius: 5px; overflow-x: auto;\">{json.dumps(workflow_result, indent=2, default=str)}</pre>'))\n",
    "else:\n",
    "    display(HTML('<h3>❌ No raw results available</h3>'))\n"
   ]
  },
  {
   "cell_type": "markdown",
   "id": "e64ed0de",
   "metadata": {},
   "source": []
  }
 ],
 "metadata": {
  "kernelspec": {
   "display_name": "Python 3 (ipykernel)",
   "language": "python",
   "name": "python3"
  },
  "language_info": {
   "codemirror_mode": {
    "name": "ipython",
    "version": 3
   },
   "file_extension": ".py",
   "mimetype": "text/x-python",
   "name": "python",
   "nbconvert_exporter": "python",
   "pygments_lexer": "ipython3",
   "version": "3.12.7"
  }
 },
 "nbformat": 4,
 "nbformat_minor": 5
}
