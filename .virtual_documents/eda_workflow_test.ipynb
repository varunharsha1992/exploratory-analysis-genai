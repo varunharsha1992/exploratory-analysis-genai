


%load_ext autoreload
%autoreload 2


# Import required libraries
import asyncio
import sys
import os
import pandas as pd
import matplotlib.pyplot as plt
import seaborn as sns
import json
from IPython.display import display, HTML, Markdown
import warnings
warnings.filterwarnings('ignore')

# Add project root to path
sys.path.append(os.path.dirname(os.path.abspath('.')))

from EDA.workflow.workflow_execution import execute_eda_workflow
from EDA.tools import intugle_agent_tools

# Set up plotting style
plt.style.use('default')
sns.set_palette("husl")

print("✅ Libraries imported successfully")






# Configuration parameters
config = {
    "target_variable": "sales.vol",
    "eda_request": "What are the factors influencing sales?",
    "domain_context": "This FMCG sales dataset captures the key drivers of product performance in fast-moving consumer goods markets, combining marketing inputs (ad_spends, social), trade and distribution factors (disti, mkt_coverage, retail_audit), pricing dynamics (price_sense, pric_strat), and contextual information (prd_mstr, rnd, cons_fb) to explain variations in sales. It reflects how consumer demand in FMCG is shaped not only by product attributes and pricing but also by visibility, availability, promotions, and brand perception, making it well-suited for analyses such as market mix modeling, demand forecasting, and pricing elasticity studies.",
    "hypothesis_limit": 5,
    "simplified": False,
    "full_data_path": "C:/Dev/Data Querying AI/data-tools/sample_data/fmcg",
    "target_file_name": "sales.csv",
    "files_to_process": [
        "ad_spends", "cons_fb", "disti", "mkt_coverage",
        "prd_mstr", "price_sense", "pric_strat", "retail_audit",
        "rnd", "sales", "social"
    ]
}

print("📋 Configuration loaded:")
print(f"Target Variable: {config['target_variable']}")
print(f"EDA Request: {config['eda_request']}")
print(f"Hypothesis Limit: {config['hypothesis_limit']}")
print(f"Files to Process: {len(config['files_to_process'])} files")



intugle_tools = intugle_agent_tools.IntugleAgentTools(full_data_path=config['full_data_path'], files_to_process=config['files_to_process'])


from EDA.agents.eda_analysis.eda_analysis import EDAAnalysisAgent

def debug_etl_schema_creation(hypothesis):
    """Debug ETL schema creation process"""
    print(f"\n=== DEBUGGING ETL SCHEMA CREATION ===")
    print(f"Hypothesis: {hypothesis.get('hypothesis', 'N/A')}")
    
    # Extract hypothesis components
    target_var = hypothesis.get("target_variable", {})
    predictor_var = hypothesis.get("predictor_variable", {})
    data_req = hypothesis.get("data_requirements", {})
    
    print(f"Target Variable: {target_var.get('name', 'N/A')}")
    print(f"Predictor Variable: {predictor_var.get('name', 'N/A')}")
    print(f"Required Tables: {data_req.get('required_tables', [])}")
    print(f"Required Columns: {data_req.get('required_columns', [])}")
    
    # Create EDA Analysis Agent to test ETL schema creation
    try:
        eda_agent = EDAAnalysisAgent(
            kb=None,
            target_variable=target_var.get('name', ''),
            timeout=60,
            intugle_tools=intugle_tools
        )
        

        print(f"Running Analysis")
        result = eda_agent.analyze_hypothesis(hypothesis=hypothesis)
        print(f"Analysis result: {result}")
            
    except Exception as e:
        print(f"❌ ETL Schema creation error: {str(e)}")
        return False
    
    return True
def create_dummy_hypotheses():
    """Create dummy hypotheses for testing"""
    return [
        {
      "hypothesis_id": "hyp_1",
      "hypothesis": "Price sensitivity (price_sense.price_dec) has a log-log relationship with sales volume (sales.vol), indicating that price changes significantly impact sales performance in fast-moving consumer goods.",
      "target_variable": {
        "name": "sales.vol",
        "alias": "sales_vol",
        "transformation": "none",
        "measure_func": "sum"
      },
      "predictor_variable": {
        "name": "price_sense.price_dec",
        "alias": "price_dec",
        "transformation": "log_log",
        "measure_func": "average"
      },
      "relationship_type": "log_log_relationship",
      "expected_impact": "negative",
      "confidence": 0.81,
      "research_support": [
        "Numerous studies in FMCG indicate a significant impact of pricing on sales volume.",
        "Price elasticity theories support this hypothesis, particularly in competitive markets."
      ],
      "interaction_features": [
        "price_sense.price_dec * mkt_coverage.st_cnt"
      ],
      "test_priority": 0.9,
      "aggregate_by": {
        "date_sale": "sales.date",
        "product": "sales.prod_id"
      },
      "data_requirements": {
        "required_tables": [
          "sales",
          "price_sense"
        ],
        "required_columns": [
          "sales.vol",
          "price_sense.price_dec"
        ],
        "join_requirements": "sales.prod_id = price_sense.pid"
      }
        }
            ]

def test_eda_worker_loop_agent():
    """Test the EDA Worker Loop Agent with comprehensive debugging"""
    print("=== COMPREHENSIVE EDA WORKER LOOP DEBUGGING ===")
    
    # Step 1: Debug KB availability
    print("\n" + "="*60)
    
    # Step 2: Create dummy hypotheses
    print("\n" + "="*60)
    dummy_hypotheses = create_dummy_hypotheses()
    print(f"Created {len(dummy_hypotheses)} dummy hypotheses")
    
    # Step 3: Debug ETL schema creation for each hypothesis
    print("\n" + "="*60)
    for i, hypothesis in enumerate(dummy_hypotheses):
        print(f"\n--- DEBUGGING HYPOTHESIS {i+1} ---")
        etl_success = debug_etl_schema_creation(hypothesis)
        if not etl_success:
            print(f"❌ ETL schema creation failed for hypothesis {i+1}")
    
    # # Step 4: Test EDA Worker Loop Agent with proper EDAWorkflowState
    # print("\n" + "="*60)
    # print("=== Testing EDA Worker Loop Agent with EDAWorkflowState ===")
    
    # # Create proper EDAWorkflowState
    # state: EDAWorkflowState = {
    #     # Input parameters
    #     "target_variable": "sales.vol",
    #     "eda_request": "Analyze the relationship between competitive pricing and sales volume",
    #     "domain_context": "FMCG retail analytics",
    #     "hypothesis_limit": 5,
    #     "data": None,  # No data provided, will use KB
        
    #     # Agent outputs (initially None)
    #     "univariate_results": None,
    #     "generated_hypotheses": dummy_hypotheses,
    #     "hypothesis_testing_results": None,
    #     "final_summary": None,
        
    #     # Workflow metadata
    #     "execution_status": "in_progress",
    #     "error_messages": [],
    #     "performance_metrics": {},
    #     "current_agent": "eda_worker_loop",
        
    #     # Additional workflow state
    #     "start_time": datetime.now(),
    #     "end_time": None,
    #     "config": {
    #         "eda_worker_config": {
    #             "max_workers": 3,
    #             "timeout_per_hypothesis": 60
    #         }
    #     },
    #     "kb": None  # Will use fresh data loading
    # }
    
    # print("✅ EDAWorkflowState created with proper structure")
    # print(f"State keys: {list(state.keys())}")
    # print(f"Target variable: {state['target_variable']}")
    # print(f"Hypotheses count: {len(state['generated_hypotheses'])}")
    
    # # Test the LangGraph node function with proper state
    # print("\n--- Testing LangGraph integration with EDAWorkflowState ---")
    # try:
    #     # Test the LangGraph node function
    #     updated_state = eda_worker_loop_agent(state)
    #     print("✅ LangGraph integration completed successfully")
    #     print(f"Updated state keys: {list(updated_state.keys())}")
    #     print(f"Execution status: {updated_state.get('execution_status')}")
    #     print(f"Current agent: {updated_state.get('current_agent')}")
        
    #     # Check if hypothesis testing results were added
    #     if updated_state.get('hypothesis_testing_results'):
    #         print("✅ Hypothesis testing results found in state")
    #         results = updated_state['hypothesis_testing_results']
    #         print(f"  - Total hypotheses: {results.get('total_hypotheses', 0)}")
    #         print(f"  - Successful: {results.get('successful_analyses', 0)}")
    #         print(f"  - Failed: {results.get('failed_analyses', 0)}")
    #     else:
    #         print("⚠️ No hypothesis testing results in state")
        
    # except Exception as e:
    #     print(f"❌ LangGraph integration failed: {str(e)}")
    #     import traceback
    #     traceback.print_exc()
    #     return False
    
    # print("\n=== Test completed successfully! ===")
    return True


test_eda_worker_loop_agent()





# Execute the workflow
print("🚀 Starting EDA Workflow...")
print("=" * 50)

try:
    # Run the workflow
    workflow_result = await execute_eda_workflow(
        target_variable=config["target_variable"],
        eda_request=config["eda_request"],
        domain_context=config["domain_context"],
        hypothesis_limit=config["hypothesis_limit"],
        simplified=config["simplified"],
        full_data_path=config["full_data_path"],
        target_file_name=config["target_file_name"],
        files_to_process=config["files_to_process"]
    )
    
    print("✅ Workflow completed successfully!")
    
except Exception as e:
    print(f"❌ Workflow failed: {e}")
    import traceback
    traceback.print_exc()
    workflow_result = None



###### Workflow Results Summary
workflow_result


if workflow_result:
    # Display workflow status
    status = workflow_result.get('status', 'unknown')
    
    if status == 'success':
        display(HTML('<h3 style="color: green;">✅ Workflow Status: SUCCESS</h3>'))
    else:
        display(HTML(f'<h3 style="color: red;">❌ Workflow Status: {status.upper()}</h3>'))
    
    # Display execution metrics
    metrics = workflow_result.get('execution_metrics', {})
    if metrics:
        display(HTML('<h4>📊 Execution Metrics:</h4>'))
        metrics_df = pd.DataFrame(list(metrics.items()), columns=['Metric', 'Value'])
        display(metrics_df)
    
    # Display any error messages
    error_messages = workflow_result.get('error_messages', [])
    if error_messages:
        display(HTML('<h4 style="color: orange;">⚠️ Error Messages:</h4>'))
        for i, error in enumerate(error_messages, 1):
            display(HTML(f'<p>{i}. {error}</p>'))
else:
    display(HTML('<h3 style="color: red;">❌ No workflow results available</h3>'))






print(workflow_result)


if workflow_result and 'results' in workflow_result:
    results = workflow_result
    
    # Extract hypotheses
    hypotheses = results.get('generated_hypotheses', [])
    
    if hypotheses:
        display(HTML(f'<h3>🧠 Generated Hypotheses ({len(hypotheses)} total)</h3>'))
        
        for i, hypothesis in enumerate(hypotheses, 1):
            # Create hypothesis card
            html_content = f"""
            <div style="border: 1px solid #ddd; border-radius: 8px; padding: 15px; margin: 10px 0; background-color: #f9f9f9;">
                <h4 style="color: #2c3e50; margin-top: 0;">Hypothesis {i}</h4>
                <p><strong>ID:</strong> {hypothesis.get('hypothesis_id', 'N/A')}</p>
                <p><strong>Statement:</strong> {hypothesis.get('hypothesis', 'N/A')}</p>
                
                <div style="display: flex; gap: 20px; margin: 10px 0;">
                    <div>
                        <strong>Target Variable:</strong><br>
                        {hypothesis.get('target_variable', {}).get('name', 'N/A')}
                    </div>
                    <div>
                        <strong>Predictor Variable:</strong><br>
                        {hypothesis.get('predictor_variable', {}).get('name', 'N/A')}
                    </div>
                </div>
                
                <div style="display: flex; gap: 20px; margin: 10px 0;">
                    <div><strong>Relationship:</strong> {hypothesis.get('relationship_type', 'N/A')}</div>
                    <div><strong>Expected Impact:</strong> {hypothesis.get('expected_impact', 'N/A')}</div>
                    <div><strong>Confidence:</strong> {hypothesis.get('confidence', 'N/A'):.2f}</div>
                </div>
                
                <div style="margin-top: 10px;">
                    <strong>Research Support:</strong>
                    <ul>
            """
            
            research_support = hypothesis.get('research_support', [])
            if research_support:
                for support in research_support:
                    html_content += f"<li>{support}</li>"
            else:
                html_content += "<li>No research support provided</li>"
            
            html_content += """
                    </ul>
                </div>
            </div>
            """
            
            display(HTML(html_content))
    else:
        display(HTML('<h3>❌ No hypotheses generated</h3>'))
else:
    display(HTML('<h3>❌ No workflow results available</h3>'))






def display_hypothesis_visualizations(workflow_result):
    """Display visualizations from hypothesis testing results"""
    if not workflow_result:
        display(HTML('<h3>❌ No workflow results available for visualizations</h3>'))
        return
    
    # Extract EDA analysis results
    eda_results = workflow_result.get('eda_analysis_results', [])
    
    if not eda_results:
        display(HTML('<h3>📊 No hypothesis testing visualizations available</h3>'))
        return
    
    display(HTML('<h3>📊 Hypothesis Testing Visualizations</h3>'))
    
    # Group visualizations by hypothesis
    for i, result in enumerate(eda_results, 1):
        hypothesis = result.get('result', {}).get('hypothesis', {})
        hypothesis_id = hypothesis.get('hypothesis_id', f'hyp_{i}')
        hypothesis_text = hypothesis.get('hypothesis', 'No hypothesis text available')
        
        # Display hypothesis header
        display(HTML(f'''
        <div style="border: 2px solid #3498db; border-radius: 10px; padding: 15px; margin: 15px 0; background-color: #f8f9fa;">
            <h4 style="color: #2c3e50; margin-top: 0;">🧪 {hypothesis_id.upper()}</h4>
            <p style="font-style: italic; color: #7f8c8d;">{hypothesis_text}</p>
        </div>
        '''))
        
        # Get visualizations for this hypothesis
        visualizations = result.get('result', {}).get('visualizations', {})
        
        if visualizations:
            # Create a grid layout for visualizations
            display(HTML('<div style="display: flex; flex-wrap: wrap; gap: 20px; margin: 10px 0;">'))
            
            for viz_type, viz_path in visualizations.items():
                if isinstance(viz_path, str) and viz_path.endswith('.png'):
                    # Check if file exists
                    if os.path.exists(viz_path):
                        display(HTML(f'''
                        <div style="flex: 1; min-width: 300px; text-align: center;">
                            <h5 style="color: #34495e;">{viz_type.replace("_", " ").title()}</h5>
                        '''))
                        
                        from IPython.display import Image
                        display(Image(viz_path, width=400))
                        display(HTML('</div>'))
                    else:
                        display(HTML(f'<p style="color: orange;">⚠️ File not found: {viz_path}</p>'))
                else:
                    display(HTML(f'<p>Visualization data: {viz_path}</p>'))
            
            display(HTML('</div>'))
        else:
            display(HTML('<p style="color: #e74c3c;">❌ No visualizations available for this hypothesis</p>'))
        
        # Display correlation analysis results
        correlation_analysis = result.get('result', {}).get('correlation_analysis', {})
        if correlation_analysis and 'correlations' in correlation_analysis:
            display(HTML('<h5 style="color: #27ae60;">📈 Correlation Analysis Results:</h5>'))
            
            correlations = correlation_analysis['correlations']
            pearson = correlations.get('pearson', {})
            spearman = correlations.get('spearman', {})
            
            # Create a nice table for correlation results
            corr_html = '''
            <table style="border-collapse: collapse; width: 100%; margin: 10px 0;">
                <tr style="background-color: #ecf0f1;">
                    <th style="border: 1px solid #bdc3c7; padding: 8px;">Metric</th>
                    <th style="border: 1px solid #bdc3c7; padding: 8px;">Correlation</th>
                    <th style="border: 1px solid #bdc3c7; padding: 8px;">P-Value</th>
                    <th style="border: 1px solid #bdc3c7; padding: 8px;">Significant</th>
                </tr>
            '''
            
            # Pearson correlation
            corr_html += f'''
                <tr>
                    <td style="border: 1px solid #bdc3c7; padding: 8px;"><strong>Pearson</strong></td>
                    <td style="border: 1px solid #bdc3c7; padding: 8px;">{pearson.get('correlation', 'N/A')}</td>
                    <td style="border: 1px solid #bdc3c7; padding: 8px;">{pearson.get('p_value', 'N/A')}</td>
                    <td style="border: 1px solid #bdc3c7; padding: 8px;">{'✅' if pearson.get('significant', False) else '❌'}</td>
                </tr>
            '''
            
            # Spearman correlation
            corr_html += f'''
                <tr>
                    <td style="border: 1px solid #bdc3c7; padding: 8px;"><strong>Spearman</strong></td>
                    <td style="border: 1px solid #bdc3c7; padding: 8px;">{spearman.get('correlation', 'N/A')}</td>
                    <td style="border: 1px solid #bdc3c7; padding: 8px;">{spearman.get('p_value', 'N/A')}</td>
                    <td style="border: 1px solid #bdc3c7; padding: 8px;">{'✅' if spearman.get('significant', False) else '❌'}</td>
                </tr>
            '''
            
            corr_html += '</table>'
            display(HTML(corr_html))
        
        display(HTML('<hr style="margin: 30px 0; border: 1px solid #ecf0f1;">'))

# Call the function
display_hypothesis_visualizations(workflow_result)






def display_executive_summary(workflow_result):
    """Display a formatted executive summary"""
    if not workflow_result:
        display(HTML('<h3>❌ No workflow results available for executive summary</h3>'))
        return
    
    # Extract results section
    results = workflow_result.get('results', {})
    if not results:
        display(HTML('<h3>❌ No results available for executive summary</h3>'))
        return
    
    # Executive Summary Section
    exec_summary = results.get('executive_summary', {})
    if exec_summary:
        display(HTML('<h3>📋 Executive Summary</h3>'))
        
        # Overview
        overview = exec_summary.get('overview', {})
        if overview:
            display(HTML('''
            <div style="border: 2px solid #27ae60; border-radius: 10px; padding: 20px; margin: 15px 0; background-color: #f8fff8;">
                <h4 style="color: #27ae60; margin-top: 0;">🎯 Analysis Overview</h4>
            '''))
            
            for key, value in overview.items():
                if key == 'target_variable':
                    display(HTML(f'<p><strong>Target Variable:</strong> <span style="color: #e74c3c; font-weight: bold;">{value}</span></p>'))
                elif key == 'total_variables_analyzed':
                    display(HTML(f'<p><strong>Variables Analyzed:</strong> {value}</p>'))
                elif key == 'significant_relationships_found':
                    display(HTML(f'<p><strong>Significant Relationships:</strong> <span style="color: #27ae60; font-weight: bold;">{value}</span></p>'))
                elif key == 'data_quality_score':
                    score_color = '#27ae60' if value > 0.8 else '#f39c12' if value > 0.6 else '#e74c3c'
                    display(HTML(f'<p><strong>Data Quality Score:</strong> <span style="color: {score_color}; font-weight: bold;">{value:.2f}</span></p>'))
                elif key == 'analysis_confidence':
                    conf_color = '#27ae60' if value == 'high' else '#f39c12' if value == 'medium' else '#e74c3c'
                    display(HTML(f'<p><strong>Analysis Confidence:</strong> <span style="color: {conf_color}; font-weight: bold;">{value.upper()}</span></p>'))
                else:
                    display(HTML(f'<p><strong>{key.replace("_", " ").title()}:</strong> {value}</p>'))
            
            display(HTML('</div>'))
        
        # Key Findings
        key_findings = exec_summary.get('key_findings', [])
        if key_findings:
            display(HTML('''
            <div style="border: 2px solid #3498db; border-radius: 10px; padding: 20px; margin: 15px 0; background-color: #f8f9ff;">
                <h4 style="color: #3498db; margin-top: 0;">🔍 Key Findings</h4>
                <ul style="color: #2c3e50;">
            '''))
            
            for finding in key_findings:
                display(HTML(f'<li style="margin: 8px 0;">{finding}</li>'))
            
            display(HTML('</ul></div>'))
        
        # Critical Insights
        critical_insights = exec_summary.get('critical_insights', [])
        if critical_insights:
            display(HTML('''
            <div style="border: 2px solid #e74c3c; border-radius: 10px; padding: 20px; margin: 15px 0; background-color: #fff8f8;">
                <h4 style="color: #e74c3c; margin-top: 0;">⚠️ Critical Insights</h4>
                <ul style="color: #2c3e50;">
            '''))
            
            for insight in critical_insights:
                display(HTML(f'<li style="margin: 8px 0; font-weight: bold;">{insight}</li>'))
            
            display(HTML('</ul></div>'))
        
        # Feature Engineering Priority
        fe_priority = exec_summary.get('feature_engineering_priority', {})
        if fe_priority:
            display(HTML('''
            <div style="border: 2px solid #9b59b6; border-radius: 10px; padding: 20px; margin: 15px 0; background-color: #faf8ff;">
                <h4 style="color: #9b59b6; margin-top: 0;">⚙️ Feature Engineering Priority</h4>
            '''))
            
            for phase, details in fe_priority.items():
                if isinstance(details, dict):
                    display(HTML(f'''
                    <div style="border: 1px solid #bdc3c7; border-radius: 5px; padding: 15px; margin: 10px 0; background-color: white;">
                        <h5 style="color: #8e44ad; margin-top: 0;">{phase.replace("_", " ").title()}</h5>
                        <p><strong>Description:</strong> {details.get('description', 'N/A')}</p>
                        <p><strong>Estimated Effort:</strong> {details.get('estimated_effort', 'N/A')}</p>
                        <p><strong>Expected Impact:</strong> <span style="color: #27ae60; font-weight: bold;">{details.get('expected_impact', 'N/A')}</span></p>
                    </div>
                    '''))
            
            display(HTML('</div>'))
    
    # Modeling Recommendations
    modeling_recs = results.get('modeling_recommendations', [])
    if modeling_recs:
        display(HTML('''
        <div style="border: 2px solid #f39c12; border-radius: 10px; padding: 20px; margin: 15px 0; background-color: #fffbf0;">
            <h4 style="color: #f39c12; margin-top: 0;">🤖 Modeling Recommendations</h4>
            <ul style="color: #2c3e50;">
        '''))
        
        for rec in modeling_recs:
            if isinstance(rec, dict):
                category = rec.get('category', 'General')
                recommendation = rec.get('recommendation', 'N/A')
                rationale = rec.get('rationale', 'N/A')
                display(HTML(f'''
                <li style="margin: 10px 0;">
                    <strong>{category.replace("_", " ").title()}:</strong> {recommendation}<br>
                    <em style="color: #7f8c8d;">Rationale: {rationale}</em>
                </li>
                '''))
            else:
                display(HTML(f'<li style="margin: 8px 0;">{rec}</li>'))
        
        display(HTML('</ul></div>'))
    
    # Next Steps
    next_steps = results.get('next_steps', [])
    if next_steps:
        display(HTML('''
        <div style="border: 2px solid #16a085; border-radius: 10px; padding: 20px; margin: 15px 0; background-color: #f0fffe;">
            <h4 style="color: #16a085; margin-top: 0;">🚀 Next Steps</h4>
            <ol style="color: #2c3e50;">
        '''))
        
        for i, step in enumerate(next_steps, 1):
            display(HTML(f'<li style="margin: 8px 0;">{step}</li>'))
        
        display(HTML('</ol></div>'))
    
    # Success Metrics
    success_metrics = results.get('success_metrics', {})
    if success_metrics:
        display(HTML('''
        <div style="border: 2px solid #2ecc71; border-radius: 10px; padding: 20px; margin: 15px 0; background-color: #f0fff4;">
            <h4 style="color: #2ecc71; margin-top: 0;">📊 Success Metrics</h4>
        '''))
        
        model_targets = success_metrics.get('model_performance_targets', {})
        if model_targets:
            display(HTML('<h5 style="color: #27ae60;">Model Performance Targets:</h5>'))
            for metric, target in model_targets.items():
                display(HTML(f'<p><strong>{metric.upper()}:</strong> {target}</p>'))
        
        feature_thresholds = success_metrics.get('feature_importance_thresholds', {})
        if feature_thresholds:
            display(HTML('<h5 style="color: #27ae60;">Feature Importance Thresholds:</h5>'))
            for feature, threshold in feature_thresholds.items():
                display(HTML(f'<p><strong>{feature.replace("_", " ").title()}:</strong> {threshold}</p>'))
        
        display(HTML('</div>'))

# Call the function
display_executive_summary(workflow_result)






def display_hypothesis_testing_results(workflow_result):
    """Display detailed hypothesis testing results with correlations and recommendations"""
    if not workflow_result:
        display(HTML('<h3>❌ No workflow results available for hypothesis testing results</h3>'))
        return
    
    # Extract EDA analysis results
    eda_results = workflow_result.get('eda_analysis_results', [])
    
    if not eda_results:
        display(HTML('<h3>🧪 No hypothesis testing results available</h3>'))
        return
    
    display(HTML('<h3>🧪 Hypothesis Testing Results</h3>'))
    
    # Create summary statistics
    total_hypotheses = len(eda_results)
    successful_tests = sum(1 for result in eda_results if result.get('status') == 'success')
    failed_tests = total_hypotheses - successful_tests
    
    # Display summary
    display(HTML(f'''
    <div style="border: 2px solid #3498db; border-radius: 10px; padding: 20px; margin: 15px 0; background-color: #f8f9ff;">
        <h4 style="color: #3498db; margin-top: 0;">📊 Testing Summary</h4>
        <div style="display: flex; gap: 30px; margin: 10px 0;">
            <div><strong>Total Hypotheses:</strong> {total_hypotheses}</div>
            <div style="color: #27ae60;"><strong>Successful:</strong> {successful_tests}</div>
            <div style="color: #e74c3c;"><strong>Failed:</strong> {failed_tests}</div>
            <div><strong>Success Rate:</strong> {(successful_tests/total_hypotheses*100):.1f}%</div>
        </div>
    </div>
    '''))
    
    # Display detailed results for each hypothesis
    for i, result in enumerate(eda_results, 1):
        hypothesis = result.get('result', {}).get('hypothesis', {})
        hypothesis_id = hypothesis.get('hypothesis_id', f'hyp_{i}')
        hypothesis_text = hypothesis.get('hypothesis', 'No hypothesis text available')
        status = result.get('status', 'unknown')
        
        # Status color coding
        status_color = '#27ae60' if status == 'success' else '#e74c3c'
        status_icon = '✅' if status == 'success' else '❌'
        
        # Display hypothesis header
        display(HTML(f'''
        <div style="border: 2px solid {status_color}; border-radius: 10px; padding: 20px; margin: 20px 0; background-color: #f8fff8 if status == 'success' else #fff8f8;">
            <h4 style="color: #2c3e50; margin-top: 0;">{status_icon} {hypothesis_id.upper()} - {status.upper()}</h4>
            <p style="font-style: italic; color: #7f8c8d; margin-bottom: 15px;">{hypothesis_text}</p>
        </div>
        '''))
        
        # Extract variables
        target_var = hypothesis.get('target_variable', {})
        predictor_var = hypothesis.get('predictor_variable', {})
        
        display(HTML(f'''
        <div style="display: flex; gap: 20px; margin: 10px 0; padding: 15px; background-color: #f8f9fa; border-radius: 5px;">
            <div style="flex: 1;">
                <strong>Target Variable:</strong><br>
                <span style="color: #e74c3c;">{target_var.get('name', 'N/A')}</span> ({target_var.get('alias', 'N/A')})
            </div>
            <div style="flex: 1;">
                <strong>Predictor Variable:</strong><br>
                <span style="color: #3498db;">{predictor_var.get('name', 'N/A')}</span> ({predictor_var.get('alias', 'N/A')})
            </div>
            <div style="flex: 1;">
                <strong>Expected Impact:</strong><br>
                <span style="color: #27ae60;">{hypothesis.get('expected_impact', 'N/A')}</span>
            </div>
        </div>
        '''))
        
        # Correlation Analysis Results
        correlation_analysis = result.get('result', {}).get('correlation_analysis', {})
        
        if correlation_analysis and 'correlations' in correlation_analysis:
            correlations = correlation_analysis['correlations']
            pearson = correlations.get('pearson', {})
            spearman = correlations.get('spearman', {})
            
            # Check if we have valid correlation data
            has_valid_correlations = (
                pearson.get('correlation') is not None and 
                not pd.isna(pearson.get('correlation', float('nan'))) and
                spearman.get('correlation') is not None and 
                not pd.isna(spearman.get('correlation', float('nan')))
            )
            
            if has_valid_correlations:
                display(HTML('<h5 style="color: #27ae60;">📈 Correlation Analysis Results:</h5>'))
                
                # Create detailed correlation table
                corr_html = '''
                <table style="border-collapse: collapse; width: 100%; margin: 10px 0; box-shadow: 0 2px 4px rgba(0,0,0,0.1);">
                    <tr style="background-color: #34495e; color: white;">
                        <th style="border: 1px solid #2c3e50; padding: 12px; text-align: left;">Metric</th>
                        <th style="border: 1px solid #2c3e50; padding: 12px; text-align: center;">Correlation</th>
                        <th style="border: 1px solid #2c3e50; padding: 12px; text-align: center;">P-Value</th>
                        <th style="border: 1px solid #2c3e50; padding: 12px; text-align: center;">Significant</th>
                        <th style="border: 1px solid #2c3e50; padding: 12px; text-align: center;">Strength</th>
                    </tr>
                '''
                
                # Helper function to get correlation strength
                def get_correlation_strength(corr):
                    if corr is None or pd.isna(corr):
                        return "N/A"
                    abs_corr = abs(corr)
                    if abs_corr >= 0.7:
                        return "Strong"
                    elif abs_corr >= 0.3:
                        return "Moderate"
                    else:
                        return "Weak"
                
                # Pearson correlation
                pearson_corr = pearson.get('correlation', 0)
                pearson_p = pearson.get('p_value', 1)
                pearson_sig = pearson.get('significant', False)
                pearson_strength = get_correlation_strength(pearson_corr)
                
                corr_html += f'''
                    <tr style="background-color: #ecf0f1;">
                        <td style="border: 1px solid #bdc3c7; padding: 12px;"><strong>Pearson</strong></td>
                        <td style="border: 1px solid #bdc3c7; padding: 12px; text-align: center; font-weight: bold;">{pearson_corr:.4f}</td>
                        <td style="border: 1px solid #bdc3c7; padding: 12px; text-align: center;">{pearson_p:.4f}</td>
                        <td style="border: 1px solid #bdc3c7; padding: 12px; text-align: center;">{'✅' if pearson_sig else '❌'}</td>
                        <td style="border: 1px solid #bdc3c7; padding: 12px; text-align: center; color: {'#27ae60' if pearson_strength == 'Strong' else '#f39c12' if pearson_strength == 'Moderate' else '#e74c3c'}; font-weight: bold;">{pearson_strength}</td>
                    </tr>
                '''
                
                # Spearman correlation
                spearman_corr = spearman.get('correlation', 0)
                spearman_p = spearman.get('p_value', 1)
                spearman_sig = spearman.get('significant', False)
                spearman_strength = get_correlation_strength(spearman_corr)
                
                corr_html += f'''
                    <tr style="background-color: #d5dbdb;">
                        <td style="border: 1px solid #bdc3c7; padding: 12px;"><strong>Spearman</strong></td>
                        <td style="border: 1px solid #bdc3c7; padding: 12px; text-align: center; font-weight: bold;">{spearman_corr:.4f}</td>
                        <td style="border: 1px solid #bdc3c7; padding: 12px; text-align: center;">{spearman_p:.4f}</td>
                        <td style="border: 1px solid #bdc3c7; padding: 12px; text-align: center;">{'✅' if spearman_sig else '❌'}</td>
                        <td style="border: 1px solid #bdc3c7; padding: 12px; text-align: center; color: {'#27ae60' if spearman_strength == 'Strong' else '#f39c12' if spearman_strength == 'Moderate' else '#e74c3c'}; font-weight: bold;">{spearman_strength}</td>
                    </tr>
                '''
                
                corr_html += '</table>'
                display(HTML(corr_html))
                
                # Hypothesis Support Analysis
                hypothesis_support = correlation_analysis.get('hypothesis_support', {})
                if hypothesis_support:
                    display(HTML('<h5 style="color: #8e44ad;">🎯 Hypothesis Support Analysis:</h5>'))
                    
                    direction_match = hypothesis_support.get('direction_match', False)
                    significant = hypothesis_support.get('significant', False)
                    support_score = hypothesis_support.get('support_score', 0)
                    expected_impact = hypothesis_support.get('expected_impact', 'unknown')
                    actual_correlation = hypothesis_support.get('actual_correlation', 0)
                    
                    # Determine overall support level
                    if significant and direction_match and support_score > 0.5:
                        support_level = "Strong Support"
                        support_color = "#27ae60"
                    elif (significant and direction_match) or support_score > 0.3:
                        support_level = "Moderate Support"
                        support_color = "#f39c12"
                    else:
                        support_level = "Weak Support"
                        support_color = "#e74c3c"
                    
                    display(HTML(f'''
                    <div style="border: 2px solid {support_color}; border-radius: 8px; padding: 15px; margin: 10px 0; background-color: #f8fff8;">
                        <h6 style="color: {support_color}; margin-top: 0;">Overall Assessment: {support_level}</h6>
                        <div style="display: grid; grid-template-columns: 1fr 1fr; gap: 15px; margin: 10px 0;">
                            <div>
                                <strong>Direction Match:</strong> {'✅' if direction_match else '❌'} {expected_impact} → {actual_correlation:.3f}<br>
                                <strong>Statistical Significance:</strong> {'✅' if significant else '❌'}<br>
                                <strong>Support Score:</strong> {support_score:.3f}
                            </div>
                            <div>
                                <strong>Recommendation:</strong><br>
                                {get_hypothesis_recommendation(support_level, direction_match, significant, support_score)}
                            </div>
                        </div>
                    </div>
                    '''))
                
                # Statistical Summary
                statistics = correlation_analysis.get('statistics', {})
                if statistics:
                    display(HTML('<h5 style="color: #16a085;">📊 Statistical Summary:</h5>'))
                    display(HTML(f'''
                    <div style="display: flex; gap: 20px; margin: 10px 0; padding: 15px; background-color: #f0fffe; border-radius: 5px;">
                        <div><strong>Sample Size:</strong> {statistics.get('sample_size', 'N/A')}</div>
                        <div><strong>Target Mean:</strong> {statistics.get('target_mean', 'N/A'):.3f}</div>
                        <div><strong>Predictor Mean:</strong> {statistics.get('predictor_mean', 'N/A'):.3f}</div>
                    </div>
                    '''))
            
            else:
                # Handle cases with insufficient data or errors
                error_msg = correlation_analysis.get('error', 'No correlation data available')
                display(HTML(f'''
                <div style="border: 2px solid #e74c3c; border-radius: 8px; padding: 15px; margin: 10px 0; background-color: #fff8f8;">
                    <h5 style="color: #e74c3c; margin-top: 0;">⚠️ Analysis Issue</h5>
                    <p style="color: #2c3e50;">{error_msg}</p>
                </div>
                '''))
        
        # Feature Engineering Insights
        fe_insights = result.get('result', {}).get('feature_engineering_insights', {})
        if fe_insights:
            display(HTML('<h5 style="color: #9b59b6;">⚙️ Feature Engineering Insights:</h5>'))
            
            relationship_strength = fe_insights.get('relationship_strength', 'unknown')
            feature_importance = fe_insights.get('feature_importance', 'unknown')
            recommendations = fe_insights.get('engineering_recommendations', [])
            
            display(HTML(f'''
            <div style="border: 1px solid #bdc3c7; border-radius: 5px; padding: 15px; margin: 10px 0; background-color: #faf8ff;">
                <div style="display: flex; gap: 20px; margin: 10px 0;">
                    <div><strong>Relationship Strength:</strong> <span style="color: #8e44ad;">{relationship_strength}</span></div>
                    <div><strong>Feature Importance:</strong> <span style="color: #8e44ad;">{feature_importance}</span></div>
                </div>
            '''))
            
            if recommendations:
                display(HTML('<strong>Recommendations:</strong><ul>'))
                for rec in recommendations:
                    display(HTML(f'<li style="margin: 5px 0;">{rec}</li>'))
                display(HTML('</ul>'))
            
            display(HTML('</div>'))
        
        display(HTML('<hr style="margin: 30px 0; border: 1px solid #ecf0f1;">'))

def get_hypothesis_recommendation(support_level, direction_match, significant, support_score):
    """Generate recommendation based on hypothesis support analysis"""
    if support_level == "Strong Support":
        return "✅ <strong>Strong evidence</strong> - Consider this variable as a primary feature in your model."
    elif support_level == "Moderate Support":
        return "⚠️ <strong>Moderate evidence</strong> - Include as secondary feature, but validate with additional data."
    elif significant and not direction_match:
        return "🔄 <strong>Significant but opposite direction</strong> - Investigate data quality and variable definitions."
    elif direction_match and not significant:
        return "📊 <strong>Directional match but not significant</strong> - Consider larger sample size or different transformation."
    else:
        return "❌ <strong>Weak evidence</strong> - Exclude from primary model, but keep for exploratory analysis."

# Call the function
display_hypothesis_testing_results(workflow_result)






if workflow_result and 'results' in workflow_result:
    results = workflow_result['results']
    
    display(HTML('<h3>🎯 Final Analysis Results</h3>'))
    
    # Display summary insights
    summary = results.get('summary', {})
    if summary:
        display(HTML('<h4>📋 Summary</h4>'))
        for key, value in summary.items():
            display(HTML(f'<p><strong>{key.replace("_", " ").title()}:</strong> {value}</p>'))
    
    # Display insights
    insights = results.get('insights', [])
    if insights:
        display(HTML('<h4>💡 Key Insights</h4>'))
        for i, insight in enumerate(insights, 1):
            display(HTML(f'<p>{i}. {insight}</p>'))
    
    # Display recommendations
    recommendations = results.get('recommendations', [])
    if recommendations:
        display(HTML('<h4>🎯 Recommendations</h4>'))
        for i, rec in enumerate(recommendations, 1):
            display(HTML(f'<p>{i}. {rec}</p>'))
    
    # Display any additional results
    additional_keys = [key for key in results.keys() 
                     if key not in ['generated_hypotheses', 'visualizations', 'summary', 'insights', 'recommendations']]
    
    if additional_keys:
        display(HTML('<h4>📊 Additional Results</h4>'))
        for key in additional_keys:
            display(HTML(f'<h5>{key.replace("_", " ").title()}</h5>'))
            display(HTML(f'<pre>{json.dumps(results[key], indent=2)}</pre>'))
else:
    display(HTML('<h3>❌ No final results available</h3>'))






if workflow_result:
    display(HTML('<h3>🔍 Raw Results (JSON)</h3>'))
    display(HTML(f'<pre style="background-color: #f5f5f5; padding: 15px; border-radius: 5px; overflow-x: auto;">{json.dumps(workflow_result, indent=2, default=str)}</pre>'))
else:
    display(HTML('<h3>❌ No raw results available</h3>'))




